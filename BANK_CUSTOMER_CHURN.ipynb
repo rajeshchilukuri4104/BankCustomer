{
  "nbformat": 4,
  "nbformat_minor": 0,
  "metadata": {
    "colab": {
      "provenance": []
    },
    "kernelspec": {
      "name": "python3",
      "display_name": "Python 3"
    },
    "language_info": {
      "name": "python"
    }
  },
  "cells": [
    {
      "cell_type": "markdown",
      "source": [
        "#BANK CUSTOMER CHURN MODEL PROJECT"
      ],
      "metadata": {
        "id": "HK7xBJ_vsyPr"
      }
    },
    {
      "cell_type": "markdown",
      "source": [
        "OBJECTIVE:Develop a customer churn prediction system for a bank using machine learning to identify customers who are likely to leave the bank in the near future. The objective is to reduce customer churn by proactively taking actions to retain at-risk customers and improve customer satisfaction.\n",
        "\n"
      ],
      "metadata": {
        "id": "OL7WB2P7tVfa"
      }
    },
    {
      "cell_type": "markdown",
      "source": [
        "DATA SOURCE:\n",
        "Customer Data: Gather comprehensive customer information, including demographics (age, gender, marital status, etc.), account details (account type, balance, tenure, etc.), and transaction history. This data can be obtained from the bank's internal database.\n",
        "\n",
        "Churn Labels: Create a dataset that contains labels indicating whether each customer has churned or not. This information can be obtained from historical records of customers who have closed their accounts or stopped using the bank's services.\n",
        "\n",
        "Customer Interactions: Collect data on customer interactions with the bank, such as customer service inquiries, complaints, and feedback. This can provide insights into customer satisfaction and potential issues leading to churn.\n",
        "\n",
        "Credit Score Data: Incorporate credit score information for customers if available. A low credit score can be an indicator of financial instability, which may correlate with churn.\n",
        "\n",
        "Market Data: Include economic and market-related data that could impact a customer's decision to churn, such as interest rates, inflation rates, and unemployment rates.\n",
        "\n",
        "Customer Surveys: Conduct customer surveys to gather additional insights into customer satisfaction, reasons for considering churn, and feedback on the bank's services.\n",
        "\n",
        "External Data: Depending on the bank's location and services, external data sources such as social media sentiment analysis or industry-specific trends can be used to enrich the dataset."
      ],
      "metadata": {
        "id": "CEKAJg7-tdFF"
      }
    },
    {
      "cell_type": "markdown",
      "source": [
        "#IMPORT LIBRARIES"
      ],
      "metadata": {
        "id": "ISxGPYQit3zK"
      }
    },
    {
      "cell_type": "code",
      "source": [
        "import pandas as pd\n",
        "import numpy as np\n",
        "import seaborn as sns\n",
        "import matplotlib.pyplot as plt\n",
        "%matplotlib inline"
      ],
      "metadata": {
        "id": "fN70ZcD4tb4z"
      },
      "execution_count": 1,
      "outputs": []
    },
    {
      "cell_type": "code",
      "source": [
        "df = pd.read_csv('https://raw.githubusercontent.com/YBI-Foundation/Dataset/main/Bank%20Churn%20Modelling.csv')"
      ],
      "metadata": {
        "id": "Ar2aXhTMubbZ"
      },
      "execution_count": 2,
      "outputs": []
    },
    {
      "cell_type": "markdown",
      "source": [
        "#EXPLORATORY DATA ANALYSIS"
      ],
      "metadata": {
        "id": "Ddke5Mo5uso9"
      }
    },
    {
      "cell_type": "code",
      "source": [
        "df.head()"
      ],
      "metadata": {
        "colab": {
          "base_uri": "https://localhost:8080/",
          "height": 206
        },
        "id": "M-SaTIa6un5P",
        "outputId": "68438059-aa9c-4c00-e41f-24c5f5766f75"
      },
      "execution_count": 3,
      "outputs": [
        {
          "output_type": "execute_result",
          "data": {
            "text/plain": [
              "   CustomerId   Surname  CreditScore Geography  Gender  Age  Tenure  \\\n",
              "0    15634602  Hargrave          619    France  Female   42       2   \n",
              "1    15647311      Hill          608     Spain  Female   41       1   \n",
              "2    15619304      Onio          502    France  Female   42       8   \n",
              "3    15701354      Boni          699    France  Female   39       1   \n",
              "4    15737888  Mitchell          850     Spain  Female   43       2   \n",
              "\n",
              "     Balance  Num Of Products  Has Credit Card  Is Active Member  \\\n",
              "0       0.00                1                1                 1   \n",
              "1   83807.86                1                0                 1   \n",
              "2  159660.80                3                1                 0   \n",
              "3       0.00                2                0                 0   \n",
              "4  125510.82                1                1                 1   \n",
              "\n",
              "   Estimated Salary  Churn  \n",
              "0         101348.88      1  \n",
              "1         112542.58      0  \n",
              "2         113931.57      1  \n",
              "3          93826.63      0  \n",
              "4          79084.10      0  "
            ],
            "text/html": [
              "\n",
              "  <div id=\"df-01079c22-1187-4c55-902c-474a9fd37ee3\" class=\"colab-df-container\">\n",
              "    <div>\n",
              "<style scoped>\n",
              "    .dataframe tbody tr th:only-of-type {\n",
              "        vertical-align: middle;\n",
              "    }\n",
              "\n",
              "    .dataframe tbody tr th {\n",
              "        vertical-align: top;\n",
              "    }\n",
              "\n",
              "    .dataframe thead th {\n",
              "        text-align: right;\n",
              "    }\n",
              "</style>\n",
              "<table border=\"1\" class=\"dataframe\">\n",
              "  <thead>\n",
              "    <tr style=\"text-align: right;\">\n",
              "      <th></th>\n",
              "      <th>CustomerId</th>\n",
              "      <th>Surname</th>\n",
              "      <th>CreditScore</th>\n",
              "      <th>Geography</th>\n",
              "      <th>Gender</th>\n",
              "      <th>Age</th>\n",
              "      <th>Tenure</th>\n",
              "      <th>Balance</th>\n",
              "      <th>Num Of Products</th>\n",
              "      <th>Has Credit Card</th>\n",
              "      <th>Is Active Member</th>\n",
              "      <th>Estimated Salary</th>\n",
              "      <th>Churn</th>\n",
              "    </tr>\n",
              "  </thead>\n",
              "  <tbody>\n",
              "    <tr>\n",
              "      <th>0</th>\n",
              "      <td>15634602</td>\n",
              "      <td>Hargrave</td>\n",
              "      <td>619</td>\n",
              "      <td>France</td>\n",
              "      <td>Female</td>\n",
              "      <td>42</td>\n",
              "      <td>2</td>\n",
              "      <td>0.00</td>\n",
              "      <td>1</td>\n",
              "      <td>1</td>\n",
              "      <td>1</td>\n",
              "      <td>101348.88</td>\n",
              "      <td>1</td>\n",
              "    </tr>\n",
              "    <tr>\n",
              "      <th>1</th>\n",
              "      <td>15647311</td>\n",
              "      <td>Hill</td>\n",
              "      <td>608</td>\n",
              "      <td>Spain</td>\n",
              "      <td>Female</td>\n",
              "      <td>41</td>\n",
              "      <td>1</td>\n",
              "      <td>83807.86</td>\n",
              "      <td>1</td>\n",
              "      <td>0</td>\n",
              "      <td>1</td>\n",
              "      <td>112542.58</td>\n",
              "      <td>0</td>\n",
              "    </tr>\n",
              "    <tr>\n",
              "      <th>2</th>\n",
              "      <td>15619304</td>\n",
              "      <td>Onio</td>\n",
              "      <td>502</td>\n",
              "      <td>France</td>\n",
              "      <td>Female</td>\n",
              "      <td>42</td>\n",
              "      <td>8</td>\n",
              "      <td>159660.80</td>\n",
              "      <td>3</td>\n",
              "      <td>1</td>\n",
              "      <td>0</td>\n",
              "      <td>113931.57</td>\n",
              "      <td>1</td>\n",
              "    </tr>\n",
              "    <tr>\n",
              "      <th>3</th>\n",
              "      <td>15701354</td>\n",
              "      <td>Boni</td>\n",
              "      <td>699</td>\n",
              "      <td>France</td>\n",
              "      <td>Female</td>\n",
              "      <td>39</td>\n",
              "      <td>1</td>\n",
              "      <td>0.00</td>\n",
              "      <td>2</td>\n",
              "      <td>0</td>\n",
              "      <td>0</td>\n",
              "      <td>93826.63</td>\n",
              "      <td>0</td>\n",
              "    </tr>\n",
              "    <tr>\n",
              "      <th>4</th>\n",
              "      <td>15737888</td>\n",
              "      <td>Mitchell</td>\n",
              "      <td>850</td>\n",
              "      <td>Spain</td>\n",
              "      <td>Female</td>\n",
              "      <td>43</td>\n",
              "      <td>2</td>\n",
              "      <td>125510.82</td>\n",
              "      <td>1</td>\n",
              "      <td>1</td>\n",
              "      <td>1</td>\n",
              "      <td>79084.10</td>\n",
              "      <td>0</td>\n",
              "    </tr>\n",
              "  </tbody>\n",
              "</table>\n",
              "</div>\n",
              "    <div class=\"colab-df-buttons\">\n",
              "\n",
              "  <div class=\"colab-df-container\">\n",
              "    <button class=\"colab-df-convert\" onclick=\"convertToInteractive('df-01079c22-1187-4c55-902c-474a9fd37ee3')\"\n",
              "            title=\"Convert this dataframe to an interactive table.\"\n",
              "            style=\"display:none;\">\n",
              "\n",
              "  <svg xmlns=\"http://www.w3.org/2000/svg\" height=\"24px\" viewBox=\"0 -960 960 960\">\n",
              "    <path d=\"M120-120v-720h720v720H120Zm60-500h600v-160H180v160Zm220 220h160v-160H400v160Zm0 220h160v-160H400v160ZM180-400h160v-160H180v160Zm440 0h160v-160H620v160ZM180-180h160v-160H180v160Zm440 0h160v-160H620v160Z\"/>\n",
              "  </svg>\n",
              "    </button>\n",
              "\n",
              "  <style>\n",
              "    .colab-df-container {\n",
              "      display:flex;\n",
              "      gap: 12px;\n",
              "    }\n",
              "\n",
              "    .colab-df-convert {\n",
              "      background-color: #E8F0FE;\n",
              "      border: none;\n",
              "      border-radius: 50%;\n",
              "      cursor: pointer;\n",
              "      display: none;\n",
              "      fill: #1967D2;\n",
              "      height: 32px;\n",
              "      padding: 0 0 0 0;\n",
              "      width: 32px;\n",
              "    }\n",
              "\n",
              "    .colab-df-convert:hover {\n",
              "      background-color: #E2EBFA;\n",
              "      box-shadow: 0px 1px 2px rgba(60, 64, 67, 0.3), 0px 1px 3px 1px rgba(60, 64, 67, 0.15);\n",
              "      fill: #174EA6;\n",
              "    }\n",
              "\n",
              "    .colab-df-buttons div {\n",
              "      margin-bottom: 4px;\n",
              "    }\n",
              "\n",
              "    [theme=dark] .colab-df-convert {\n",
              "      background-color: #3B4455;\n",
              "      fill: #D2E3FC;\n",
              "    }\n",
              "\n",
              "    [theme=dark] .colab-df-convert:hover {\n",
              "      background-color: #434B5C;\n",
              "      box-shadow: 0px 1px 3px 1px rgba(0, 0, 0, 0.15);\n",
              "      filter: drop-shadow(0px 1px 2px rgba(0, 0, 0, 0.3));\n",
              "      fill: #FFFFFF;\n",
              "    }\n",
              "  </style>\n",
              "\n",
              "    <script>\n",
              "      const buttonEl =\n",
              "        document.querySelector('#df-01079c22-1187-4c55-902c-474a9fd37ee3 button.colab-df-convert');\n",
              "      buttonEl.style.display =\n",
              "        google.colab.kernel.accessAllowed ? 'block' : 'none';\n",
              "\n",
              "      async function convertToInteractive(key) {\n",
              "        const element = document.querySelector('#df-01079c22-1187-4c55-902c-474a9fd37ee3');\n",
              "        const dataTable =\n",
              "          await google.colab.kernel.invokeFunction('convertToInteractive',\n",
              "                                                    [key], {});\n",
              "        if (!dataTable) return;\n",
              "\n",
              "        const docLinkHtml = 'Like what you see? Visit the ' +\n",
              "          '<a target=\"_blank\" href=https://colab.research.google.com/notebooks/data_table.ipynb>data table notebook</a>'\n",
              "          + ' to learn more about interactive tables.';\n",
              "        element.innerHTML = '';\n",
              "        dataTable['output_type'] = 'display_data';\n",
              "        await google.colab.output.renderOutput(dataTable, element);\n",
              "        const docLink = document.createElement('div');\n",
              "        docLink.innerHTML = docLinkHtml;\n",
              "        element.appendChild(docLink);\n",
              "      }\n",
              "    </script>\n",
              "  </div>\n",
              "\n",
              "\n",
              "<div id=\"df-39133487-f7af-46cd-9260-c207f5213be1\">\n",
              "  <button class=\"colab-df-quickchart\" onclick=\"quickchart('df-39133487-f7af-46cd-9260-c207f5213be1')\"\n",
              "            title=\"Suggest charts.\"\n",
              "            style=\"display:none;\">\n",
              "\n",
              "<svg xmlns=\"http://www.w3.org/2000/svg\" height=\"24px\"viewBox=\"0 0 24 24\"\n",
              "     width=\"24px\">\n",
              "    <g>\n",
              "        <path d=\"M19 3H5c-1.1 0-2 .9-2 2v14c0 1.1.9 2 2 2h14c1.1 0 2-.9 2-2V5c0-1.1-.9-2-2-2zM9 17H7v-7h2v7zm4 0h-2V7h2v10zm4 0h-2v-4h2v4z\"/>\n",
              "    </g>\n",
              "</svg>\n",
              "  </button>\n",
              "\n",
              "<style>\n",
              "  .colab-df-quickchart {\n",
              "      --bg-color: #E8F0FE;\n",
              "      --fill-color: #1967D2;\n",
              "      --hover-bg-color: #E2EBFA;\n",
              "      --hover-fill-color: #174EA6;\n",
              "      --disabled-fill-color: #AAA;\n",
              "      --disabled-bg-color: #DDD;\n",
              "  }\n",
              "\n",
              "  [theme=dark] .colab-df-quickchart {\n",
              "      --bg-color: #3B4455;\n",
              "      --fill-color: #D2E3FC;\n",
              "      --hover-bg-color: #434B5C;\n",
              "      --hover-fill-color: #FFFFFF;\n",
              "      --disabled-bg-color: #3B4455;\n",
              "      --disabled-fill-color: #666;\n",
              "  }\n",
              "\n",
              "  .colab-df-quickchart {\n",
              "    background-color: var(--bg-color);\n",
              "    border: none;\n",
              "    border-radius: 50%;\n",
              "    cursor: pointer;\n",
              "    display: none;\n",
              "    fill: var(--fill-color);\n",
              "    height: 32px;\n",
              "    padding: 0;\n",
              "    width: 32px;\n",
              "  }\n",
              "\n",
              "  .colab-df-quickchart:hover {\n",
              "    background-color: var(--hover-bg-color);\n",
              "    box-shadow: 0 1px 2px rgba(60, 64, 67, 0.3), 0 1px 3px 1px rgba(60, 64, 67, 0.15);\n",
              "    fill: var(--button-hover-fill-color);\n",
              "  }\n",
              "\n",
              "  .colab-df-quickchart-complete:disabled,\n",
              "  .colab-df-quickchart-complete:disabled:hover {\n",
              "    background-color: var(--disabled-bg-color);\n",
              "    fill: var(--disabled-fill-color);\n",
              "    box-shadow: none;\n",
              "  }\n",
              "\n",
              "  .colab-df-spinner {\n",
              "    border: 2px solid var(--fill-color);\n",
              "    border-color: transparent;\n",
              "    border-bottom-color: var(--fill-color);\n",
              "    animation:\n",
              "      spin 1s steps(1) infinite;\n",
              "  }\n",
              "\n",
              "  @keyframes spin {\n",
              "    0% {\n",
              "      border-color: transparent;\n",
              "      border-bottom-color: var(--fill-color);\n",
              "      border-left-color: var(--fill-color);\n",
              "    }\n",
              "    20% {\n",
              "      border-color: transparent;\n",
              "      border-left-color: var(--fill-color);\n",
              "      border-top-color: var(--fill-color);\n",
              "    }\n",
              "    30% {\n",
              "      border-color: transparent;\n",
              "      border-left-color: var(--fill-color);\n",
              "      border-top-color: var(--fill-color);\n",
              "      border-right-color: var(--fill-color);\n",
              "    }\n",
              "    40% {\n",
              "      border-color: transparent;\n",
              "      border-right-color: var(--fill-color);\n",
              "      border-top-color: var(--fill-color);\n",
              "    }\n",
              "    60% {\n",
              "      border-color: transparent;\n",
              "      border-right-color: var(--fill-color);\n",
              "    }\n",
              "    80% {\n",
              "      border-color: transparent;\n",
              "      border-right-color: var(--fill-color);\n",
              "      border-bottom-color: var(--fill-color);\n",
              "    }\n",
              "    90% {\n",
              "      border-color: transparent;\n",
              "      border-bottom-color: var(--fill-color);\n",
              "    }\n",
              "  }\n",
              "</style>\n",
              "\n",
              "  <script>\n",
              "    async function quickchart(key) {\n",
              "      const quickchartButtonEl =\n",
              "        document.querySelector('#' + key + ' button');\n",
              "      quickchartButtonEl.disabled = true;  // To prevent multiple clicks.\n",
              "      quickchartButtonEl.classList.add('colab-df-spinner');\n",
              "      try {\n",
              "        const charts = await google.colab.kernel.invokeFunction(\n",
              "            'suggestCharts', [key], {});\n",
              "      } catch (error) {\n",
              "        console.error('Error during call to suggestCharts:', error);\n",
              "      }\n",
              "      quickchartButtonEl.classList.remove('colab-df-spinner');\n",
              "      quickchartButtonEl.classList.add('colab-df-quickchart-complete');\n",
              "    }\n",
              "    (() => {\n",
              "      let quickchartButtonEl =\n",
              "        document.querySelector('#df-39133487-f7af-46cd-9260-c207f5213be1 button');\n",
              "      quickchartButtonEl.style.display =\n",
              "        google.colab.kernel.accessAllowed ? 'block' : 'none';\n",
              "    })();\n",
              "  </script>\n",
              "</div>\n",
              "    </div>\n",
              "  </div>\n"
            ]
          },
          "metadata": {},
          "execution_count": 3
        }
      ]
    },
    {
      "cell_type": "code",
      "source": [
        "df.tail()"
      ],
      "metadata": {
        "colab": {
          "base_uri": "https://localhost:8080/",
          "height": 206
        },
        "id": "AJLT-vmyu5ck",
        "outputId": "44691fea-c9ee-4914-e50b-b86986715f59"
      },
      "execution_count": 4,
      "outputs": [
        {
          "output_type": "execute_result",
          "data": {
            "text/plain": [
              "      CustomerId    Surname  CreditScore Geography  Gender  Age  Tenure  \\\n",
              "9995    15606229   Obijiaku          771    France    Male   39       5   \n",
              "9996    15569892  Johnstone          516    France    Male   35      10   \n",
              "9997    15584532        Liu          709    France  Female   36       7   \n",
              "9998    15682355  Sabbatini          772   Germany    Male   42       3   \n",
              "9999    15628319     Walker          792    France  Female   28       4   \n",
              "\n",
              "        Balance  Num Of Products  Has Credit Card  Is Active Member  \\\n",
              "9995       0.00                2                1                 0   \n",
              "9996   57369.61                1                1                 1   \n",
              "9997       0.00                1                0                 1   \n",
              "9998   75075.31                2                1                 0   \n",
              "9999  130142.79                1                1                 0   \n",
              "\n",
              "      Estimated Salary  Churn  \n",
              "9995          96270.64      0  \n",
              "9996         101699.77      0  \n",
              "9997          42085.58      1  \n",
              "9998          92888.52      1  \n",
              "9999          38190.78      0  "
            ],
            "text/html": [
              "\n",
              "  <div id=\"df-83bd36a1-ca7a-4f91-af78-fe8fbffd12fd\" class=\"colab-df-container\">\n",
              "    <div>\n",
              "<style scoped>\n",
              "    .dataframe tbody tr th:only-of-type {\n",
              "        vertical-align: middle;\n",
              "    }\n",
              "\n",
              "    .dataframe tbody tr th {\n",
              "        vertical-align: top;\n",
              "    }\n",
              "\n",
              "    .dataframe thead th {\n",
              "        text-align: right;\n",
              "    }\n",
              "</style>\n",
              "<table border=\"1\" class=\"dataframe\">\n",
              "  <thead>\n",
              "    <tr style=\"text-align: right;\">\n",
              "      <th></th>\n",
              "      <th>CustomerId</th>\n",
              "      <th>Surname</th>\n",
              "      <th>CreditScore</th>\n",
              "      <th>Geography</th>\n",
              "      <th>Gender</th>\n",
              "      <th>Age</th>\n",
              "      <th>Tenure</th>\n",
              "      <th>Balance</th>\n",
              "      <th>Num Of Products</th>\n",
              "      <th>Has Credit Card</th>\n",
              "      <th>Is Active Member</th>\n",
              "      <th>Estimated Salary</th>\n",
              "      <th>Churn</th>\n",
              "    </tr>\n",
              "  </thead>\n",
              "  <tbody>\n",
              "    <tr>\n",
              "      <th>9995</th>\n",
              "      <td>15606229</td>\n",
              "      <td>Obijiaku</td>\n",
              "      <td>771</td>\n",
              "      <td>France</td>\n",
              "      <td>Male</td>\n",
              "      <td>39</td>\n",
              "      <td>5</td>\n",
              "      <td>0.00</td>\n",
              "      <td>2</td>\n",
              "      <td>1</td>\n",
              "      <td>0</td>\n",
              "      <td>96270.64</td>\n",
              "      <td>0</td>\n",
              "    </tr>\n",
              "    <tr>\n",
              "      <th>9996</th>\n",
              "      <td>15569892</td>\n",
              "      <td>Johnstone</td>\n",
              "      <td>516</td>\n",
              "      <td>France</td>\n",
              "      <td>Male</td>\n",
              "      <td>35</td>\n",
              "      <td>10</td>\n",
              "      <td>57369.61</td>\n",
              "      <td>1</td>\n",
              "      <td>1</td>\n",
              "      <td>1</td>\n",
              "      <td>101699.77</td>\n",
              "      <td>0</td>\n",
              "    </tr>\n",
              "    <tr>\n",
              "      <th>9997</th>\n",
              "      <td>15584532</td>\n",
              "      <td>Liu</td>\n",
              "      <td>709</td>\n",
              "      <td>France</td>\n",
              "      <td>Female</td>\n",
              "      <td>36</td>\n",
              "      <td>7</td>\n",
              "      <td>0.00</td>\n",
              "      <td>1</td>\n",
              "      <td>0</td>\n",
              "      <td>1</td>\n",
              "      <td>42085.58</td>\n",
              "      <td>1</td>\n",
              "    </tr>\n",
              "    <tr>\n",
              "      <th>9998</th>\n",
              "      <td>15682355</td>\n",
              "      <td>Sabbatini</td>\n",
              "      <td>772</td>\n",
              "      <td>Germany</td>\n",
              "      <td>Male</td>\n",
              "      <td>42</td>\n",
              "      <td>3</td>\n",
              "      <td>75075.31</td>\n",
              "      <td>2</td>\n",
              "      <td>1</td>\n",
              "      <td>0</td>\n",
              "      <td>92888.52</td>\n",
              "      <td>1</td>\n",
              "    </tr>\n",
              "    <tr>\n",
              "      <th>9999</th>\n",
              "      <td>15628319</td>\n",
              "      <td>Walker</td>\n",
              "      <td>792</td>\n",
              "      <td>France</td>\n",
              "      <td>Female</td>\n",
              "      <td>28</td>\n",
              "      <td>4</td>\n",
              "      <td>130142.79</td>\n",
              "      <td>1</td>\n",
              "      <td>1</td>\n",
              "      <td>0</td>\n",
              "      <td>38190.78</td>\n",
              "      <td>0</td>\n",
              "    </tr>\n",
              "  </tbody>\n",
              "</table>\n",
              "</div>\n",
              "    <div class=\"colab-df-buttons\">\n",
              "\n",
              "  <div class=\"colab-df-container\">\n",
              "    <button class=\"colab-df-convert\" onclick=\"convertToInteractive('df-83bd36a1-ca7a-4f91-af78-fe8fbffd12fd')\"\n",
              "            title=\"Convert this dataframe to an interactive table.\"\n",
              "            style=\"display:none;\">\n",
              "\n",
              "  <svg xmlns=\"http://www.w3.org/2000/svg\" height=\"24px\" viewBox=\"0 -960 960 960\">\n",
              "    <path d=\"M120-120v-720h720v720H120Zm60-500h600v-160H180v160Zm220 220h160v-160H400v160Zm0 220h160v-160H400v160ZM180-400h160v-160H180v160Zm440 0h160v-160H620v160ZM180-180h160v-160H180v160Zm440 0h160v-160H620v160Z\"/>\n",
              "  </svg>\n",
              "    </button>\n",
              "\n",
              "  <style>\n",
              "    .colab-df-container {\n",
              "      display:flex;\n",
              "      gap: 12px;\n",
              "    }\n",
              "\n",
              "    .colab-df-convert {\n",
              "      background-color: #E8F0FE;\n",
              "      border: none;\n",
              "      border-radius: 50%;\n",
              "      cursor: pointer;\n",
              "      display: none;\n",
              "      fill: #1967D2;\n",
              "      height: 32px;\n",
              "      padding: 0 0 0 0;\n",
              "      width: 32px;\n",
              "    }\n",
              "\n",
              "    .colab-df-convert:hover {\n",
              "      background-color: #E2EBFA;\n",
              "      box-shadow: 0px 1px 2px rgba(60, 64, 67, 0.3), 0px 1px 3px 1px rgba(60, 64, 67, 0.15);\n",
              "      fill: #174EA6;\n",
              "    }\n",
              "\n",
              "    .colab-df-buttons div {\n",
              "      margin-bottom: 4px;\n",
              "    }\n",
              "\n",
              "    [theme=dark] .colab-df-convert {\n",
              "      background-color: #3B4455;\n",
              "      fill: #D2E3FC;\n",
              "    }\n",
              "\n",
              "    [theme=dark] .colab-df-convert:hover {\n",
              "      background-color: #434B5C;\n",
              "      box-shadow: 0px 1px 3px 1px rgba(0, 0, 0, 0.15);\n",
              "      filter: drop-shadow(0px 1px 2px rgba(0, 0, 0, 0.3));\n",
              "      fill: #FFFFFF;\n",
              "    }\n",
              "  </style>\n",
              "\n",
              "    <script>\n",
              "      const buttonEl =\n",
              "        document.querySelector('#df-83bd36a1-ca7a-4f91-af78-fe8fbffd12fd button.colab-df-convert');\n",
              "      buttonEl.style.display =\n",
              "        google.colab.kernel.accessAllowed ? 'block' : 'none';\n",
              "\n",
              "      async function convertToInteractive(key) {\n",
              "        const element = document.querySelector('#df-83bd36a1-ca7a-4f91-af78-fe8fbffd12fd');\n",
              "        const dataTable =\n",
              "          await google.colab.kernel.invokeFunction('convertToInteractive',\n",
              "                                                    [key], {});\n",
              "        if (!dataTable) return;\n",
              "\n",
              "        const docLinkHtml = 'Like what you see? Visit the ' +\n",
              "          '<a target=\"_blank\" href=https://colab.research.google.com/notebooks/data_table.ipynb>data table notebook</a>'\n",
              "          + ' to learn more about interactive tables.';\n",
              "        element.innerHTML = '';\n",
              "        dataTable['output_type'] = 'display_data';\n",
              "        await google.colab.output.renderOutput(dataTable, element);\n",
              "        const docLink = document.createElement('div');\n",
              "        docLink.innerHTML = docLinkHtml;\n",
              "        element.appendChild(docLink);\n",
              "      }\n",
              "    </script>\n",
              "  </div>\n",
              "\n",
              "\n",
              "<div id=\"df-1d5a6882-a51c-45f4-8267-b8203adbe02f\">\n",
              "  <button class=\"colab-df-quickchart\" onclick=\"quickchart('df-1d5a6882-a51c-45f4-8267-b8203adbe02f')\"\n",
              "            title=\"Suggest charts.\"\n",
              "            style=\"display:none;\">\n",
              "\n",
              "<svg xmlns=\"http://www.w3.org/2000/svg\" height=\"24px\"viewBox=\"0 0 24 24\"\n",
              "     width=\"24px\">\n",
              "    <g>\n",
              "        <path d=\"M19 3H5c-1.1 0-2 .9-2 2v14c0 1.1.9 2 2 2h14c1.1 0 2-.9 2-2V5c0-1.1-.9-2-2-2zM9 17H7v-7h2v7zm4 0h-2V7h2v10zm4 0h-2v-4h2v4z\"/>\n",
              "    </g>\n",
              "</svg>\n",
              "  </button>\n",
              "\n",
              "<style>\n",
              "  .colab-df-quickchart {\n",
              "      --bg-color: #E8F0FE;\n",
              "      --fill-color: #1967D2;\n",
              "      --hover-bg-color: #E2EBFA;\n",
              "      --hover-fill-color: #174EA6;\n",
              "      --disabled-fill-color: #AAA;\n",
              "      --disabled-bg-color: #DDD;\n",
              "  }\n",
              "\n",
              "  [theme=dark] .colab-df-quickchart {\n",
              "      --bg-color: #3B4455;\n",
              "      --fill-color: #D2E3FC;\n",
              "      --hover-bg-color: #434B5C;\n",
              "      --hover-fill-color: #FFFFFF;\n",
              "      --disabled-bg-color: #3B4455;\n",
              "      --disabled-fill-color: #666;\n",
              "  }\n",
              "\n",
              "  .colab-df-quickchart {\n",
              "    background-color: var(--bg-color);\n",
              "    border: none;\n",
              "    border-radius: 50%;\n",
              "    cursor: pointer;\n",
              "    display: none;\n",
              "    fill: var(--fill-color);\n",
              "    height: 32px;\n",
              "    padding: 0;\n",
              "    width: 32px;\n",
              "  }\n",
              "\n",
              "  .colab-df-quickchart:hover {\n",
              "    background-color: var(--hover-bg-color);\n",
              "    box-shadow: 0 1px 2px rgba(60, 64, 67, 0.3), 0 1px 3px 1px rgba(60, 64, 67, 0.15);\n",
              "    fill: var(--button-hover-fill-color);\n",
              "  }\n",
              "\n",
              "  .colab-df-quickchart-complete:disabled,\n",
              "  .colab-df-quickchart-complete:disabled:hover {\n",
              "    background-color: var(--disabled-bg-color);\n",
              "    fill: var(--disabled-fill-color);\n",
              "    box-shadow: none;\n",
              "  }\n",
              "\n",
              "  .colab-df-spinner {\n",
              "    border: 2px solid var(--fill-color);\n",
              "    border-color: transparent;\n",
              "    border-bottom-color: var(--fill-color);\n",
              "    animation:\n",
              "      spin 1s steps(1) infinite;\n",
              "  }\n",
              "\n",
              "  @keyframes spin {\n",
              "    0% {\n",
              "      border-color: transparent;\n",
              "      border-bottom-color: var(--fill-color);\n",
              "      border-left-color: var(--fill-color);\n",
              "    }\n",
              "    20% {\n",
              "      border-color: transparent;\n",
              "      border-left-color: var(--fill-color);\n",
              "      border-top-color: var(--fill-color);\n",
              "    }\n",
              "    30% {\n",
              "      border-color: transparent;\n",
              "      border-left-color: var(--fill-color);\n",
              "      border-top-color: var(--fill-color);\n",
              "      border-right-color: var(--fill-color);\n",
              "    }\n",
              "    40% {\n",
              "      border-color: transparent;\n",
              "      border-right-color: var(--fill-color);\n",
              "      border-top-color: var(--fill-color);\n",
              "    }\n",
              "    60% {\n",
              "      border-color: transparent;\n",
              "      border-right-color: var(--fill-color);\n",
              "    }\n",
              "    80% {\n",
              "      border-color: transparent;\n",
              "      border-right-color: var(--fill-color);\n",
              "      border-bottom-color: var(--fill-color);\n",
              "    }\n",
              "    90% {\n",
              "      border-color: transparent;\n",
              "      border-bottom-color: var(--fill-color);\n",
              "    }\n",
              "  }\n",
              "</style>\n",
              "\n",
              "  <script>\n",
              "    async function quickchart(key) {\n",
              "      const quickchartButtonEl =\n",
              "        document.querySelector('#' + key + ' button');\n",
              "      quickchartButtonEl.disabled = true;  // To prevent multiple clicks.\n",
              "      quickchartButtonEl.classList.add('colab-df-spinner');\n",
              "      try {\n",
              "        const charts = await google.colab.kernel.invokeFunction(\n",
              "            'suggestCharts', [key], {});\n",
              "      } catch (error) {\n",
              "        console.error('Error during call to suggestCharts:', error);\n",
              "      }\n",
              "      quickchartButtonEl.classList.remove('colab-df-spinner');\n",
              "      quickchartButtonEl.classList.add('colab-df-quickchart-complete');\n",
              "    }\n",
              "    (() => {\n",
              "      let quickchartButtonEl =\n",
              "        document.querySelector('#df-1d5a6882-a51c-45f4-8267-b8203adbe02f button');\n",
              "      quickchartButtonEl.style.display =\n",
              "        google.colab.kernel.accessAllowed ? 'block' : 'none';\n",
              "    })();\n",
              "  </script>\n",
              "</div>\n",
              "    </div>\n",
              "  </div>\n"
            ]
          },
          "metadata": {},
          "execution_count": 4
        }
      ]
    },
    {
      "cell_type": "code",
      "source": [
        "df.shape"
      ],
      "metadata": {
        "colab": {
          "base_uri": "https://localhost:8080/"
        },
        "id": "HG6S4jW1u9aE",
        "outputId": "7629af1e-a5ac-4675-a31b-ea5ec459253f"
      },
      "execution_count": 5,
      "outputs": [
        {
          "output_type": "execute_result",
          "data": {
            "text/plain": [
              "(10000, 13)"
            ]
          },
          "metadata": {},
          "execution_count": 5
        }
      ]
    },
    {
      "cell_type": "code",
      "source": [
        "df.describe()"
      ],
      "metadata": {
        "colab": {
          "base_uri": "https://localhost:8080/",
          "height": 300
        },
        "id": "qzGgWaA1vAOT",
        "outputId": "c59b3728-7cc4-4bdd-84eb-d0c758bb2462"
      },
      "execution_count": 6,
      "outputs": [
        {
          "output_type": "execute_result",
          "data": {
            "text/plain": [
              "         CustomerId   CreditScore           Age        Tenure        Balance  \\\n",
              "count  1.000000e+04  10000.000000  10000.000000  10000.000000   10000.000000   \n",
              "mean   1.569094e+07    650.528800     38.921800      5.012800   76485.889288   \n",
              "std    7.193619e+04     96.653299     10.487806      2.892174   62397.405202   \n",
              "min    1.556570e+07    350.000000     18.000000      0.000000       0.000000   \n",
              "25%    1.562853e+07    584.000000     32.000000      3.000000       0.000000   \n",
              "50%    1.569074e+07    652.000000     37.000000      5.000000   97198.540000   \n",
              "75%    1.575323e+07    718.000000     44.000000      7.000000  127644.240000   \n",
              "max    1.581569e+07    850.000000     92.000000     10.000000  250898.090000   \n",
              "\n",
              "       Num Of Products  Has Credit Card  Is Active Member  Estimated Salary  \\\n",
              "count     10000.000000      10000.00000      10000.000000      10000.000000   \n",
              "mean          1.530200          0.70550          0.515100     100090.239881   \n",
              "std           0.581654          0.45584          0.499797      57510.492818   \n",
              "min           1.000000          0.00000          0.000000         11.580000   \n",
              "25%           1.000000          0.00000          0.000000      51002.110000   \n",
              "50%           1.000000          1.00000          1.000000     100193.915000   \n",
              "75%           2.000000          1.00000          1.000000     149388.247500   \n",
              "max           4.000000          1.00000          1.000000     199992.480000   \n",
              "\n",
              "              Churn  \n",
              "count  10000.000000  \n",
              "mean       0.203700  \n",
              "std        0.402769  \n",
              "min        0.000000  \n",
              "25%        0.000000  \n",
              "50%        0.000000  \n",
              "75%        0.000000  \n",
              "max        1.000000  "
            ],
            "text/html": [
              "\n",
              "  <div id=\"df-20964587-f868-4e48-a332-7ccfd47d876c\" class=\"colab-df-container\">\n",
              "    <div>\n",
              "<style scoped>\n",
              "    .dataframe tbody tr th:only-of-type {\n",
              "        vertical-align: middle;\n",
              "    }\n",
              "\n",
              "    .dataframe tbody tr th {\n",
              "        vertical-align: top;\n",
              "    }\n",
              "\n",
              "    .dataframe thead th {\n",
              "        text-align: right;\n",
              "    }\n",
              "</style>\n",
              "<table border=\"1\" class=\"dataframe\">\n",
              "  <thead>\n",
              "    <tr style=\"text-align: right;\">\n",
              "      <th></th>\n",
              "      <th>CustomerId</th>\n",
              "      <th>CreditScore</th>\n",
              "      <th>Age</th>\n",
              "      <th>Tenure</th>\n",
              "      <th>Balance</th>\n",
              "      <th>Num Of Products</th>\n",
              "      <th>Has Credit Card</th>\n",
              "      <th>Is Active Member</th>\n",
              "      <th>Estimated Salary</th>\n",
              "      <th>Churn</th>\n",
              "    </tr>\n",
              "  </thead>\n",
              "  <tbody>\n",
              "    <tr>\n",
              "      <th>count</th>\n",
              "      <td>1.000000e+04</td>\n",
              "      <td>10000.000000</td>\n",
              "      <td>10000.000000</td>\n",
              "      <td>10000.000000</td>\n",
              "      <td>10000.000000</td>\n",
              "      <td>10000.000000</td>\n",
              "      <td>10000.00000</td>\n",
              "      <td>10000.000000</td>\n",
              "      <td>10000.000000</td>\n",
              "      <td>10000.000000</td>\n",
              "    </tr>\n",
              "    <tr>\n",
              "      <th>mean</th>\n",
              "      <td>1.569094e+07</td>\n",
              "      <td>650.528800</td>\n",
              "      <td>38.921800</td>\n",
              "      <td>5.012800</td>\n",
              "      <td>76485.889288</td>\n",
              "      <td>1.530200</td>\n",
              "      <td>0.70550</td>\n",
              "      <td>0.515100</td>\n",
              "      <td>100090.239881</td>\n",
              "      <td>0.203700</td>\n",
              "    </tr>\n",
              "    <tr>\n",
              "      <th>std</th>\n",
              "      <td>7.193619e+04</td>\n",
              "      <td>96.653299</td>\n",
              "      <td>10.487806</td>\n",
              "      <td>2.892174</td>\n",
              "      <td>62397.405202</td>\n",
              "      <td>0.581654</td>\n",
              "      <td>0.45584</td>\n",
              "      <td>0.499797</td>\n",
              "      <td>57510.492818</td>\n",
              "      <td>0.402769</td>\n",
              "    </tr>\n",
              "    <tr>\n",
              "      <th>min</th>\n",
              "      <td>1.556570e+07</td>\n",
              "      <td>350.000000</td>\n",
              "      <td>18.000000</td>\n",
              "      <td>0.000000</td>\n",
              "      <td>0.000000</td>\n",
              "      <td>1.000000</td>\n",
              "      <td>0.00000</td>\n",
              "      <td>0.000000</td>\n",
              "      <td>11.580000</td>\n",
              "      <td>0.000000</td>\n",
              "    </tr>\n",
              "    <tr>\n",
              "      <th>25%</th>\n",
              "      <td>1.562853e+07</td>\n",
              "      <td>584.000000</td>\n",
              "      <td>32.000000</td>\n",
              "      <td>3.000000</td>\n",
              "      <td>0.000000</td>\n",
              "      <td>1.000000</td>\n",
              "      <td>0.00000</td>\n",
              "      <td>0.000000</td>\n",
              "      <td>51002.110000</td>\n",
              "      <td>0.000000</td>\n",
              "    </tr>\n",
              "    <tr>\n",
              "      <th>50%</th>\n",
              "      <td>1.569074e+07</td>\n",
              "      <td>652.000000</td>\n",
              "      <td>37.000000</td>\n",
              "      <td>5.000000</td>\n",
              "      <td>97198.540000</td>\n",
              "      <td>1.000000</td>\n",
              "      <td>1.00000</td>\n",
              "      <td>1.000000</td>\n",
              "      <td>100193.915000</td>\n",
              "      <td>0.000000</td>\n",
              "    </tr>\n",
              "    <tr>\n",
              "      <th>75%</th>\n",
              "      <td>1.575323e+07</td>\n",
              "      <td>718.000000</td>\n",
              "      <td>44.000000</td>\n",
              "      <td>7.000000</td>\n",
              "      <td>127644.240000</td>\n",
              "      <td>2.000000</td>\n",
              "      <td>1.00000</td>\n",
              "      <td>1.000000</td>\n",
              "      <td>149388.247500</td>\n",
              "      <td>0.000000</td>\n",
              "    </tr>\n",
              "    <tr>\n",
              "      <th>max</th>\n",
              "      <td>1.581569e+07</td>\n",
              "      <td>850.000000</td>\n",
              "      <td>92.000000</td>\n",
              "      <td>10.000000</td>\n",
              "      <td>250898.090000</td>\n",
              "      <td>4.000000</td>\n",
              "      <td>1.00000</td>\n",
              "      <td>1.000000</td>\n",
              "      <td>199992.480000</td>\n",
              "      <td>1.000000</td>\n",
              "    </tr>\n",
              "  </tbody>\n",
              "</table>\n",
              "</div>\n",
              "    <div class=\"colab-df-buttons\">\n",
              "\n",
              "  <div class=\"colab-df-container\">\n",
              "    <button class=\"colab-df-convert\" onclick=\"convertToInteractive('df-20964587-f868-4e48-a332-7ccfd47d876c')\"\n",
              "            title=\"Convert this dataframe to an interactive table.\"\n",
              "            style=\"display:none;\">\n",
              "\n",
              "  <svg xmlns=\"http://www.w3.org/2000/svg\" height=\"24px\" viewBox=\"0 -960 960 960\">\n",
              "    <path d=\"M120-120v-720h720v720H120Zm60-500h600v-160H180v160Zm220 220h160v-160H400v160Zm0 220h160v-160H400v160ZM180-400h160v-160H180v160Zm440 0h160v-160H620v160ZM180-180h160v-160H180v160Zm440 0h160v-160H620v160Z\"/>\n",
              "  </svg>\n",
              "    </button>\n",
              "\n",
              "  <style>\n",
              "    .colab-df-container {\n",
              "      display:flex;\n",
              "      gap: 12px;\n",
              "    }\n",
              "\n",
              "    .colab-df-convert {\n",
              "      background-color: #E8F0FE;\n",
              "      border: none;\n",
              "      border-radius: 50%;\n",
              "      cursor: pointer;\n",
              "      display: none;\n",
              "      fill: #1967D2;\n",
              "      height: 32px;\n",
              "      padding: 0 0 0 0;\n",
              "      width: 32px;\n",
              "    }\n",
              "\n",
              "    .colab-df-convert:hover {\n",
              "      background-color: #E2EBFA;\n",
              "      box-shadow: 0px 1px 2px rgba(60, 64, 67, 0.3), 0px 1px 3px 1px rgba(60, 64, 67, 0.15);\n",
              "      fill: #174EA6;\n",
              "    }\n",
              "\n",
              "    .colab-df-buttons div {\n",
              "      margin-bottom: 4px;\n",
              "    }\n",
              "\n",
              "    [theme=dark] .colab-df-convert {\n",
              "      background-color: #3B4455;\n",
              "      fill: #D2E3FC;\n",
              "    }\n",
              "\n",
              "    [theme=dark] .colab-df-convert:hover {\n",
              "      background-color: #434B5C;\n",
              "      box-shadow: 0px 1px 3px 1px rgba(0, 0, 0, 0.15);\n",
              "      filter: drop-shadow(0px 1px 2px rgba(0, 0, 0, 0.3));\n",
              "      fill: #FFFFFF;\n",
              "    }\n",
              "  </style>\n",
              "\n",
              "    <script>\n",
              "      const buttonEl =\n",
              "        document.querySelector('#df-20964587-f868-4e48-a332-7ccfd47d876c button.colab-df-convert');\n",
              "      buttonEl.style.display =\n",
              "        google.colab.kernel.accessAllowed ? 'block' : 'none';\n",
              "\n",
              "      async function convertToInteractive(key) {\n",
              "        const element = document.querySelector('#df-20964587-f868-4e48-a332-7ccfd47d876c');\n",
              "        const dataTable =\n",
              "          await google.colab.kernel.invokeFunction('convertToInteractive',\n",
              "                                                    [key], {});\n",
              "        if (!dataTable) return;\n",
              "\n",
              "        const docLinkHtml = 'Like what you see? Visit the ' +\n",
              "          '<a target=\"_blank\" href=https://colab.research.google.com/notebooks/data_table.ipynb>data table notebook</a>'\n",
              "          + ' to learn more about interactive tables.';\n",
              "        element.innerHTML = '';\n",
              "        dataTable['output_type'] = 'display_data';\n",
              "        await google.colab.output.renderOutput(dataTable, element);\n",
              "        const docLink = document.createElement('div');\n",
              "        docLink.innerHTML = docLinkHtml;\n",
              "        element.appendChild(docLink);\n",
              "      }\n",
              "    </script>\n",
              "  </div>\n",
              "\n",
              "\n",
              "<div id=\"df-7d2a90e0-16be-4d66-87ac-e506a9fbb3db\">\n",
              "  <button class=\"colab-df-quickchart\" onclick=\"quickchart('df-7d2a90e0-16be-4d66-87ac-e506a9fbb3db')\"\n",
              "            title=\"Suggest charts.\"\n",
              "            style=\"display:none;\">\n",
              "\n",
              "<svg xmlns=\"http://www.w3.org/2000/svg\" height=\"24px\"viewBox=\"0 0 24 24\"\n",
              "     width=\"24px\">\n",
              "    <g>\n",
              "        <path d=\"M19 3H5c-1.1 0-2 .9-2 2v14c0 1.1.9 2 2 2h14c1.1 0 2-.9 2-2V5c0-1.1-.9-2-2-2zM9 17H7v-7h2v7zm4 0h-2V7h2v10zm4 0h-2v-4h2v4z\"/>\n",
              "    </g>\n",
              "</svg>\n",
              "  </button>\n",
              "\n",
              "<style>\n",
              "  .colab-df-quickchart {\n",
              "      --bg-color: #E8F0FE;\n",
              "      --fill-color: #1967D2;\n",
              "      --hover-bg-color: #E2EBFA;\n",
              "      --hover-fill-color: #174EA6;\n",
              "      --disabled-fill-color: #AAA;\n",
              "      --disabled-bg-color: #DDD;\n",
              "  }\n",
              "\n",
              "  [theme=dark] .colab-df-quickchart {\n",
              "      --bg-color: #3B4455;\n",
              "      --fill-color: #D2E3FC;\n",
              "      --hover-bg-color: #434B5C;\n",
              "      --hover-fill-color: #FFFFFF;\n",
              "      --disabled-bg-color: #3B4455;\n",
              "      --disabled-fill-color: #666;\n",
              "  }\n",
              "\n",
              "  .colab-df-quickchart {\n",
              "    background-color: var(--bg-color);\n",
              "    border: none;\n",
              "    border-radius: 50%;\n",
              "    cursor: pointer;\n",
              "    display: none;\n",
              "    fill: var(--fill-color);\n",
              "    height: 32px;\n",
              "    padding: 0;\n",
              "    width: 32px;\n",
              "  }\n",
              "\n",
              "  .colab-df-quickchart:hover {\n",
              "    background-color: var(--hover-bg-color);\n",
              "    box-shadow: 0 1px 2px rgba(60, 64, 67, 0.3), 0 1px 3px 1px rgba(60, 64, 67, 0.15);\n",
              "    fill: var(--button-hover-fill-color);\n",
              "  }\n",
              "\n",
              "  .colab-df-quickchart-complete:disabled,\n",
              "  .colab-df-quickchart-complete:disabled:hover {\n",
              "    background-color: var(--disabled-bg-color);\n",
              "    fill: var(--disabled-fill-color);\n",
              "    box-shadow: none;\n",
              "  }\n",
              "\n",
              "  .colab-df-spinner {\n",
              "    border: 2px solid var(--fill-color);\n",
              "    border-color: transparent;\n",
              "    border-bottom-color: var(--fill-color);\n",
              "    animation:\n",
              "      spin 1s steps(1) infinite;\n",
              "  }\n",
              "\n",
              "  @keyframes spin {\n",
              "    0% {\n",
              "      border-color: transparent;\n",
              "      border-bottom-color: var(--fill-color);\n",
              "      border-left-color: var(--fill-color);\n",
              "    }\n",
              "    20% {\n",
              "      border-color: transparent;\n",
              "      border-left-color: var(--fill-color);\n",
              "      border-top-color: var(--fill-color);\n",
              "    }\n",
              "    30% {\n",
              "      border-color: transparent;\n",
              "      border-left-color: var(--fill-color);\n",
              "      border-top-color: var(--fill-color);\n",
              "      border-right-color: var(--fill-color);\n",
              "    }\n",
              "    40% {\n",
              "      border-color: transparent;\n",
              "      border-right-color: var(--fill-color);\n",
              "      border-top-color: var(--fill-color);\n",
              "    }\n",
              "    60% {\n",
              "      border-color: transparent;\n",
              "      border-right-color: var(--fill-color);\n",
              "    }\n",
              "    80% {\n",
              "      border-color: transparent;\n",
              "      border-right-color: var(--fill-color);\n",
              "      border-bottom-color: var(--fill-color);\n",
              "    }\n",
              "    90% {\n",
              "      border-color: transparent;\n",
              "      border-bottom-color: var(--fill-color);\n",
              "    }\n",
              "  }\n",
              "</style>\n",
              "\n",
              "  <script>\n",
              "    async function quickchart(key) {\n",
              "      const quickchartButtonEl =\n",
              "        document.querySelector('#' + key + ' button');\n",
              "      quickchartButtonEl.disabled = true;  // To prevent multiple clicks.\n",
              "      quickchartButtonEl.classList.add('colab-df-spinner');\n",
              "      try {\n",
              "        const charts = await google.colab.kernel.invokeFunction(\n",
              "            'suggestCharts', [key], {});\n",
              "      } catch (error) {\n",
              "        console.error('Error during call to suggestCharts:', error);\n",
              "      }\n",
              "      quickchartButtonEl.classList.remove('colab-df-spinner');\n",
              "      quickchartButtonEl.classList.add('colab-df-quickchart-complete');\n",
              "    }\n",
              "    (() => {\n",
              "      let quickchartButtonEl =\n",
              "        document.querySelector('#df-7d2a90e0-16be-4d66-87ac-e506a9fbb3db button');\n",
              "      quickchartButtonEl.style.display =\n",
              "        google.colab.kernel.accessAllowed ? 'block' : 'none';\n",
              "    })();\n",
              "  </script>\n",
              "</div>\n",
              "    </div>\n",
              "  </div>\n"
            ]
          },
          "metadata": {},
          "execution_count": 6
        }
      ]
    },
    {
      "cell_type": "code",
      "source": [
        "df.columns"
      ],
      "metadata": {
        "colab": {
          "base_uri": "https://localhost:8080/"
        },
        "id": "tshuy9nbvHBG",
        "outputId": "798d652e-8c16-4a7b-fcad-42ea54336371"
      },
      "execution_count": 8,
      "outputs": [
        {
          "output_type": "execute_result",
          "data": {
            "text/plain": [
              "Index(['CustomerId', 'Surname', 'CreditScore', 'Geography', 'Gender', 'Age',\n",
              "       'Tenure', 'Balance', 'Num Of Products', 'Has Credit Card',\n",
              "       'Is Active Member', 'Estimated Salary', 'Churn'],\n",
              "      dtype='object')"
            ]
          },
          "metadata": {},
          "execution_count": 8
        }
      ]
    },
    {
      "cell_type": "code",
      "source": [
        "df.duplicated('CustomerId').sum()"
      ],
      "metadata": {
        "colab": {
          "base_uri": "https://localhost:8080/"
        },
        "id": "5Pquj6CwvJ9g",
        "outputId": "285f155f-9d38-4114-bb62-d24f31045beb"
      },
      "execution_count": 9,
      "outputs": [
        {
          "output_type": "execute_result",
          "data": {
            "text/plain": [
              "0"
            ]
          },
          "metadata": {},
          "execution_count": 9
        }
      ]
    },
    {
      "cell_type": "code",
      "source": [
        "df = df.set_index('CustomerId')"
      ],
      "metadata": {
        "id": "Qkj-VPsZvtf1"
      },
      "execution_count": 10,
      "outputs": []
    },
    {
      "cell_type": "code",
      "source": [
        "df.info()"
      ],
      "metadata": {
        "colab": {
          "base_uri": "https://localhost:8080/"
        },
        "id": "qu8YRYU0v40V",
        "outputId": "2cfc0ba5-52d7-412b-914e-82a0968417dd"
      },
      "execution_count": 11,
      "outputs": [
        {
          "output_type": "stream",
          "name": "stdout",
          "text": [
            "<class 'pandas.core.frame.DataFrame'>\n",
            "Int64Index: 10000 entries, 15634602 to 15628319\n",
            "Data columns (total 12 columns):\n",
            " #   Column            Non-Null Count  Dtype  \n",
            "---  ------            --------------  -----  \n",
            " 0   Surname           10000 non-null  object \n",
            " 1   CreditScore       10000 non-null  int64  \n",
            " 2   Geography         10000 non-null  object \n",
            " 3   Gender            10000 non-null  object \n",
            " 4   Age               10000 non-null  int64  \n",
            " 5   Tenure            10000 non-null  int64  \n",
            " 6   Balance           10000 non-null  float64\n",
            " 7   Num Of Products   10000 non-null  int64  \n",
            " 8   Has Credit Card   10000 non-null  int64  \n",
            " 9   Is Active Member  10000 non-null  int64  \n",
            " 10  Estimated Salary  10000 non-null  float64\n",
            " 11  Churn             10000 non-null  int64  \n",
            "dtypes: float64(2), int64(7), object(3)\n",
            "memory usage: 1015.6+ KB\n"
          ]
        }
      ]
    },
    {
      "cell_type": "markdown",
      "source": [
        "\n",
        "`\n",
        "#ENCODING"
      ],
      "metadata": {
        "id": "o5cML8yDwU13"
      }
    },
    {
      "cell_type": "code",
      "source": [
        "df['Geography'].value_counts()"
      ],
      "metadata": {
        "colab": {
          "base_uri": "https://localhost:8080/"
        },
        "id": "frwxHu90wNdB",
        "outputId": "c2a964e6-b245-4aba-b293-cf5e9fc1cf3a"
      },
      "execution_count": 13,
      "outputs": [
        {
          "output_type": "execute_result",
          "data": {
            "text/plain": [
              "France     5014\n",
              "Germany    2509\n",
              "Spain      2477\n",
              "Name: Geography, dtype: int64"
            ]
          },
          "metadata": {},
          "execution_count": 13
        }
      ]
    },
    {
      "cell_type": "code",
      "source": [
        "df.replace({'Geography': {'France':2, 'Germany':1, 'Spain':0}}, inplace=True)"
      ],
      "metadata": {
        "id": "Z_ZMzx6zwnkh"
      },
      "execution_count": 14,
      "outputs": []
    },
    {
      "cell_type": "code",
      "source": [
        "df['Gender'].value_counts()"
      ],
      "metadata": {
        "colab": {
          "base_uri": "https://localhost:8080/"
        },
        "id": "GKO4wFNaxpmb",
        "outputId": "9944613c-fdac-476e-c3d9-0e556ce10e5a"
      },
      "execution_count": 15,
      "outputs": [
        {
          "output_type": "execute_result",
          "data": {
            "text/plain": [
              "Male      5457\n",
              "Female    4543\n",
              "Name: Gender, dtype: int64"
            ]
          },
          "metadata": {},
          "execution_count": 15
        }
      ]
    },
    {
      "cell_type": "code",
      "source": [
        "df.replace({'Gender': {'Male': 0, 'Female':1}}, inplace=True)"
      ],
      "metadata": {
        "id": "yOyLX6JBxzkU"
      },
      "execution_count": 16,
      "outputs": []
    },
    {
      "cell_type": "code",
      "source": [
        "df['Num Of Products'].value_counts()"
      ],
      "metadata": {
        "colab": {
          "base_uri": "https://localhost:8080/"
        },
        "id": "A_otQ4JIyTsb",
        "outputId": "4f828b93-15cf-4011-d225-dddb3dc426b4"
      },
      "execution_count": 19,
      "outputs": [
        {
          "output_type": "execute_result",
          "data": {
            "text/plain": [
              "1    5084\n",
              "2    4590\n",
              "3     266\n",
              "4      60\n",
              "Name: Num Of Products, dtype: int64"
            ]
          },
          "metadata": {},
          "execution_count": 19
        }
      ]
    },
    {
      "cell_type": "code",
      "source": [
        "df.replace({'Num Of Products': {1: 0, 2:1, 3:1, 4:1}}, inplace=True)"
      ],
      "metadata": {
        "id": "3JxzyMXPykdX"
      },
      "execution_count": 20,
      "outputs": []
    },
    {
      "cell_type": "code",
      "source": [
        "df['Has Credit Card'].value_counts()"
      ],
      "metadata": {
        "colab": {
          "base_uri": "https://localhost:8080/"
        },
        "id": "qnk5PFVUzhd0",
        "outputId": "c866cd3b-b574-406b-839c-24c3e3c547ed"
      },
      "execution_count": 21,
      "outputs": [
        {
          "output_type": "execute_result",
          "data": {
            "text/plain": [
              "1    7055\n",
              "0    2945\n",
              "Name: Has Credit Card, dtype: int64"
            ]
          },
          "metadata": {},
          "execution_count": 21
        }
      ]
    },
    {
      "cell_type": "code",
      "source": [
        "df['Is Active Member'].value_counts()"
      ],
      "metadata": {
        "colab": {
          "base_uri": "https://localhost:8080/"
        },
        "id": "ExV9UUlpzznj",
        "outputId": "27a6a55a-a72a-46fc-acfe-c829f736ece6"
      },
      "execution_count": 22,
      "outputs": [
        {
          "output_type": "execute_result",
          "data": {
            "text/plain": [
              "1    5151\n",
              "0    4849\n",
              "Name: Is Active Member, dtype: int64"
            ]
          },
          "metadata": {},
          "execution_count": 22
        }
      ]
    },
    {
      "cell_type": "code",
      "source": [
        "df.loc[(df['Balance']==0), 'Churn'].value_counts()"
      ],
      "metadata": {
        "colab": {
          "base_uri": "https://localhost:8080/"
        },
        "id": "5TLvVP0b0Ang",
        "outputId": "2968678a-dd9f-4f0f-fdbe-31bc78bccbb6"
      },
      "execution_count": 24,
      "outputs": [
        {
          "output_type": "execute_result",
          "data": {
            "text/plain": [
              "0    3117\n",
              "1     500\n",
              "Name: Churn, dtype: int64"
            ]
          },
          "metadata": {},
          "execution_count": 24
        }
      ]
    },
    {
      "cell_type": "code",
      "source": [
        "df['Zero Balance'] = np.where(df['Balance']>0, 1, 0)"
      ],
      "metadata": {
        "id": "bgmSf-9Y0VV_"
      },
      "execution_count": 25,
      "outputs": []
    },
    {
      "cell_type": "code",
      "source": [
        "df['Zero Balance'] .hist()"
      ],
      "metadata": {
        "colab": {
          "base_uri": "https://localhost:8080/",
          "height": 447
        },
        "id": "alhpN98V1Wbh",
        "outputId": "8a421aad-b89f-4af0-e87f-271da031fe0d"
      },
      "execution_count": 30,
      "outputs": [
        {
          "output_type": "execute_result",
          "data": {
            "text/plain": [
              "<Axes: >"
            ]
          },
          "metadata": {},
          "execution_count": 30
        },
        {
          "output_type": "display_data",
          "data": {
            "text/plain": [
              "<Figure size 640x480 with 1 Axes>"
            ],
            "image/png": "[encoded data removed]"
          },
          "metadata": {}
        }
      ]
    },
    {
      "cell_type": "code",
      "source": [
        "df.groupby(['Churn', 'Geography']).count()"
      ],
      "metadata": {
        "colab": {
          "base_uri": "https://localhost:8080/",
          "height": 269
        },
        "id": "mEpzkQX81xTm",
        "outputId": "e2ef021e-7df7-433f-ae7f-8679b4100d73"
      },
      "execution_count": 31,
      "outputs": [
        {
          "output_type": "execute_result",
          "data": {
            "text/plain": [
              "                 Surname  CreditScore  Gender   Age  Tenure  Balance  \\\n",
              "Churn Geography                                                        \n",
              "0     0             2064         2064    2064  2064    2064     2064   \n",
              "      1             1695         1695    1695  1695    1695     1695   \n",
              "      2             4204         4204    4204  4204    4204     4204   \n",
              "1     0              413          413     413   413     413      413   \n",
              "      1              814          814     814   814     814      814   \n",
              "      2              810          810     810   810     810      810   \n",
              "\n",
              "                 Num Of Products  Has Credit Card  Is Active Member  \\\n",
              "Churn Geography                                                       \n",
              "0     0                     2064             2064              2064   \n",
              "      1                     1695             1695              1695   \n",
              "      2                     4204             4204              4204   \n",
              "1     0                      413              413               413   \n",
              "      1                      814              814               814   \n",
              "      2                      810              810               810   \n",
              "\n",
              "                 Estimated Salary  Zero Balance  \n",
              "Churn Geography                                  \n",
              "0     0                      2064          2064  \n",
              "      1                      1695          1695  \n",
              "      2                      4204          4204  \n",
              "1     0                       413           413  \n",
              "      1                       814           814  \n",
              "      2                       810           810  "
            ],
            "text/html": [
              "\n",
              "  <div id=\"df-984ba2d4-2ec2-4e86-8ebb-6e9a3bd74d19\" class=\"colab-df-container\">\n",
              "    <div>\n",
              "<style scoped>\n",
              "    .dataframe tbody tr th:only-of-type {\n",
              "        vertical-align: middle;\n",
              "    }\n",
              "\n",
              "    .dataframe tbody tr th {\n",
              "        vertical-align: top;\n",
              "    }\n",
              "\n",
              "    .dataframe thead th {\n",
              "        text-align: right;\n",
              "    }\n",
              "</style>\n",
              "<table border=\"1\" class=\"dataframe\">\n",
              "  <thead>\n",
              "    <tr style=\"text-align: right;\">\n",
              "      <th></th>\n",
              "      <th></th>\n",
              "      <th>Surname</th>\n",
              "      <th>CreditScore</th>\n",
              "      <th>Gender</th>\n",
              "      <th>Age</th>\n",
              "      <th>Tenure</th>\n",
              "      <th>Balance</th>\n",
              "      <th>Num Of Products</th>\n",
              "      <th>Has Credit Card</th>\n",
              "      <th>Is Active Member</th>\n",
              "      <th>Estimated Salary</th>\n",
              "      <th>Zero Balance</th>\n",
              "    </tr>\n",
              "    <tr>\n",
              "      <th>Churn</th>\n",
              "      <th>Geography</th>\n",
              "      <th></th>\n",
              "      <th></th>\n",
              "      <th></th>\n",
              "      <th></th>\n",
              "      <th></th>\n",
              "      <th></th>\n",
              "      <th></th>\n",
              "      <th></th>\n",
              "      <th></th>\n",
              "      <th></th>\n",
              "      <th></th>\n",
              "    </tr>\n",
              "  </thead>\n",
              "  <tbody>\n",
              "    <tr>\n",
              "      <th rowspan=\"3\" valign=\"top\">0</th>\n",
              "      <th>0</th>\n",
              "      <td>2064</td>\n",
              "      <td>2064</td>\n",
              "      <td>2064</td>\n",
              "      <td>2064</td>\n",
              "      <td>2064</td>\n",
              "      <td>2064</td>\n",
              "      <td>2064</td>\n",
              "      <td>2064</td>\n",
              "      <td>2064</td>\n",
              "      <td>2064</td>\n",
              "      <td>2064</td>\n",
              "    </tr>\n",
              "    <tr>\n",
              "      <th>1</th>\n",
              "      <td>1695</td>\n",
              "      <td>1695</td>\n",
              "      <td>1695</td>\n",
              "      <td>1695</td>\n",
              "      <td>1695</td>\n",
              "      <td>1695</td>\n",
              "      <td>1695</td>\n",
              "      <td>1695</td>\n",
              "      <td>1695</td>\n",
              "      <td>1695</td>\n",
              "      <td>1695</td>\n",
              "    </tr>\n",
              "    <tr>\n",
              "      <th>2</th>\n",
              "      <td>4204</td>\n",
              "      <td>4204</td>\n",
              "      <td>4204</td>\n",
              "      <td>4204</td>\n",
              "      <td>4204</td>\n",
              "      <td>4204</td>\n",
              "      <td>4204</td>\n",
              "      <td>4204</td>\n",
              "      <td>4204</td>\n",
              "      <td>4204</td>\n",
              "      <td>4204</td>\n",
              "    </tr>\n",
              "    <tr>\n",
              "      <th rowspan=\"3\" valign=\"top\">1</th>\n",
              "      <th>0</th>\n",
              "      <td>413</td>\n",
              "      <td>413</td>\n",
              "      <td>413</td>\n",
              "      <td>413</td>\n",
              "      <td>413</td>\n",
              "      <td>413</td>\n",
              "      <td>413</td>\n",
              "      <td>413</td>\n",
              "      <td>413</td>\n",
              "      <td>413</td>\n",
              "      <td>413</td>\n",
              "    </tr>\n",
              "    <tr>\n",
              "      <th>1</th>\n",
              "      <td>814</td>\n",
              "      <td>814</td>\n",
              "      <td>814</td>\n",
              "      <td>814</td>\n",
              "      <td>814</td>\n",
              "      <td>814</td>\n",
              "      <td>814</td>\n",
              "      <td>814</td>\n",
              "      <td>814</td>\n",
              "      <td>814</td>\n",
              "      <td>814</td>\n",
              "    </tr>\n",
              "    <tr>\n",
              "      <th>2</th>\n",
              "      <td>810</td>\n",
              "      <td>810</td>\n",
              "      <td>810</td>\n",
              "      <td>810</td>\n",
              "      <td>810</td>\n",
              "      <td>810</td>\n",
              "      <td>810</td>\n",
              "      <td>810</td>\n",
              "      <td>810</td>\n",
              "      <td>810</td>\n",
              "      <td>810</td>\n",
              "    </tr>\n",
              "  </tbody>\n",
              "</table>\n",
              "</div>\n",
              "    <div class=\"colab-df-buttons\">\n",
              "\n",
              "  <div class=\"colab-df-container\">\n",
              "    <button class=\"colab-df-convert\" onclick=\"convertToInteractive('df-984ba2d4-2ec2-4e86-8ebb-6e9a3bd74d19')\"\n",
              "            title=\"Convert this dataframe to an interactive table.\"\n",
              "            style=\"display:none;\">\n",
              "\n",
              "  <svg xmlns=\"http://www.w3.org/2000/svg\" height=\"24px\" viewBox=\"0 -960 960 960\">\n",
              "    <path d=\"M120-120v-720h720v720H120Zm60-500h600v-160H180v160Zm220 220h160v-160H400v160Zm0 220h160v-160H400v160ZM180-400h160v-160H180v160Zm440 0h160v-160H620v160ZM180-180h160v-160H180v160Zm440 0h160v-160H620v160Z\"/>\n",
              "  </svg>\n",
              "    </button>\n",
              "\n",
              "  <style>\n",
              "    .colab-df-container {\n",
              "      display:flex;\n",
              "      gap: 12px;\n",
              "    }\n",
              "\n",
              "    .colab-df-convert {\n",
              "      background-color: #E8F0FE;\n",
              "      border: none;\n",
              "      border-radius: 50%;\n",
              "      cursor: pointer;\n",
              "      display: none;\n",
              "      fill: #1967D2;\n",
              "      height: 32px;\n",
              "      padding: 0 0 0 0;\n",
              "      width: 32px;\n",
              "    }\n",
              "\n",
              "    .colab-df-convert:hover {\n",
              "      background-color: #E2EBFA;\n",
              "      box-shadow: 0px 1px 2px rgba(60, 64, 67, 0.3), 0px 1px 3px 1px rgba(60, 64, 67, 0.15);\n",
              "      fill: #174EA6;\n",
              "    }\n",
              "\n",
              "    .colab-df-buttons div {\n",
              "      margin-bottom: 4px;\n",
              "    }\n",
              "\n",
              "    [theme=dark] .colab-df-convert {\n",
              "      background-color: #3B4455;\n",
              "      fill: #D2E3FC;\n",
              "    }\n",
              "\n",
              "    [theme=dark] .colab-df-convert:hover {\n",
              "      background-color: #434B5C;\n",
              "      box-shadow: 0px 1px 3px 1px rgba(0, 0, 0, 0.15);\n",
              "      filter: drop-shadow(0px 1px 2px rgba(0, 0, 0, 0.3));\n",
              "      fill: #FFFFFF;\n",
              "    }\n",
              "  </style>\n",
              "\n",
              "    <script>\n",
              "      const buttonEl =\n",
              "        document.querySelector('#df-984ba2d4-2ec2-4e86-8ebb-6e9a3bd74d19 button.colab-df-convert');\n",
              "      buttonEl.style.display =\n",
              "        google.colab.kernel.accessAllowed ? 'block' : 'none';\n",
              "\n",
              "      async function convertToInteractive(key) {\n",
              "        const element = document.querySelector('#df-984ba2d4-2ec2-4e86-8ebb-6e9a3bd74d19');\n",
              "        const dataTable =\n",
              "          await google.colab.kernel.invokeFunction('convertToInteractive',\n",
              "                                                    [key], {});\n",
              "        if (!dataTable) return;\n",
              "\n",
              "        const docLinkHtml = 'Like what you see? Visit the ' +\n",
              "          '<a target=\"_blank\" href=https://colab.research.google.com/notebooks/data_table.ipynb>data table notebook</a>'\n",
              "          + ' to learn more about interactive tables.';\n",
              "        element.innerHTML = '';\n",
              "        dataTable['output_type'] = 'display_data';\n",
              "        await google.colab.output.renderOutput(dataTable, element);\n",
              "        const docLink = document.createElement('div');\n",
              "        docLink.innerHTML = docLinkHtml;\n",
              "        element.appendChild(docLink);\n",
              "      }\n",
              "    </script>\n",
              "  </div>\n",
              "\n",
              "\n",
              "<div id=\"df-44f55b92-4667-4272-a4ed-8f731eb8eb41\">\n",
              "  <button class=\"colab-df-quickchart\" onclick=\"quickchart('df-44f55b92-4667-4272-a4ed-8f731eb8eb41')\"\n",
              "            title=\"Suggest charts.\"\n",
              "            style=\"display:none;\">\n",
              "\n",
              "<svg xmlns=\"http://www.w3.org/2000/svg\" height=\"24px\"viewBox=\"0 0 24 24\"\n",
              "     width=\"24px\">\n",
              "    <g>\n",
              "        <path d=\"M19 3H5c-1.1 0-2 .9-2 2v14c0 1.1.9 2 2 2h14c1.1 0 2-.9 2-2V5c0-1.1-.9-2-2-2zM9 17H7v-7h2v7zm4 0h-2V7h2v10zm4 0h-2v-4h2v4z\"/>\n",
              "    </g>\n",
              "</svg>\n",
              "  </button>\n",
              "\n",
              "<style>\n",
              "  .colab-df-quickchart {\n",
              "      --bg-color: #E8F0FE;\n",
              "      --fill-color: #1967D2;\n",
              "      --hover-bg-color: #E2EBFA;\n",
              "      --hover-fill-color: #174EA6;\n",
              "      --disabled-fill-color: #AAA;\n",
              "      --disabled-bg-color: #DDD;\n",
              "  }\n",
              "\n",
              "  [theme=dark] .colab-df-quickchart {\n",
              "      --bg-color: #3B4455;\n",
              "      --fill-color: #D2E3FC;\n",
              "      --hover-bg-color: #434B5C;\n",
              "      --hover-fill-color: #FFFFFF;\n",
              "      --disabled-bg-color: #3B4455;\n",
              "      --disabled-fill-color: #666;\n",
              "  }\n",
              "\n",
              "  .colab-df-quickchart {\n",
              "    background-color: var(--bg-color);\n",
              "    border: none;\n",
              "    border-radius: 50%;\n",
              "    cursor: pointer;\n",
              "    display: none;\n",
              "    fill: var(--fill-color);\n",
              "    height: 32px;\n",
              "    padding: 0;\n",
              "    width: 32px;\n",
              "  }\n",
              "\n",
              "  .colab-df-quickchart:hover {\n",
              "    background-color: var(--hover-bg-color);\n",
              "    box-shadow: 0 1px 2px rgba(60, 64, 67, 0.3), 0 1px 3px 1px rgba(60, 64, 67, 0.15);\n",
              "    fill: var(--button-hover-fill-color);\n",
              "  }\n",
              "\n",
              "  .colab-df-quickchart-complete:disabled,\n",
              "  .colab-df-quickchart-complete:disabled:hover {\n",
              "    background-color: var(--disabled-bg-color);\n",
              "    fill: var(--disabled-fill-color);\n",
              "    box-shadow: none;\n",
              "  }\n",
              "\n",
              "  .colab-df-spinner {\n",
              "    border: 2px solid var(--fill-color);\n",
              "    border-color: transparent;\n",
              "    border-bottom-color: var(--fill-color);\n",
              "    animation:\n",
              "      spin 1s steps(1) infinite;\n",
              "  }\n",
              "\n",
              "  @keyframes spin {\n",
              "    0% {\n",
              "      border-color: transparent;\n",
              "      border-bottom-color: var(--fill-color);\n",
              "      border-left-color: var(--fill-color);\n",
              "    }\n",
              "    20% {\n",
              "      border-color: transparent;\n",
              "      border-left-color: var(--fill-color);\n",
              "      border-top-color: var(--fill-color);\n",
              "    }\n",
              "    30% {\n",
              "      border-color: transparent;\n",
              "      border-left-color: var(--fill-color);\n",
              "      border-top-color: var(--fill-color);\n",
              "      border-right-color: var(--fill-color);\n",
              "    }\n",
              "    40% {\n",
              "      border-color: transparent;\n",
              "      border-right-color: var(--fill-color);\n",
              "      border-top-color: var(--fill-color);\n",
              "    }\n",
              "    60% {\n",
              "      border-color: transparent;\n",
              "      border-right-color: var(--fill-color);\n",
              "    }\n",
              "    80% {\n",
              "      border-color: transparent;\n",
              "      border-right-color: var(--fill-color);\n",
              "      border-bottom-color: var(--fill-color);\n",
              "    }\n",
              "    90% {\n",
              "      border-color: transparent;\n",
              "      border-bottom-color: var(--fill-color);\n",
              "    }\n",
              "  }\n",
              "</style>\n",
              "\n",
              "  <script>\n",
              "    async function quickchart(key) {\n",
              "      const quickchartButtonEl =\n",
              "        document.querySelector('#' + key + ' button');\n",
              "      quickchartButtonEl.disabled = true;  // To prevent multiple clicks.\n",
              "      quickchartButtonEl.classList.add('colab-df-spinner');\n",
              "      try {\n",
              "        const charts = await google.colab.kernel.invokeFunction(\n",
              "            'suggestCharts', [key], {});\n",
              "      } catch (error) {\n",
              "        console.error('Error during call to suggestCharts:', error);\n",
              "      }\n",
              "      quickchartButtonEl.classList.remove('colab-df-spinner');\n",
              "      quickchartButtonEl.classList.add('colab-df-quickchart-complete');\n",
              "    }\n",
              "    (() => {\n",
              "      let quickchartButtonEl =\n",
              "        document.querySelector('#df-44f55b92-4667-4272-a4ed-8f731eb8eb41 button');\n",
              "      quickchartButtonEl.style.display =\n",
              "        google.colab.kernel.accessAllowed ? 'block' : 'none';\n",
              "    })();\n",
              "  </script>\n",
              "</div>\n",
              "    </div>\n",
              "  </div>\n"
            ]
          },
          "metadata": {},
          "execution_count": 31
        }
      ]
    },
    {
      "cell_type": "markdown",
      "source": [
        "#DEFINE LABEL AND FEATURES"
      ],
      "metadata": {
        "id": "t7CnEjWt2_Zw"
      }
    },
    {
      "cell_type": "code",
      "source": [
        "df.columns"
      ],
      "metadata": {
        "colab": {
          "base_uri": "https://localhost:8080/"
        },
        "id": "8IOV1QL52sZJ",
        "outputId": "46e76ae8-e9b0-4b24-f97e-b4912aa9c089"
      },
      "execution_count": 32,
      "outputs": [
        {
          "output_type": "execute_result",
          "data": {
            "text/plain": [
              "Index(['Surname', 'CreditScore', 'Geography', 'Gender', 'Age', 'Tenure',\n",
              "       'Balance', 'Num Of Products', 'Has Credit Card', 'Is Active Member',\n",
              "       'Estimated Salary', 'Churn', 'Zero Balance'],\n",
              "      dtype='object')"
            ]
          },
          "metadata": {},
          "execution_count": 32
        }
      ]
    },
    {
      "cell_type": "code",
      "source": [
        "X = df.drop(['Surname','Churn'], axis = 1)"
      ],
      "metadata": {
        "id": "c8Rjdk8B3PVz"
      },
      "execution_count": 33,
      "outputs": []
    },
    {
      "cell_type": "code",
      "source": [
        "y = df['Churn']"
      ],
      "metadata": {
        "id": "Q147ts3X3k4I"
      },
      "execution_count": 34,
      "outputs": []
    },
    {
      "cell_type": "code",
      "source": [
        "X.shape, y.shape"
      ],
      "metadata": {
        "colab": {
          "base_uri": "https://localhost:8080/"
        },
        "id": "huBCOb_R3rdD",
        "outputId": "322c6794-e5b8-4f06-bd59-e4fd29c6bf42"
      },
      "execution_count": 35,
      "outputs": [
        {
          "output_type": "execute_result",
          "data": {
            "text/plain": [
              "((10000, 11), (10000,))"
            ]
          },
          "metadata": {},
          "execution_count": 35
        }
      ]
    },
    {
      "cell_type": "markdown",
      "source": [
        "#HANDLING IMBALANCE DATA"
      ],
      "metadata": {
        "id": "hoNVnWUn4oTX"
      }
    },
    {
      "cell_type": "markdown",
      "source": [
        "Handling imbalanced data is a common challenge in machine learning, especially when dealing with binary classification problems where one class significantly outnumbers the other. Imbalanced data can lead to biased models that perform poorly on the minority class. Here are several strategies to address this issue:\n",
        "1.fraud detection\n",
        "2.spam filtering\n",
        "3.disease screening\n",
        "4.online sales churn\n",
        "5.advertising click-throughts"
      ],
      "metadata": {
        "id": "Qr-pGw424wcS"
      }
    },
    {
      "cell_type": "markdown",
      "source": [
        "Resampling Techniques:\n",
        "\n",
        "Oversampling: Increase the number of instances in the minority class by duplicating existing samples or generating synthetic data points. Techniques like Random Oversampling or SMOTE (Synthetic Minority Over-sampling Technique) can be effective.\n",
        "\n",
        "Undersampling: Decrease the number of instances in the majority class by randomly removing some of them. Care should be taken not to remove too much data, which can lead to information loss. Techniques like Random Undersampling or Tomek links can be used."
      ],
      "metadata": {
        "id": "wrfNEeSo5TsN"
      }
    },
    {
      "cell_type": "markdown",
      "source": [
        "![undersampling and oversampling.png](data:image/png;base64,iVBORw0KGgoAAAANSUhEUgAAAtUAAADVCAIAAAAXTpsVAAAACXBIWXMAAAsTAAALEwEAmpwYAAAgAElEQVR4nO3deUBTV9YA8AOIQthJcCUVURPXIWJrBQWV0FI1WD8XqIpC3bGO2qKtIo5tRafa4tIqVNxCXSpoXRrEsRqtUhM3NNjqmKgdNUAVElmUhD3fH7d9kwkQQghJwPP7K3l5ee+C5nJyz7n32mg0GkAIIYQQMiNbSzcAIYQQQq8cjD8QQgghZG4YfyCEEELI3DD+QAghhJC5YfyBEEIIIXPD+AMhhBBC5tbB0g1Af0pPT6+pqQkNDe3SpYul29IMR48etbGxAYDJkycDQEZGBgC8++67nTp1snDLEEJ6vXjxorS01MPDw8nJydJtMT2ZTJabm2tra4tdk9XC8Q8j/f3vf+/atevcuXO1D/bv39/Hx+fatWtGXPC9996LioqqqakxUQPNRCAQTJky5fHjx+RpZGRkZGRkcXGxZVuFENIjLS3t9ddfd3V1ZTKZzs7OAQEBhw8ftnSjTCwvLy8iImLDhg3kKXZNVgjHP4z37NkzNzc37SMKhUKhUBh3NWdn55cvX5qiXWZlb2+v/XTChAkqlcpSjUEINSkxMXHNmjXksa+vb3Fx8ZUrV65cuXL//n3qePuDXZMVwvGPFtFZPZZkIhqUn5/f4P9+uVyu5/r5+fl6Avb8/HzqcU1NjVwubzD6qa6ubuwl4tmzZ9p3yc/P1xMJ5eXl6WnwyZMnz54927VrV53jxcXFT58+rX9+eXl5QUGBngsihExIJBKRIGPNmjUajebhw4fPnz///PPPAeAf//jHL7/8YuB1TNI1AUBBQYH2yTqwa2rfMP5oRd7e3n379v35559ZLJa3t7eTk9NHH31EvXrgwAEmk/naa695eXmdOnVK570nTpzo06ePt7e3p6fn2LFj//Of/5DjH3zwAYPB+Omnn8g1yQXnzJljb29PLtW/f/+TJ09S14mOju7YsSN5qV+/fj/++CM5PnPmTG9v7+zs7EmTJnXt2tXT0zMuLu7JkychISHe3t5ubm6rV68mZ4rFYi8vLx6Pt3//fmdnZyaTOWjQoJ9//rnBH7lPnz5eXl4kqJo3b56Xl5dAIHjvvfc8PT27desWGhpaWFhInbxkyRJnZ+cePXqMHDnyp59+otPpXC63Zb9yhJA+3377LQCEhYWRmINYs2bN+PHjASA1NfXevXve3t69evWiXn348GH37t29vb3JU1N1Tdu2bfP09OzRo4e3t3enTp0SEhLIceyaXiEaZJTFixcDwIcffqh90MvLCwCuXr1Knjo6OgJA9+7dY2JioqKiyC/83LlzGo3mxo0b5CmPx3v//fe7d+9Onubl5Wk0muvXr5Onc+fOjYyMBIC//e1v5JoLFy4EgLCwMFdXVzc3t0uXLsXHxwNARETEpk2blixZQt748uVLjUazYsUKABg6dOiyZctI/9K5c2dynb///e8A0K9fvwkTJsTGxpJ3vfHGG+Hh4VRRy61btzQajUgkIi85ODi8++67gwYNAgBnZ+eSkhKNRjNnzhwASEpKIpd1cHAAgD/++EOj0ZDrTJkyhcvlLlmyhGRqFi5cSM6kOpHZs2ePGDFi4MCBADBixIjW/WdD6NXWrVs3ANi5c6fO8d27dwMAk8nUaDQBAQEAcOTIEfLS+vXrAWDBggUa03VNpFcBgEWLFs2ePZs8vnjxosZ0XZNQKAQAf39/0jzsmqwQxh9GMjz+2LJlC3kaGhpKPSWf1RkzZpCXjhw5oh1/zJgxAwA2bdpEXp05cyYApKenU2/s3r37ixcvampqNBpNcHAwAFy+fJmcvHHjRoFAUFhYqNFoUlNTFy5cWFBQQF6ys7MDAJVKpfnrQx4SEkJeItHJW2+9RZ6OGDECAA4dOqTR6inOnz9PXh0+fDgAfPnllxoD4o9Ro0aRl1JTUwHg9ddfJ09Jyf3x48fJ02nTpgFAYGCg8f8kCKGmaH8L0kb+WpNvpCkpKeTPM3lp8ODBAPDLL79oTNc1HT16NCEh4ZtvviEvka9nu3fv1piua2oy/sCuyeIw/9Iiego+KO+88w55QIY01Wo1AJCvEWRiGABMmTJF+y1kCDEgIEAikeTm5pIP1eXLl6kTxo8f7+zsTOIJEvWPGDHi9ddfX758eXBwMI/HI5HQvHnzUlJS7Ozs0tPTFy1aVFtbCwDV1dXUdcgXHQAgk36DgoLIU/IlqbKykjqza9euY8aMIY9Js69evWrAbwhGjRpFHvTt2xcAKioqAOD3338vLy8HgIkTJ5JXp06dasjVEEKtQaNVykaiiqNHj9bW1t69e/fXX3/t06cP+cNvqq5p8uTJ69atW7x48dmzZz/77LPffvsNsGt69eD8FyN17NgRAMhfdAqZPaszJYSaI0OOk5ClrKxM+yUA6NSpE/WhKioqAq2PHPHHH3/AX90E+RASX331VUFBwYkTJ3JycnJycpKSkoKCgk6dOuXi4nL58uW4uLirV6926NCB9BQAYGv736DTxcVF+6Crq2v9cwgPDw/qMelBSktL9f6GdG+h/Wt58eIFAJBOivD09DTkagihlujcuXNhYeGDBw90ChoePnwIAD169AAAJyeniIiIjIyM9PT0e/fuwV8RCZiuayLXPHDgAAD069evZ8+egF3TqwfHP4zk7u4OAEqlUvsgiSqo/9ZEg2Mk5DNDPsyEdkRPLn716tWHDx8+evQoLy+vvLx8165d1Akks0M9Pn78+JMnT7Zv3x4REQEA2dnZ27ZtA4CoqKirV6/u27evrKwsOzubvEv7o6VDz3COdik4+am1P/Z61O8vAIDBYABAbW1tXV0dOUJVsSGEWg/JAh89elTn+LFjx0BrSGDWrFkAIBAITpw4AQBU+ZqpuqYPP/zwwIED8+bN+89//vPvf/+byWRCI30FgV1Tu4Txh5H69esHAAcOHKBWG0tLSyPDIX369NE+s8FPDhld/OGHH8jTgwcPar86cuRIAMjOzvb19e3Zs+e6des+/vjj77//vv41NRrN/Pnzx4wZo1arP/jgg/T09LVr1wJAcXFxcXHxo0ePACAmJsbR0bGgoICkfoxTWlpKTdLJzMwEgDfffNPoq/Xo0YP0OBs3bgSAkpIS7Wp8hFArIaUP586do+abAMCnn3565swZ6lUAGD9+vLu7e3p6+q+//hocHOzr60uOm6Rrgr9SJOHh4T4+PgDw+++/g2Hp7Pqwa2q7MP9ipKlTpw4YMODu3btvvvkmm82uqKgga4AuWLBA50zN/64RQixYsGDbtm1HjhwZNWoUnU4/ffo0k8mk1gJZvHjxsWPHli9f/uTJE1tb2507dwKAVCqtfx0bGxtbW9uff/45MjJyxowZKpWKfL0YP368h4eHp6fn8+fPFyxYwOFwqO8oxcXF2t9RDBcZGcnj8Z48eSIWi52dnXXWfqXaY+DVVq5c+cEHH8THx3/55ZfV1dVhYWH4PQOh1jZmzJjVq1evX79+/fr13377bZ8+fXJyckjiOD4+niqkAIC5c+d+9dVXoDX4ASbqmgBg0KBBYrF4zZo1T58+/eWXXy5cuAB/hSZGwK6pjcLxD+MJBIIJEyYAgFQqffz4sZOT07Jly8j0esLJyYmM5hFVVVXU0/79+2dkZHTv3v3SpUuXLl36/vvvvby8qBznmDFj9u3b16NHj6+//nrr1q29e/c+duwYi8UCgJqaGjqdrt2Mb7/9dvHixRKJZMWKFWvXrrW3t09JSQkJCQGAlJQUT0/P1NTURYsW8Xi8adOmubm5kY96bW2tu7u79mdSew8IW1tbNzc37ZTQgAEDUlNTjx8/LhaL2Wz2jz/+SFpbUVGh/TP6+PhoP2UwGNRF6urqtF9atGjR1q1b2Wy2o6PjvHnzVq1aBcZ+AUIIGS4xMXHfvn1DhgxRKpVXr16tqanhcDh79+4l82wpM2fOZDAYDAaDKv4A03VN69evHzFiRG5u7vz58/Pz848ePerk5ETqWE3VNVVWVmqXbmDXZIVsGvx2jgynUqmePn1qa2tLBhKb68GDBzr5Gm2PHz+2sbF57bXXmryORqP5z3/+Y29vTwYPdW7h7e1Npp8ZQSwWBwYGDhgw4M6dO2q1uqCgoHfv3sZdStuZM2dYLJadnR356U6ePDlx4kQejycQCFp+cYRQk54/f15cXOzu7q4TNxjCJF3TkydP7O3ttUtWmwW7prYO8y8tRaPRqOSoEfQEHwBAysINYWNj01gz9N+iWRwdHU3yCQeApUuXSqXSCRMmHD58+OnTp4cOHQKA119/3SQXRwg1ydPT0+jJHSbpmgwJXwyEXVNbhPEHMgiZlmZCy5cvnzdv3o8//kij0cgRNpu9dOlS094FIdS+YdfUdmH+BTXh2rVrd+/eBYCYmBjTXvnGjRvnzp37448/OnTo0K9fP7JVjWlvgRBqr7Brausw/kAIIYSQueH8F4QQQgiZG8YfCCGEEDI3jD8QQgghZG4YfyCEEELI3DD+QAghhJC5YfyBEEIIIXPD+AMhhBBC5obxB0IIIYTMDeMPhBBCCJkbxh8IIYQQMjeMPxBCCCFkbhh/IIQQQsjcMP5ACCGEkLlh/IEQQgghc8P4AyGEEELmhvEHQgghhMwN4w+EEEIImRvGHwghhBAyN4w/EEIIIWRuGH8ghBBCyNw6WLoBrehojvxoTp6lW/GnAd1c/xE+0NKtQAghhKxCe44/8orVV35/bulWIIQQQkgX5l8QQgghZG4YfyCEEELI3DD+QAghhJC5YfyBEEIIIXPD+AMhhBBC5obxB0IIIYTMDeMPhBBCCJkbxh8IIYQQMrf2vP4YQqi9sqrVjacM9Z4ylGnpVqDW9/Q2/GuVpRuhhTMdODOaPOu9VLEZ2mKgw/MDqMcYfyCE2h6rWt14uC/d0k1AZlFRCo9+sXQjtPiMNOQs6/mk6MD8C0IIvdLq6uqKioos3Qr0ysH4AyGEXlF5eXnTp0/38PDw8/Pr2rXrP//5TyMuMn/+/OfPTfwNe+3atePHj1+/fr32wZqamtLSUgBYvXr1/v37TXtHZH7tOf+yLJS1LJRl6VYghJA1qqysfPvtt6dPn75v375OnTr9+uuvkZGRjo6Oy5Yta9Z1SExgQtevX09NTf3hhx8cHBy0j/v5+YlEIgDIz8/v27evaW+KzK89xx9bz8m2nrtv6Vb8aYTjH1/MDmMysUgNIWQV/vnPf/r6+iYkJJCngwcP3rRp09atW6n4o7Kysrq62tnZWeeNJSUl7u7u1NP09HTtV8vKylxdXfW/RYfOjSorK7t27RoYGKhzmlqtrq6uJo/t7OwAoLi42MPDQ+e0Bg8iK4T5FzPJK1alpKSoVCpLNwQhhAAATpw4ERUVpX2Ex+OdO3eOPI6KivL39x87dmxYWNiLFy8AQCQSRUVFTZgwITIy8rXXXtuzZw85s1+/fkqlEgB+++23wYMHh4WFDRs2bMWKFeTV1atXDx8+fNKkSX369BEIBPWboXOjrKysNWvWPHnyZNSoUZWVldRpEydOLCkpiY6OvnbtGgAolUoWizV69OjevXtfuXKFnJOamtq1a9cpU6b069fvhx9+MO2vC5lcex7/sLb8S3JyMp/PX7RokaUbghBCcP/+/QEDBjT4UlxcnIeHx507dwBg48aNs2fPPnLkCAAcPHhQKBSGhIQ8evRo5MiR48aN69atG1W7OmXKlHXr1k2dOhUAJk2atHv37nfeeeeHH364d+8eAJw5c+bLL78MDw9v8kbOzs5Lly69ePGi9pknTpzw9fU9dOiQm5tbcnKyQCD497//bWdn98UXX2zduvXw4cM3btz47LPPbt261a1bt/v37w8fPjw4ONjLy8v0vzhkIu05/rCq/MtwX8+9MTGJiYlCoZDL5Vq6OQihV52dnZ1Go2nwpePHj585c4Y8XrFiBUl2AMDIkSNDQkIAwMfHZ+jQoVlZWXPmzCEv3b59GwBGjRpVWFgIAPPnz//6668jIyMfPHiwZcsWMrwRFhZmyI1qa2vp9AamNBcXF1OPJ02aRE4eNmwYuQIZzrGzsyssLHRzc3v77bezsrKio6ON+t0gc2jP8Ye1odFosbGxiYmJLBYLC0EQQpbVr18/qVTq5+enfTArK2vcuHGVlZVUH2Vra+vq6kr+9mt3XN27d9eetfvs2TO1Wj19+nTqSF1dnYuLS1ZW1rfffrt27drXXntt0aJFOgPAjd2oSU5OTuSBjY0NeVBQUPD48WPtBpBIyIQUCiXDtFd8tWH8YVZMJjMiIiIlJSUhIYFGo1m6OQihV1d4ePj+/fsjIiKoI2fPno2Kinr+/LmdnV1+fn7v3r0BoK6urqysjFR0kjoP4smTJ8OHD6eeenp60mg0qnzk6dOnpJ6UyWQeO3YMADIzM8PDw2fMmOHm5ka9q7EbNUh/VamXl1e3bt2oKbu///57r169DP9tNEkikUjOZceY8IqvPKw/NTcul+vt7c3n8y3dEITQK+2jjz66c+fOxo0bSRYmJydn8eLF8fHxADB58uTt27eT07Zs2cLj8cjjn3766caNGwAglUrv3LlDHQeAoUOHvnz5kpoLs2rVqnXr1uXk5IwbN45MWgkMDLS3t+/YsaN2Gxq7UYNsbW31jI7weLzdu3fn5+cDQGFhob+/P1WX2nJyuVwoFMa8N9FUF0SA4x8WEYOFIAghS3Nycjp27NhHH320ceNGFxeXmpqaBQsWLF++HAC2bNkydepUf39/d3d3W1vbw4cPk7eMGjWKBCh37tzZvHkzqdKgZtsePXp05syZ27dvr62t7dat2759+wBg2rRpQ4cO7d69e35+/tatWx0dHbXb0OCNampqXr58Wb/Bb7zxBpvNJpWwlNraWltbWwAICgpatWrV4MGDhw0b9ujRo4SEhICAgPoXMYJcLs/IyIiNjYXCHJNcEBE2jdUftQPWVn+qve+OXC5PTExMSEjAQhCEjGBVn+5loX2taqpdc7148aKsrKxHjx46x8vKympra6msh0gkWrVq1cWLF589e9alS5fGrqZUKh0cHKj6DEL/W3RupEdVVZXOCEp9+u/VXCqVKiUlJTY2lkajwaNs4OsboTG30SthdNP74fmsPGWGthjo0RfjqceYf7EMqhAEVwRBCFmWi4tL/eADAFxdXRuMCfT/dafT6TrBR5NvaexG9TUZfDR5r2YhwUdERASW67UGjD8sBgtBEEJtiFqt9vX1tXQrzCojI4PH4+EodSvB+MOSYmJi8vLyhEKhpRuCEEJN4HK5pKTjFcHn81ksFpvNtnRD2i2MPyyJrAiSkZEhl8st3RaEEEJ/EgqFTCaz/h40yIQw/rAwLARBCCGrIhKJ5HI5zk9sbTj/1vK4XK5UKsWtYRBCyOKkUqlMJouJiWngNZ8g+LTU3A1qvzD+sAq4IghCyKrMnz//iy++8PT0NO7tFy5c2L9//969ewHg5s2b/v7+xl3k5MmTW7duNa4NRpDL5ZmZmbGxsQ2/3Dbn31otzL9YBSwEQQhZldLSFn3Rt7Ozq62tBYDs7Oy4uDjjLmJvb5+TY74lvxQKBVlnDGfbmgfGH9YCC0EQQmZWV1dHdTi1tbXanU96errO4Ef9NUlLSkrqX7OiogIAgoOD09LSAIDaO9dAVVVV5eXljb3a4Prr9Zth4CZ22lQqVVpaWnR0NAYfZoPxhxXBFUEQQuYxePDgjRs3Dh06lMVixcXFffnll2+88Ubv3r3J+usA0K9fP7Lb3ODBg7/66qvhw4f3799/7Nix5NVr166x2exx48ZxOJw1a9aQg3PmzDl48GCPHj2GDRt26dKloKCgoqKi1atXFxQUBAQE7NixIyQkhGrA+PHj9+zZo9OqadOmjRo16p133hk/frzOSytXrhw2bNikSZP69u378ccfk4OrV68ePnz4pEmT+vTpIxAIAOD06dMDBw6cPHnykCFDVq1qRm6CrDPGYOAGt+aD8Yd1wRVBEEJmkJ+fX1FRcevWrZycnD179tTV1d28efP69etpaWlkU46ioiJy5t27d2tra69cuSKXy0tLS7///nsAmDhx4qZNm0Qi0a1bt86fP79//34A6NChA5/Pf/jw4ebNm8meLF5eXhs3buzevbtYLF60aNHly5dJTFNRUZGdnT1nzhztJi1btozBYIjF4uzsbF9f37Vr11IvnT17Nisr69q1axcuXLh48eLWrVvLy8vz8vJ++OGHK1eunD9/fseOHdu2bQOA+Pj4/fv3nz9//vr166dOnXr8+LEhvw0+n8/lcnGdMTPD+MO6YCEIQsgMbG1tZ82aBQBdunSxt7cnj729vaurq1+8eKF9pp2dHTUZhMPhKJXKmzdvMhiMd999FwBsbGwWL158/Phxcs0xY8a4u7uPHDmSertarSYPbGxsZsyYkZGRAQAHDx6cPn26TpMEAgE1B/Cjjz6iBjkA4K233srOzgaAqqqqvLw8kjZyc3N78ODBli1b7t27FxYWdu7cOfIj7Nq16+eff+7QocPt27d79uzZ5K+CrDPG4XAM/+0hk8D4w+pgIQhCyAyofWs1Gg21r4qNjY3OaXZ2ds7OztSrGo2mqKhIe4+VHj16UIMl+ufLzJgxIzU1FQC++eabadOm6bz64sWLbt26kce9evXS2UQmISGhV69egYGBu3fvrqurAwAXF5esrKzs7Oxhw4YNGjQoOTkZAPh8fseOHefOnevh4WHIigYikYhOp+M6YxaB8Yc1wkIQhJDV8vLyKiwspJ7m5+d7eXkZ8kYul1tVVfXw4UN7e/tRo0bpvEqj0Z49e0YeX79+nczdJT7//PPCwsKHDx/euHEjNTVVo9GQJBGTyTx27FhZWdkXX3zxwQcflJaWVlRUbNu27cGDB9nZ2Xfv3iXhTmNEIpFMJgsPDzfwB0em1Z7X/1gWymq7m2LjiiAIIevk7+//9OnTrKyscePGAcDOnTujoqIaO9nOzq6qqop6+u677548eTIsLKz+maQiddOmTQBw5MiRjh07slh/duDPnj3r1asXqSk5ePAgAFRXV+fk5EyZMkUmk9nb2wcGBtrb23fs2HHkyJG7du0KDQ0dNGgQg8FwcHBorGFyuVwikTRr1UeFQonlqSbUnuOPredkW8/dt3Qr/jTc1/Pw/ADDzyeFIImJiSwWC6uiEEJmRmVn6HR6/VePHTs2Y8aMXr16lZWVvfXWW3PnzgWA6upq6gQq5hgwYEBBQUGPHj3y8/MBYPr06YMHD75z5079a+7YsWPSpEnBwcG2trYeHh7Hjx8/f/48eWnhwoXvvPPOr7/+amNjM2DAgDfffPP+/fujR4+eNm3a0KFDu3fvnp+fv3XrVkdHxx07dsyYMcPPz0+tVvfs2ZPUtdQnl8vJUh+G/0JEIpHsUnaM4W9ATbEho1jtklXFHz07lL7fp6rhNX0bJxQKhUJhQkICTklHSJtVfbqXhfZtu0OtLVFYWEin0w1Z4aO2tpacJpPJZs2adeXKlcbOLCsr02g0bm5uDd6uc+fO9Y8/e/ZMux4FAIqKilxcXBob/FCpVCkpKc1aZ0wgECiVypjRvdvi+qc+K0+ZoS0GevTFf2dWt+fxD2vLv4hEIoFA0KxcI24NgxCyWg1GAw2ys7Orrq4Wi8UpKSk60251UOMuht9OJ/gAAD31KCT4iIiIMDz4IBNkwsPD4VG2gW9BhmjP8YdVfUMa7ut5eH4gn88XiUTNqrXGQhCEUDtgb2+/bt06Nps9b948CzaDz+dHREQYntQmwQdOkGkNOP/FrGJiYmQymUgkMvwtpBBEIBBIpdLWaxhCCLW2s2fPbt++3YIN4PP5HA4Hgw8rgfGHuZEQRCKRGP4WXBEEIYRaKD093fBgQqVSJScnY/DRqjD+sICYmBihUNisFU4DAwM5HE5KSkrrtQohhNorMupsePCRkpISHh6OwUerwvjDMoxYZD0iIkKlUpE9lhBCCBmIrDMWGRlpyMlUgSoufNDaMP6wDCP2eaHRaGTgBAtBEELIQGSdMQPXPsDgw5za8/wXK0dCkGZNQ6cKQTZs2IArgiCEkH7NWmeMnKwv+PAJgk9LTdm+VxvGH5ZEo9FIPGF4CBIYGCiTyVJSUuLi4lq7eQgh1HapVCoSfBjSu1KRir6TH2W3xfXHrBbmXyzMiLktWAiCEEL6NWudMYOCD2RqGH9YHglBDN/tFgtBEEJIP8PXGcPgw1Iw/rAKTCaTw+EYHoLgiiAIIdQYw9cZk0gkGHxYCsYf1iIwMJDFYhkeguCKIAghVJ9AIDBw3TCRSCSRSOLi4jD4sAiMP6wICUHS09MNPB8LQRBCSJtIJFIqlQYGHzKZrLl7kiMTwvjDupCPjYEbxGAhCEIIUSQSiYEhBQYf1gDjD6sTGRlp+B51WAiCEEIAIJfLhUKhISGFQCDA4MMaYPxhjZq1TS4WgiCEXnGGrzPG5/PpdLoRwYdKpRJk31bV2RvTPtQQjD+sVExMjEQiMXB1dssWghQVFdXW1lrk1gghZPg6Y3w+37gtbeVyeVJSkkwmM7aNqAEYf1ivmJgYAzeIsVQhyOrVqzt37sxms52cnKZPn/7y5UuT32Lp0qU7duww7TVPnDjB4/GioqJMe1mEkPkZvs6Y0cGHSCRKSkricDhxc6bQbKuNbSnShfGH9WrWHnXmLwTZs2dPdnb2tWvXnj9/XlhY6ODgMHv2bJPfpTVGVmJjY2fMmDF37lyTXxkhZGYZGRk8Hk//Uh8qlSo5OdmI4EOlUvH5fDK4Eh4e3rKWIl0Yf1g1KgQxJKowcyFIZmZmRESEj48PALi6un7++efPnj3TPqGsrEytVuu8q66ujvpZamtr6/9cVVVVFRUV1FONRqP9ak1NzYsXL3TeUlxcrKedlZWVOgMzRUVFb7311ujRo/W8CyFk/ciQBpvN1nMOGSAJDw9vbvBBci5KpXLDhg36b4GMg/GHtaP2qDMkBDFnIUhgYOB333138+ZN8tTb2/vixYvk8bFjx/r37z9x4q2c2FMAACAASURBVMSgoKCgoKCqqioAGDx48MaNG4cOHcpiseLi4r788ss33nijd+/ey5cvJ+/q27fv559/HhoaOmLEiHnz5tW/47x58wYNGsTj8YKDg0msc/r06YEDB06ePHnIkCGrVjWwD1NUVJS/v//YsWPDwsJI4BIaGlpbWxsZGWnytA5CyJyEQiGTydQfVVDZGUPWQtX235wLrk7WajD+aAMMz62YsxBkxYoVQ4cODQwM7Nmz57x5806ePEm9tGDBgoMHD54/f/7GjRseHh4HDhwAgPz8/IqKilu3buXk5OzZs6euru7mzZvXr19PS0sjgxwlJSUVFRWXLl3KyckpKytLTk7Wvt2aNWtsbGzu3bt38eLF6OjomTNnAkB8fPz+/fvPnz9//fr1U6dOPX78WPstcXFxHh4ed+7cyc7ODgkJIemhc+fO2dnZHT169IMPPmjtXxFCqJWIRCK5XM7lcvWcY1zwgTkXs8H4o22gQhDDzzRDIUhKSkpeXt4XX3wBABMnTpw1axY5XlBQ4O/vDwAPHz7s27dveXk5ANja2pITunTpYm9vTx57e3tXV1dTKZWlS5eSBzNnztQOaADg8OHDcXFxhYWFhYWFEydOFIvFFRUV3t7eu3bt+vnnnzt06HD79u2ePXtqv+X48eNLliwhj1esWHH06FHymEaj2dvjJDqE2iqpVNrkAh5yudyI4ANzLuaE8UebwWQyuVyuIRvEmKcQRCKRAACDwZg2bdquXbsKCgr2799//fp1ANi7d++QIUPYbPaKFSuqq6upGg5XV1fyQKPRdOzYkTy2sbGhXu3SpQt53KVLl6dPn2rf7tmzZx988MH06dOnT58eGRn5xhtvFBUV8fn8jh07zp0718PDY9GiRTotrKyspLoeW1tbV1dX/ZUiCCHrJ5fLSfGZ/nPIAEazgg/MuZgZxh9tCYfDMXCPOjMUggwbNuzy5cvU027dug0YMKCsrOzu3bufffbZ0aNHpVLpsWPHyOCHIerq6kpKSsjjgoKCHj16aL/q4eGxefPmc385dOgQk8msqKjYtm3bgwcPsrOz7969m5qaqv0WOzu7/Px86uJlZWUeHh7G/8AIIUtTKBRNLvVBBR+GxxCYc7GIDpZuAGoeUmzF5/P1jz2SQpCkpKQmi8ON9vHHH3/44Yfbtm0LCAggTXrx4gWXy7106ZKzs3Pv3r0B4MmTJ1lZWQMGDDDkgiqVaufOnZ988gm52uTJk7VfnTp16tdff717924ASE9PX7NmjUwmGzly5K5du0JDQwcNGsRgMBwcHLTfMnny5O3bt2/ZsgUAtmzZwuPxTPSjI4QsQKVSpaWlRUdHmzb4kMvlfD6fRqNt2LChiXf5BMGnpc1qM9ID44+2JzAwUKlUikQi/YXfVCFI0x8qoyQmJlZVVU2dOrWkpKSmpobD4Rw6dAgAgoOD/fz8goKCGAzGy5cvExMTSaamSTQaraSkJDg4uLi4ODQ0dM6cOQBAzeD96quvoqKiBgwY0KNHjydPnpBBoB07dsyYMcPPz0+tVvfs2ZMqQCG2bNkydepUf39/d3d3W1vbw4cPk+MuLi6m+zUghMyE1HMwGIzGThCJRBKJpFnBh0gkysjI4HK5Bg17PMoGvjV9jRm9EkY3MO+vrbDRWV+hPdl6Trb13H1Lt+JPw309D88PMOEFDVzLj8/nK5XKuLg4E95axx9//NGxY0c6na59sKSkxM7Orll/6X18fH777be6ujp7e3tHR8cGz1Gr1eXl5TodUFFRkYuLi87gB6WsrKy2thYzL+2MVX26l4X2XRbKsnQr2jk+n8/hcDgcTmMnNHdLW7JqO4lXDB0kbpvxh8/KU2Zoi4EefTGeeoz1H22VgXvUmaEQpFu3bjrBBwC4u7sbMcygVqtdXV0bCz4AwNHRsf63Hy8vr8aCDwBwdXXF4AOhNo183TJh8KFQKHCei8Vh/NGGGbJHHbUiiIFJEAsaM2aMpZuAELI6IpGITqfrGettbvAhkUgSExPJQog4z8WCMP5o2wzZo47JZMbExPD5fIVCYbaGGWHfvn1eXl6WbgVCyIqQ2EJPcUZ6erpcLjc8+EhPTyf1+5GRkaZpIjIWxh9tm4F71HE4nICAALNtDYMQQi0nl8slEome2ILP5zOZTAMjCYVCsW7dOplMlpCQoCeVg8wG4482jwpB9A9vkI9oenq6udqFEELGIzNp9Qcfhm9pS+Vc1qxZo2cGDTInjD/aAxqNFh0dnZaWpn/N9djYWLFYbP2FIAihVxyZnKJnJm2zgg/MuVgnjD/aCQaD0eS2LwwGw5yFINnZ2WTLN0PMnz//+fPnAFBTU1NaauQKP9RFEEJtF7VvXIPBh0qlSk5ONjD4MGHORSKRrNt1UlHj1JKLIG0Yf7Qfhuw8Z85CkNLS0g4dDF3gjoo5/Pz8jL7jDz/8YPR7EUJWgs/nN7ZvHAlNwsPDDQk+TJVzIZvS8fl87tC+jA6GbiiBmoTxR7vCZDJ5PF5GRoaec1pSCKK9f1v9vdyqq6upDVwA4K233tq+fTv1tLKy8uXLl/WvSaKl9PR0T09PAFCr1dXV1cY1SUdZWRm1fKqe88vLy+ufhhCyCLLOmJ7gw8AtbU2ScyH7wpAgZsOGDYH+Bm0lgQyE8Ud7w2azm9yjrrmFIIsXL05NTfX19R09enRAQMCtW7d69+4dFBQ0YsQIcoJSqRwzZgxZw7hbt25kubPLly+/++675ISoqCh/f/+xY8eGhYW9ePECAC5evDh79mw/Pz8mk/nrr7/269dPqVROnDixpKQkOjr62rVrU6ZM2bNnD3l7bW3t0KFDddbq3bx5M5vNnjJlSq9evS5evKj90rFjx/r37z9x4sSgoKCgoKCqqioAOH369MCBAydPnjxkyJBVq/5cNHDUqFHjxo0LCwvjcrkYhSBkWenp6Y0lVgwPPkyScyHLNsbHx6tUqvXr14eHh+NKISaH8Uc7FBgYqD8EaW4hiI2NTUZGxoMHD3Jzc93c3DZs2PDw4cPffvvN1dWVbKqyevXq0NDQS5cuZWdnr1+/ftOmTeSN5A9/XFych4fHnTt3srOzQ0JCqKKQ06dPf/PNN/fu3Rs8eHBRUREAnDhxwt3d/dChQ8OGDZs2bRo1kHP48OG//e1vNjY2VJMuXbq0c+fOK1euCIXC5ORknUKTBQsWHDx48Pz58zdu3PDw8Dhw4AAAxMfH79+///z589evXz916tTjx4+TkpKCg4MvXrx46dKlvn37ao/WIITMjKzm3GDwIZfLDQw+TJJzEYlEiYmJMpksNjZ20aJFOF+mleD+c+1TYGCgWq0WCoVcLrfBE6hCkDVr1hhywZCQEFtbWwDo27dvr169yEEfHx9St/Htt9+SI0qlsnPnzjoFpMePHz9z5gx5vGLFCjs7O/K4c+fOwcHBOjei8iOTJ0+eM2dOYWFh586djxw5smjRIu3TsrKypk+fThZWHzt2rM469AUFBfb29gDw8OHDvn37lpeXA4C3t/euXbsiIyNHjx59+/ZtAPD09Dxw4MDAgQPDwsKoHwEhZH561jA1fEvb9PR0sVgcExNj9LCHVCrNzMxUKpU8Hs/AyTXIaO05/lgWynqVN4Xicrl8Pl/PNrmRkZHr1q1LT09vMj+q0Wjc3Nyox506daJeImMSN2/eTEhIyM3NZbPZ48eP13l7ZWUl9a3F1tbW1dWVBBnu7u767/vee++lp6dPmzbtl19+OXHihPZLT58+HT58OPW0S5cu2q/u3bv322+/ValUAwcO9Pb2JokbPp//+eefz507V6lUTps2LTk5+f333y8rK9u2bdv06dPffvvt9evXDx06VH+TEEImR9YZ0/mOQb1kSPChUChIWX1CQoJxwxUKhSIzM1MikXC5XC6Xi9kWM2jP8YdV7ZA5BB6ufS/YzIvukSQLNDKkCQCxsbGJiYlsNruFDZszZ87y5cuzsrIA4OzZszqFGnZ2dvn5+b179waAurq6srIyPRvCab8UFRW1atUqOzu7mTNn6pzm5eVFUjbE9u3bp02bRh7fvXv3s88+y87OJnecM2cOOV5RUbFt27Zt27b99ttvpKIlMjLynXfeWbp0qVKpTE5OXr58+YULF1rye0AINRcVYeh5SX80IJFI+Hx+QECAcaWmKpVKKBQKhUIOh2N0+IKMgPUfZlLj3JXP5yclJZl5ExayTa5UKm3wVeNWBNEJLwAgLy+PxfpzqGnPnj11dXXar06ePJkqrdiyZQuPp28Da1tbWyoFM3LkyJcvXx47dmzWrFk6p40dOzYjI6OyshIAzp8/n5SURO3Bq1AonJ2dSfDx5MmTrKwsMqFm5MiR586dA4BBgwYxGAwHB4eNGzempqYCAJ1O9/X11bPvLkKoNehZZ0wkEgkEgiaDjxbOcxGJRPHx8aTUIyYmBoMPc2rP4x/Wln9RqXgCgWD16tU8Hs+c43tkURAajdZg6VZzC0EAoLa2VufI6tWrp0+fPmjQoJKSkk8++eSjjz4ix0mpx5YtW6ZOnerv7+/u7m5ra0tKVnW4urqSB2+88QabzT5y5MiECRMAYMKECcePHx8yZIjO+SEhIVFRURwO57XXXrt3796hQ4eoiwQHB/v5+QUFBTEYjJcvXyYmJpKZPjt27JgxY4afn59are7Zs+esWbNqamrefvvtoKAgBweHZ8+eHTx40MDfAEKo5fSsM0bKQRrMyFBamHORSqUZGRlqtbol9SKoJWzqf5dtN6wq/zLc1/Pw/AD4a0RRqVRGRESY7T99k1PX1q1bx2KxWjJRvra29vnz59ob2AqFwo0bN/7000/kaVlZWW1trZ7MC6Wqqqpjx47k8T/+8Q9nZ+ePP/64sZNJgWr94yUlJXZ2di4uLjrHi4qKXFxcHBwcqCNlZWXV1dXU8AlqE6zq070stK9VfdVpK5KTk8PDw+t3SnpqUSktybkoFIqMjAyZTEaWDGju29scn5WnLN2E/3r0xX8LBNvz+Id1YjKZcXFxIpGI7NwYHR1thhE/skednhCk5YUgdnZ22sHHzZs3Hzx4QFWtgtYIR5NI8HHhwoXa2tqMjIzs7Gw9JzcYfEDjxa3ajWxuwxBCptLYOmOGBB9Gz3Mhq3qcP38+ICBgw4YNzR6EfpQNfH3pY3MbvRJGr7J0I4yH9R+WERgYuGHDBm9v79WrVwsEAv37xpkEtU1ug/cy+dYwW7duPX36dFxcnNFXKC0tTUxMXLlyZf2IASHUpgkEggbXGePz+UqlUk/w0ZK1xYRCYXx8fF5e3vr162NiYnCGi8Xh+IfF0Gi0yMjIwMDAjIwMsVhshnQMjUYjtSANlnQZUQiix3fffdfCK0ycOHHixIktbwlCyKqIRCKlUlk/8dHklrZG51ykUmlaWhoAxMbGstlsI9qMWgOOf1gYScfweDzzzI7Rv0ddS7aGQQihJkkkkgbTK00GH8bNcyFbx6WkpHC53A0bNmDwYVUw/rAK5kzHkBCksdXZm7s1DEIIGUgulwuFwuYGH8blXHS2jmtsJWhkQRh/WAuSjklISJDJZPHx8ToLipsWk8nkcDgNhiAmLwRBCCFoZJ0xlUqVlJTE4XAaCz6M288Ft45rE7D+w7qQdIxEIqGKQgzZadoI5NNOxjN1XjJtIQhCCDW4zliT6wIYMc+FdJ6Ojo5Y6mH9MP6wRhwOh8ViCYXCxMTEkJCQVorfSQgiEAjqF4IZvjUMQgjp1+A6Y/qDDyPWFiNbx8nl8oiICNw6rk3A/IuVotFo4eHh69evz8vLa710TGBgoFKpbPDiWAiCEDKJjIwMHo+nHWeQ8KKx4EMqlTYr56JQKPh8fkpKCin1aI3gQ6FQCASCdbtOKmqcTH7xVxaOf1g1BoPR2umYxvaoowpBcEMmhJDRSG2pdiqEFII0tvSiQCAQCoUGjmG09tZxKpVKIpGIxWKZTObn5xce5Me4ssu0t3iVYfzRBrR2OqaxEAQLQRBCLSEUCplMpnbHomdLW5KRUalUcXFxhnzREolEmZmZdDq9NUo9pFIpGQCm0+mBgYF/NvhRNlwx7X1eaRh/tA0kHRMQEJCWlhYfH2/yBGdMTExycjKTydT52JNCkAbLVBFCSA+RSCSXy7W7Dj3Bh1QqTUlJ4XA4TW54C1pbx/F4PNP2hAqFIjc3VygUqlSqgIAAAyMhZByMP9qSVk3HxMTENJiRjYuLIwUoWNKFEDKQVCrVWWeM1Ic2GF4YnnNpva3jRCKRRCLJzc318/MzeViDGoTxR9vTSumYxvaoo47XHx1BCKH65HI5CTWoI2RXufrBh+E5F1LqkZmZaeTWcY03VSgUSiQSGo3G5XIjIiKw3M1sMP5ok1opHUOFGjrdBJvN5nK5fD4/Li4OV/JBCOlBhii0+5DGtrQ1POciFAoFAgGTyUxISDDJtyDtPAuHw8E8i0Vg/NGGtUY6prE96sLDw2UyWUZGBhaCIIQao1Kp0tLSoqOjmww+DMy5mHzrOMyzWA+MP9o8k6djqD3qdEKQ2NhYLARBCOlBErhUCkMoFOqUoILBOReFQpGWliaXy8PDw1u+e4tcLheJRGKxGPMs1gPjj/bA5OkYao+6RYsWad8FC0EQQo3h8/lcLpfqHPh8PpPJ1Ak+DMm5qFQqgUBw/vz5kJAQQ6bD6KFSqcRisUgkUiqV5Ka4KLv1wPij/TBtOobao067+8BCEIRQg8g6Y9RGLQ1uaWtIzoWcw2Qy169f35IhColEIhKJcnNzWSwWl8vlcDgm6LJ8guDT0pZeBP0F44/2xoTpmAb3qMNCEISQDpFIRNbpIk/rBx+G5FxMsnWcdp4lICDAxHmWR9nA55nsai03eiWMXmXpRhgP4492yITpGPJGnY3osBAEIUTRrjAl+9zqBB9N5lzIumQt2ToO8yxtEcYf7ZZOOobH4xn3gQwMDExPT9eONrAQBCFEyOVyiURCCsXIIIdOV6M/56JQKDIzM0kHZVypR6vkWZBZYPzRzlHpGPL9Q2cLbANFRkbqbBCDhSAIIWo9dfgr+NAuO9Ofc9HeOs6IUg+FQiEUCnNzcwHA9HkWZBYYf7R/VDomIyMjPj7euMls9feow0IQhF5lJNVCBi3qBx/6cy5Gbx1HNqQVCoV5eXkk7KAqXlGbg/HHq4LBYCxatIgs5iMSiSIiIpqbjqm/Rx0WgiD0aqICDhqNRhbq0A4+9ORcyC4wSqWyuWt/SSQSiUQiFou9vb0xz9I+YPzxamGz2Rs2bBAIBMalY3T2qMNCEIReTXw+n/QDJAUTHR1N0h96ci7aW8dxuVwDex7tPIufn18LJ+Uiq9Ke449loaxloSxLt8IaGZ2Oqb9HHRaCIPSq4fP5HA6HCj6oDEtjORcjto7DPMuroD3HH1vPybaeu2/pVvxpCDycPaIX+dBaui0ALUjH1N+jDgtBEHp1pKenk+m1OsFHYzkXkUiUkZFh+NZxUqlULBZLJBI6nW4NeRaVSiWXy2UymVKpdHyWE9n0O5Ch2nP8YVVqnLsqlcqkpCQAYLFYbDbbz8/P4gOJxqVj6u9Rh4UgCL0KRCIRAAQGBpLBCe3i0/o5F2rruJiYmCZHLxQKhVgsFovFKpUqICDAghvSKhSKvLw8KuZQqVRMJpPFYrFYLGbvTiD8ziKtapfac/xhnfkX8t9aKpVmZGTQ6XSyYjGLxbJgjG9EOkZnjzosBEGo3aPWGSMP4uLioJGci+Fbx5E8i1gslslkfn5+FsmzyP9Cwg4ajebt7c1kMnk8Hp1O/59viY9qzdy29q09xx9WlX8Z7ut5eH4AAJC/0OQzKZVKJRKJQCDIy8vz9vYmsYhFlu0zIh1DhSCkG8JCEITaMWqdMe3VTuvnXAzfOk47zxIYGNjCfeYMR/IpJNQgD0i0QXa8YjKZ2H2ZTXuOP6wfm80mf+ZVKpVMJpNIJGlpaUqlkhoUMfNYQnPTMSSQojaIwUIQhNolqtSDCj4azLkIhUKBQKB/6zjz51kUCoVSqZTJZCTaIPkU8n1Pe7deZH4Yf1gFGo3G4XDIwKNCoSCxiEAggL8WMGWxWGYrFmlWOobD4ahUKioEwUIQhNoZap0xoVCoVCpjYmLq51zIPg8AoGc9MbItnBnyLGRgg4o5aDQayXQHBgZ6e3tbvOoOUTD+sDoMBoPBYJC/32TMUywWp6Wl0el0Pz8/NptthmKRZqVjtLfJxUIQhNoTap0xsqtceHg4GeSgci5Nbh0nl8uFQqFEIqHRaFwutzXyLFKplORTSMxB8il0Op3H42E+xZph/GHVtP+KSyQSqVRKikVYf2nVYhHD0zGBgYFKpZIMe2AhCELtBllnTCgUkqRwcnJyXl4eSZqQcZHGto5TKBS5ublCoVClUnE4HBPmWagJsSTgIP0hyafQ6XTc9rYNwfijzdBJ0MhksrS0NJVK1dqzeQ1Mx4SHh1MbxGAhCELtAFlnjAQfTCYzMTHR29s7ISEB/qo8ZbFY9Us9RCKRRCLJzc318/Nr7iLrDSJxBhVzAACZEBsYGEin03Gcte3C+KPt0UnQ6MzmJV9TTDvwYGA6RnuPOiwEQahNI5WkEomEw+Go1erExMSIiAgul9vY1nE6eZaWbEgrlUpJwJGXl0fyKSTOwHxKO2Oj0Wj0vc4fD49+MVdjmjJ6JYxeZfjp1jn/tvVIpVJSuNqqs3nJ9x4Oh8Pj8RrsX/h8fkBAAJvNJkVqdn7hP0grTNsGozXjX+Hnf8LPX7RycwzmMxJiTlm6EdbFqj7dy0L7NmOpoUfZwOe1ZnOa6dPS+sfIGIZarebxeGQR9NjYWJVKVX/rOJ08ixEzSrQXGCUxB8mkkFkqmE9pOZ+VVtR7PPpiPPUYxz/aDzKbNzw8vFVn85J0TGZmZmJiIpfLDQ8P1zmBLApCo9FIIcih0/8C19Etvy9CyDzITrNqtTogICAtLc3b25tMfpFIJNpbx0kkEpFIZESeRc8Co9Y+IdbaYsdmfie3Nhh/tEN6ZvNSsUhLikUYDAaZg0eqz6Kjo7W/o2jvURceHn7zpZs490XLfyiEkBnI5XKBQEDmrKalpfF4PABITEwMCAhISEhgMBjkBLFYTKPRyM5wTXYm2guMymQyOp3e6AKj6FWC8Uc7V79YxFSzedls9po1a4RCYUpKCovF0u6GqBAkOjp67bTgtdNM+RMhhFqJXC5PSkqi0WhqtVqpVIaEhAiFQrJ1HJ1OF4vFIpFIqVSSlT8ay4zoX2AU8ymIgvHHK0R76Xft2bze3t5kUMSIroHL5ZLZMTrpGBqNFh0dnZaWVtmXmyrKN/FPYiwzVOEg1EaRhQTVajV5SqPRcnNzqXXWc3NzSX6kfnk7lU/BBUZRs2D88YqiEjRk/yed2bzNKhah0WgNpmMYDEZERMTKvWcAurXiT4IQajGVSpWUlJSXlwcAarXa0dGRzDrh8/n18yz1FxglIxy4wChqFow/XnU0Gi0wMFBnNi9JADdrNm+D6Rgmk/nGiODLVjNPASHUoIyMDBJ8EDQaTSaTUXkWqVSam5uLC4wi02rP8ceyUFYzJsWhenvzymQyoVBICuDJuEiTWzbUT8fgvwJCVo7P54vFYuopWUnI0dFRqVRSc+hwgVFkcu05/rCqFQLaXOWBzmxekl4hYxv6Z/PqpGNq+wSny2rN3PjGtLl/BYRaG5nMon1EpVKRmIPNZmM+BbWe9hx/WBWpVLZgAR8A6HQ6nU4HABaLBQAkdUqOW+fnnJrNGxkZafhsXiodc/zn6wCDLdFwhFAThOWszMxMnYNqtZrs8GCRJlkzVsfCOLqlG9GOYPxhJmw2a+f8aABQKBRKpRIAyMdboVBIJBIAUCqV5DiJSxwdHckAAxWvWMOwp57ZvFQsop0M5nK5v2qYYDWjUAghbVwnGffL65ZuRdvxKBv45y3diPajPccf1ll5QP6EQ+PxhFQqBQC1Wk12WiJLBALA5s2boaG4hBpHMfM8N51iETIoUn82r3X+KyCEELKs9hx/tNH6DyouabDYk6ztA1rjJWT4VKVSkfJ1i+R3SLEI/O9sXqVS6efn97jGLb3AvZXu21xY/4EQQlaiPccf7RLZV0XPCU3md7y9vWk0Wv1xFJPMo9OezUs2pnp852kLr4kQQqj9wfijvWkyvyOXy1UqVf38jlwuJ+sO1Y9LHB0djcjvMBgMLpf7q0YGBdYyCoUQQshKYPzxyqHCCAPzOyKRSK1W18/vkHGUJvM7WP+BEEKoPow/0P8wPL9DNnpoMr+T9cTmtNzGLG1vGtZ/IISQlcD4AzVPc/M7CCGEUH0YfyAT08nvPDwnOy3H+g+EEEL/w0aj0Vi6DQghhBB6tdhaugEIIYQQeuVg/IEQQgghc8P4AyGEEELmhvEHQgghhMwN4w+EEEIImZvx8UdNTU1RUZEJm4IQQi2HXRNCbYIx8ceDBw/+7//+z8HBoXPnzi4uLnPnzn3x4kWDZyYkJCxevLimpkbP1ZYsWfLxxx83tw0XLlxYsmTJd999p+ecjz76aOHChRUVFXrOKSsrq62tbe7dzXM1hFCzYNdknqshZBLNjj9evnwZFhZ24sSJqVOnfvrpp6GhoXv27Hn77bcbPLmgoGDfvn36lxg5cuTI7du3m9uMurq6b775Rv855eXlO3fu1HPCtm3bevbsqb8XMJxpr4YQahbsmsxzNYRMpdnxx+eff/77779/9dVX33///dq1a48fP/7JJ59cuXJF5yNXXFwMAGvXrpXJZPb29tTxkpISnQtev349NTVV5yB5u7aqqqr6721MY2cWFxdrfwmQSqUlJSXazWvwLmq1urS0tMGraT+tfzWEkNlg19RYI7FrQlZK00x9+vSxsbHRPvLs2TMACA0N1Wg0sbGxvr6+ZNBy1apVUVFRXbp0qaqq0mg0hw4d8vLyAgAul5uQkNCjRw/y9s6dO48dO1aj0QiFQhcXl3/961++vr4A0Ldv3ytXCH+iFQAABYRJREFUrpBzJk6cSFrr6Oj41VdfaTSac+fOAUBaWppO8w4fPtytWzcAGDNmzPz58wFArVZrNJp169ZRP/J7772n0Wi2b9/u5OQEAB4eHj/99FODdykoKAgODiYHu3TpcujQIXKXXbt2ubi4AEDnzp0PHjzY4NUQQuaEXZMGuybUpjQ7/gAANputc9DBwcHHx0ej0SxcuBAARo0atWnTppycnLlz5wJAVVUV2Rn1b3/726VLl/bu3Ut2bCfvdXZ2pj7kAODv73/27Nl9+/YBwPTp0zUazWeffQYA6enpYrE4ICDAyclJ08iHvKysjDTvwoULaWlp5MOpVqt/++03BoOxfPnyGzdurF27FgDOnDmze/fuJUuWAMA333zz008/NXiXhQsXenp65ubmymSyMWPGBAcHazSanJwcAJg9e/aNGzfmzZsHAI8ePdK5mhH/EgihlsCuCbsm1LaYLP7o2bOn5q8P+fXr18lx6kN++PBhADhw4AA5Hh4e3tiHPCkpiRyn0WjkiwtRWVl5+fLl999/n7yxwQ/58ePHAWDv3r3adyFfMjQaTW1t7b1798hgbHp6OtXaly9fNnaXBQsWAEBUVBSfz7937x45JyEhAQCePn1aU1NDtnj95ptvGrwaQshssGvCrgm1Lc2u/+jVq5dUKtU+8scff1RUVPTu3Zs6ov2YIF8yyPAjAHTt2rWx69PpdPKgU6dO5MH9+/fHjRvn4uKybNmyBpOdFIVCAQDdu3cnT6kHALB06dLOnTvzeDyJRAIAtra6P3iDd/n00095PN6BAwdiYmL69es3a9YsACgoKACAPn36uLu79+/fv2PHjk+ePNHTKoSQGWDXhF0TaluaHX+QTOSmTZuoI5s3bwYAHo9HHXFwcNB5F/l4//vf/yZP792712iD6n38Pvzww6tXrz569OjatWvu7u562kaSuNRHLi8vjzzg8/lff/317t2779+/HxkZCQB2dnbUu2xsbBq7S9euXTdv3qxUKjMyMiIiIvbv3y8SichdHj58+OLFC6VSqVartX8b5GoIITPDrgm7JtS2dGjuG1avXp2RkfHJJ5/cvn174MCBN27cOHbsmL+//4cffqjnXe+++66zs/PHH39cVVX14MGD3Nxcw+9YVlZWUlJSVFT0+PHjzMxMPWe+8847ALBx40YfH59Hjx7dvHmTHC8vLweAoqKip0+fkoL26upqAOjYsSMAnDlzxsnJqcG7jB8/Pisr69y5cwEBAeRqDAYjPDx848aNCQkJy5cv37dv36ZNmwQCwbhx47Sv1tisP4RQK8GuCbsm1MYYkbO5d+/ehAkTyNttbGxmzJhRVFREXlq4cKGHh4dKpSJPo6KiPDw8SJG5UCgcMGCAq6vrvHnzyGghOcfHx4dKsjo7O1N5Ux8fH5Jk/fHHH0nU37t37507dzo7O+fk5Jw5c8bd3b1+kfnx48fd3NwAICgoaNOmTe7u7mq1uqKiYuTIkQDg5OS0fft2Go22cuVKjUZz9OhR8lPs3bu3wbvk5eWRjgMAHB0dt2zZQu6yefNmR0dHcnzt2rXkoPbVjPitIoRaCLsm7JpQG2Kj0bsCjx4VFRVKpbJLly4dOjQ9iHL79u1bt2717Nlz9OjRABAREZGZmalSqQy/XWFhYefOnQ08uaioiAxFNnmwsrKyvLzc09NTz13Ky8vLy8vrH3/27FmXLl30XA0hZH7YNWHXhNoE4+OPZikvL/fw8Kiurl6xYkVpaWlqaup77733/fffm+HWCCHUGOyaELIUM8UfAJCdnb1nz57ff//d3t7+zTffXLdunXalFUIIWQR2TQhZhPniD4QQQgghwpj9bxFCCCGEWgLjD4QQQgiZG8YfCCGEEDI3jD8QQgghZG7/D7wDUBug1+OhAAAAAElFTkSuQmCC)"
      ],
      "metadata": {
        "id": "dnjH5mBf52Yh"
      }
    },
    {
      "cell_type": "code",
      "source": [
        "df['Churn'].value_counts()"
      ],
      "metadata": {
        "colab": {
          "base_uri": "https://localhost:8080/"
        },
        "id": "42e52fxS3xj3",
        "outputId": "271172da-595c-4d72-aa92-a3b2c512020b"
      },
      "execution_count": 36,
      "outputs": [
        {
          "output_type": "execute_result",
          "data": {
            "text/plain": [
              "0    7963\n",
              "1    2037\n",
              "Name: Churn, dtype: int64"
            ]
          },
          "metadata": {},
          "execution_count": 36
        }
      ]
    },
    {
      "cell_type": "code",
      "source": [
        "sns.countplot(x ='Churn', data = df);"
      ],
      "metadata": {
        "colab": {
          "base_uri": "https://localhost:8080/",
          "height": 449
        },
        "id": "w9zBut356gx2",
        "outputId": "ecad4f66-5d75-43ef-f54e-01aaddb64547"
      },
      "execution_count": 37,
      "outputs": [
        {
          "output_type": "display_data",
          "data": {
            "text/plain": [
              "<Figure size 640x480 with 1 Axes>"
            ],
            "image/png": "[encoded data removed]"
          },
          "metadata": {}
        }
      ]
    },
    {
      "cell_type": "code",
      "source": [
        "X.shape, y.shape"
      ],
      "metadata": {
        "colab": {
          "base_uri": "https://localhost:8080/"
        },
        "id": "F20NqsbZ63Cv",
        "outputId": "9b561e61-36e7-488f-86b6-a35dd61591a0"
      },
      "execution_count": 38,
      "outputs": [
        {
          "output_type": "execute_result",
          "data": {
            "text/plain": [
              "((10000, 11), (10000,))"
            ]
          },
          "metadata": {},
          "execution_count": 38
        }
      ]
    },
    {
      "cell_type": "markdown",
      "source": [
        "#RANDOM UNDER SAMPLING"
      ],
      "metadata": {
        "id": "p0LgaPOs7P0v"
      }
    },
    {
      "cell_type": "code",
      "source": [
        "from imblearn.under_sampling import RandomUnderSampler"
      ],
      "metadata": {
        "id": "lzXjpnYY69uE"
      },
      "execution_count": 39,
      "outputs": []
    },
    {
      "cell_type": "code",
      "source": [
        "rus = RandomUnderSampler(random_state=2529)"
      ],
      "metadata": {
        "id": "MuHXqCLT7puL"
      },
      "execution_count": 40,
      "outputs": []
    },
    {
      "cell_type": "code",
      "source": [
        "X_rus, y_rus = rus.fit_resample(X,y)"
      ],
      "metadata": {
        "id": "LEhiipt274Xw"
      },
      "execution_count": 41,
      "outputs": []
    },
    {
      "cell_type": "code",
      "source": [
        "X_rus.shape, y_rus.shape, X.shape, y.shape"
      ],
      "metadata": {
        "colab": {
          "base_uri": "https://localhost:8080/"
        },
        "id": "UPev4O-B8KaR",
        "outputId": "61146452-98e7-4f9e-cc0a-606f1a42737c"
      },
      "execution_count": 42,
      "outputs": [
        {
          "output_type": "execute_result",
          "data": {
            "text/plain": [
              "((4074, 11), (4074,), (10000, 11), (10000,))"
            ]
          },
          "metadata": {},
          "execution_count": 42
        }
      ]
    },
    {
      "cell_type": "code",
      "source": [
        "y.value_counts()"
      ],
      "metadata": {
        "colab": {
          "base_uri": "https://localhost:8080/"
        },
        "id": "Hu9H49Ay8aij",
        "outputId": "1fb97625-e4a1-4322-c7ae-e875d6adb7cd"
      },
      "execution_count": 43,
      "outputs": [
        {
          "output_type": "execute_result",
          "data": {
            "text/plain": [
              "0    7963\n",
              "1    2037\n",
              "Name: Churn, dtype: int64"
            ]
          },
          "metadata": {},
          "execution_count": 43
        }
      ]
    },
    {
      "cell_type": "code",
      "source": [
        "y_rus.value_counts()"
      ],
      "metadata": {
        "colab": {
          "base_uri": "https://localhost:8080/"
        },
        "id": "cTOKfW-i8gtf",
        "outputId": "c1a0260b-05be-4288-89d8-8f063d42a0e7"
      },
      "execution_count": 44,
      "outputs": [
        {
          "output_type": "execute_result",
          "data": {
            "text/plain": [
              "0    2037\n",
              "1    2037\n",
              "Name: Churn, dtype: int64"
            ]
          },
          "metadata": {},
          "execution_count": 44
        }
      ]
    },
    {
      "cell_type": "code",
      "source": [
        "y_rus.plot(kind = 'hist')"
      ],
      "metadata": {
        "colab": {
          "base_uri": "https://localhost:8080/",
          "height": 447
        },
        "id": "6Jdde1eT8oKn",
        "outputId": "8d805dbb-4763-4cad-c752-9f823dc3e4ba"
      },
      "execution_count": 46,
      "outputs": [
        {
          "output_type": "execute_result",
          "data": {
            "text/plain": [
              "<Axes: ylabel='Frequency'>"
            ]
          },
          "metadata": {},
          "execution_count": 46
        },
        {
          "output_type": "display_data",
          "data": {
            "text/plain": [
              "<Figure size 640x480 with 1 Axes>"
            ],
            "image/png": "[encoded data removed]"
          },
          "metadata": {}
        }
      ]
    },
    {
      "cell_type": "markdown",
      "source": [
        "#RANDOM OVER SAMPLING"
      ],
      "metadata": {
        "id": "lW7GgsWB9AIN"
      }
    },
    {
      "cell_type": "code",
      "source": [
        "from imblearn.over_sampling import RandomOverSampler"
      ],
      "metadata": {
        "id": "CMjaToYc8zwT"
      },
      "execution_count": 48,
      "outputs": []
    },
    {
      "cell_type": "code",
      "source": [
        "ros = RandomOverSampler(random_state=2529)"
      ],
      "metadata": {
        "id": "PKt5SzUh9bGQ"
      },
      "execution_count": 49,
      "outputs": []
    },
    {
      "cell_type": "code",
      "source": [
        "X_ros, y_ros = ros.fit_resample(X,y)"
      ],
      "metadata": {
        "id": "pn2YIc3C9rlO"
      },
      "execution_count": 50,
      "outputs": []
    },
    {
      "cell_type": "code",
      "source": [
        "X_ros.shape, y_ros.shape, X.shape, y.shape"
      ],
      "metadata": {
        "colab": {
          "base_uri": "https://localhost:8080/"
        },
        "id": "487gYJKZ94C3",
        "outputId": "0e0a7a63-1d27-45fb-f07d-027df98b905c"
      },
      "execution_count": 51,
      "outputs": [
        {
          "output_type": "execute_result",
          "data": {
            "text/plain": [
              "((15926, 11), (15926,), (10000, 11), (10000,))"
            ]
          },
          "metadata": {},
          "execution_count": 51
        }
      ]
    },
    {
      "cell_type": "code",
      "source": [
        "y.value_counts()"
      ],
      "metadata": {
        "colab": {
          "base_uri": "https://localhost:8080/"
        },
        "id": "aykinh3p-KqM",
        "outputId": "8a329620-2078-4794-b676-2a1e06d8dd47"
      },
      "execution_count": 52,
      "outputs": [
        {
          "output_type": "execute_result",
          "data": {
            "text/plain": [
              "0    7963\n",
              "1    2037\n",
              "Name: Churn, dtype: int64"
            ]
          },
          "metadata": {},
          "execution_count": 52
        }
      ]
    },
    {
      "cell_type": "code",
      "source": [
        "y_ros.value_counts()"
      ],
      "metadata": {
        "colab": {
          "base_uri": "https://localhost:8080/"
        },
        "id": "ld7Cr85C-Obx",
        "outputId": "978fce9d-2fd4-4fa4-9fee-4b8f00d2e7c1"
      },
      "execution_count": 53,
      "outputs": [
        {
          "output_type": "execute_result",
          "data": {
            "text/plain": [
              "1    7963\n",
              "0    7963\n",
              "Name: Churn, dtype: int64"
            ]
          },
          "metadata": {},
          "execution_count": 53
        }
      ]
    },
    {
      "cell_type": "code",
      "source": [
        "y_ros.plot(kind = 'hist')"
      ],
      "metadata": {
        "colab": {
          "base_uri": "https://localhost:8080/",
          "height": 447
        },
        "outputId": "daea0756-1fd5-412f-ff3d-805d392917f0",
        "id": "0avG-0Oy-fUl"
      },
      "execution_count": 54,
      "outputs": [
        {
          "output_type": "execute_result",
          "data": {
            "text/plain": [
              "<Axes: ylabel='Frequency'>"
            ]
          },
          "metadata": {},
          "execution_count": 54
        },
        {
          "output_type": "display_data",
          "data": {
            "text/plain": [
              "<Figure size 640x480 with 1 Axes>"
            ],
            "image/png": "[encoded data removed]"
          },
          "metadata": {}
        }
      ]
    },
    {
      "cell_type": "markdown",
      "source": [
        "#Train Test Split"
      ],
      "metadata": {
        "id": "QXKbiGvG-tkf"
      }
    },
    {
      "cell_type": "code",
      "source": [
        "from sklearn.model_selection import train_test_split"
      ],
      "metadata": {
        "id": "2rfG88Qj-h-X"
      },
      "execution_count": 55,
      "outputs": []
    },
    {
      "cell_type": "markdown",
      "source": [
        "#Split Original Data"
      ],
      "metadata": {
        "id": "EcE34NT4_DKv"
      }
    },
    {
      "cell_type": "code",
      "source": [
        "X_train, X_test, y_train, y_test = train_test_split(X,y, test_size=0.3, random_state=25)"
      ],
      "metadata": {
        "id": "TzWzZpo0_ALZ"
      },
      "execution_count": 56,
      "outputs": []
    },
    {
      "cell_type": "markdown",
      "source": [
        "#Split Random Under Sample Data"
      ],
      "metadata": {
        "id": "OhTTwUT__qK0"
      }
    },
    {
      "cell_type": "code",
      "source": [
        "X_train_rus, X_test_rus, y_train_rus, y_test_rus = train_test_split(X_rus,y_rus,test_size=0.3, random_state=25)"
      ],
      "metadata": {
        "id": "st8cS8pz_oDR"
      },
      "execution_count": 71,
      "outputs": []
    },
    {
      "cell_type": "markdown",
      "source": [
        "#Split Random Over Sample Data"
      ],
      "metadata": {
        "id": "CxIFX5UnA4g_"
      }
    },
    {
      "cell_type": "code",
      "source": [
        "X_train_ros, X_test_ros, y_train_ros, y_test_ros = train_test_split(X_ros,y_ros,test_size=0.3, random_state=25)"
      ],
      "metadata": {
        "id": "JJKshj_9AuTH"
      },
      "execution_count": 70,
      "outputs": []
    },
    {
      "cell_type": "markdown",
      "source": [
        "#Standardize Features"
      ],
      "metadata": {
        "id": "G6123DGmBNDg"
      }
    },
    {
      "cell_type": "code",
      "source": [
        "from sklearn.preprocessing import StandardScaler"
      ],
      "metadata": {
        "id": "JUnjOGp8A_7R"
      },
      "execution_count": 59,
      "outputs": []
    },
    {
      "cell_type": "code",
      "source": [
        "sc = StandardScaler()"
      ],
      "metadata": {
        "id": "Tujcznp3BxRI"
      },
      "execution_count": 60,
      "outputs": []
    },
    {
      "cell_type": "markdown",
      "source": [
        "#Standardize Original Data"
      ],
      "metadata": {
        "id": "hypKS88vB48T"
      }
    },
    {
      "cell_type": "code",
      "source": [
        "X_train[['CreditScore', 'Age', 'Tenure','Balance','Estimated Salary']] = sc.fit_transform(X_train[['CreditScore', 'Age', 'Tenure','Balance','Estimated Salary']])"
      ],
      "metadata": {
        "id": "rt1AkgffB3de"
      },
      "execution_count": 62,
      "outputs": []
    },
    {
      "cell_type": "code",
      "source": [
        "X_test[['CreditScore', 'Age', 'Tenure','Balance','Estimated Salary']] = sc.fit_transform(X_test[['CreditScore', 'Age', 'Tenure','Balance','Estimated Salary']])"
      ],
      "metadata": {
        "id": "OqQe9w9wD1Qs"
      },
      "execution_count": 63,
      "outputs": []
    },
    {
      "cell_type": "markdown",
      "source": [
        "#Standardize Random Under Sample Data"
      ],
      "metadata": {
        "id": "jK_h6G2XEBu7"
      }
    },
    {
      "cell_type": "code",
      "source": [
        "X_train_rus[['CreditScore', 'Age', 'Tenure','Balance','Estimated Salary']] = sc.fit_transform(X_train_rus[['CreditScore', 'Age', 'Tenure','Balance','Estimated Salary']])"
      ],
      "metadata": {
        "id": "-dq77CVhENY1"
      },
      "execution_count": 64,
      "outputs": []
    },
    {
      "cell_type": "code",
      "source": [
        "X_test_rus[['CreditScore', 'Age', 'Tenure','Balance','Estimated Salary']] = sc.fit_transform(X_test_rus[['CreditScore', 'Age', 'Tenure','Balance','Estimated Salary']])"
      ],
      "metadata": {
        "id": "M-tcCVdbGgNX"
      },
      "execution_count": 73,
      "outputs": []
    },
    {
      "cell_type": "markdown",
      "source": [
        "#Standardize Random over Sample Data"
      ],
      "metadata": {
        "id": "HA3tmsgbEYjK"
      }
    },
    {
      "cell_type": "code",
      "source": [
        "X_train_ros[['CreditScore', 'Age', 'Tenure','Balance','Estimated Salary']] = sc.fit_transform(X_train_ros[['CreditScore', 'Age', 'Tenure','Balance','Estimated Salary']])"
      ],
      "metadata": {
        "id": "vT8GwLHREiSr"
      },
      "execution_count": 65,
      "outputs": []
    },
    {
      "cell_type": "code",
      "source": [
        "X_test_ros[['CreditScore', 'Age', 'Tenure','Balance','Estimated Salary']] = sc.fit_transform(X_test_ros[['CreditScore', 'Age', 'Tenure','Balance','Estimated Salary']])"
      ],
      "metadata": {
        "id": "slFpor0wErCV"
      },
      "execution_count": 72,
      "outputs": []
    },
    {
      "cell_type": "markdown",
      "source": [
        "#Support Vector Machine Classifier"
      ],
      "metadata": {
        "id": "O4s1VdTjLa6i"
      }
    },
    {
      "cell_type": "code",
      "source": [
        "from sklearn.svm import SVC"
      ],
      "metadata": {
        "id": "amBS6Kg-Lprm"
      },
      "execution_count": 81,
      "outputs": []
    },
    {
      "cell_type": "code",
      "source": [
        "svc = SVC()"
      ],
      "metadata": {
        "id": "ULe1fy65MWXY"
      },
      "execution_count": 82,
      "outputs": []
    },
    {
      "cell_type": "code",
      "source": [
        "svc.fit(X_train,y_train)"
      ],
      "metadata": {
        "colab": {
          "base_uri": "https://localhost:8080/",
          "height": 74
        },
        "id": "_38ABItZMeZC",
        "outputId": "ec7b95b0-707b-4440-c6b6-1bc3dcbaee77"
      },
      "execution_count": 83,
      "outputs": [
        {
          "output_type": "execute_result",
          "data": {
            "text/plain": [
              "SVC()"
            ],
            "text/html": [
              "<style>#sk-container-id-1 {color: black;background-color: white;}#sk-container-id-1 pre{padding: 0;}#sk-container-id-1 div.sk-toggleable {background-color: white;}#sk-container-id-1 label.sk-toggleable__label {cursor: pointer;display: block;width: 100%;margin-bottom: 0;padding: 0.3em;box-sizing: border-box;text-align: center;}#sk-container-id-1 label.sk-toggleable__label-arrow:before {content: \"▸\";float: left;margin-right: 0.25em;color: #696969;}#sk-container-id-1 label.sk-toggleable__label-arrow:hover:before {color: black;}#sk-container-id-1 div.sk-estimator:hover label.sk-toggleable__label-arrow:before {color: black;}#sk-container-id-1 div.sk-toggleable__content {max-height: 0;max-width: 0;overflow: hidden;text-align: left;background-color: #f0f8ff;}#sk-container-id-1 div.sk-toggleable__content pre {margin: 0.2em;color: black;border-radius: 0.25em;background-color: #f0f8ff;}#sk-container-id-1 input.sk-toggleable__control:checked~div.sk-toggleable__content {max-height: 200px;max-width: 100%;overflow: auto;}#sk-container-id-1 input.sk-toggleable__control:checked~label.sk-toggleable__label-arrow:before {content: \"▾\";}#sk-container-id-1 div.sk-estimator input.sk-toggleable__control:checked~label.sk-toggleable__label {background-color: #d4ebff;}#sk-container-id-1 div.sk-label input.sk-toggleable__control:checked~label.sk-toggleable__label {background-color: #d4ebff;}#sk-container-id-1 input.sk-hidden--visually {border: 0;clip: rect(1px 1px 1px 1px);clip: rect(1px, 1px, 1px, 1px);height: 1px;margin: -1px;overflow: hidden;padding: 0;position: absolute;width: 1px;}#sk-container-id-1 div.sk-estimator {font-family: monospace;background-color: #f0f8ff;border: 1px dotted black;border-radius: 0.25em;box-sizing: border-box;margin-bottom: 0.5em;}#sk-container-id-1 div.sk-estimator:hover {background-color: #d4ebff;}#sk-container-id-1 div.sk-parallel-item::after {content: \"\";width: 100%;border-bottom: 1px solid gray;flex-grow: 1;}#sk-container-id-1 div.sk-label:hover label.sk-toggleable__label {background-color: #d4ebff;}#sk-container-id-1 div.sk-serial::before {content: \"\";position: absolute;border-left: 1px solid gray;box-sizing: border-box;top: 0;bottom: 0;left: 50%;z-index: 0;}#sk-container-id-1 div.sk-serial {display: flex;flex-direction: column;align-items: center;background-color: white;padding-right: 0.2em;padding-left: 0.2em;position: relative;}#sk-container-id-1 div.sk-item {position: relative;z-index: 1;}#sk-container-id-1 div.sk-parallel {display: flex;align-items: stretch;justify-content: center;background-color: white;position: relative;}#sk-container-id-1 div.sk-item::before, #sk-container-id-1 div.sk-parallel-item::before {content: \"\";position: absolute;border-left: 1px solid gray;box-sizing: border-box;top: 0;bottom: 0;left: 50%;z-index: -1;}#sk-container-id-1 div.sk-parallel-item {display: flex;flex-direction: column;z-index: 1;position: relative;background-color: white;}#sk-container-id-1 div.sk-parallel-item:first-child::after {align-self: flex-end;width: 50%;}#sk-container-id-1 div.sk-parallel-item:last-child::after {align-self: flex-start;width: 50%;}#sk-container-id-1 div.sk-parallel-item:only-child::after {width: 0;}#sk-container-id-1 div.sk-dashed-wrapped {border: 1px dashed gray;margin: 0 0.4em 0.5em 0.4em;box-sizing: border-box;padding-bottom: 0.4em;background-color: white;}#sk-container-id-1 div.sk-label label {font-family: monospace;font-weight: bold;display: inline-block;line-height: 1.2em;}#sk-container-id-1 div.sk-label-container {text-align: center;}#sk-container-id-1 div.sk-container {/* jupyter's `normalize.less` sets `[hidden] { display: none; }` but bootstrap.min.css set `[hidden] { display: none !important; }` so we also need the `!important` here to be able to override the default hidden behavior on the sphinx rendered scikit-learn.org. See: https://github.com/scikit-learn/scikit-learn/issues/21755 */display: inline-block !important;position: relative;}#sk-container-id-1 div.sk-text-repr-fallback {display: none;}</style><div id=\"sk-container-id-1\" class=\"sk-top-container\"><div class=\"sk-text-repr-fallback\"><pre>SVC()</pre><b>In a Jupyter environment, please rerun this cell to show the HTML representation or trust the notebook. <br />On GitHub, the HTML representation is unable to render, please try loading this page with nbviewer.org.</b></div><div class=\"sk-container\" hidden><div class=\"sk-item\"><div class=\"sk-estimator sk-toggleable\"><input class=\"sk-toggleable__control sk-hidden--visually\" id=\"sk-estimator-id-1\" type=\"checkbox\" checked><label for=\"sk-estimator-id-1\" class=\"sk-toggleable__label sk-toggleable__label-arrow\">SVC</label><div class=\"sk-toggleable__content\"><pre>SVC()</pre></div></div></div></div></div>"
            ]
          },
          "metadata": {},
          "execution_count": 83
        }
      ]
    },
    {
      "cell_type": "code",
      "source": [
        "y_pred =svc.predict(X_test)"
      ],
      "metadata": {
        "id": "SZPPmN3_MuFZ"
      },
      "execution_count": 84,
      "outputs": []
    },
    {
      "cell_type": "markdown",
      "source": [
        "#Model Accuracy"
      ],
      "metadata": {
        "id": "bmpAlcIDGpOZ"
      }
    },
    {
      "cell_type": "code",
      "source": [
        "from sklearn.metrics import  confusion_matrix,  classification_report"
      ],
      "metadata": {
        "id": "YfSW4UQxKOV0"
      },
      "execution_count": 75,
      "outputs": []
    },
    {
      "cell_type": "code",
      "source": [
        "confusion_matrix(y_test, y_pred)"
      ],
      "metadata": {
        "colab": {
          "base_uri": "https://localhost:8080/"
        },
        "id": "dpAPtJhYKgL5",
        "outputId": "8bf6a724-b8f1-4524-b345-b4af6a7ac99a"
      },
      "execution_count": 85,
      "outputs": [
        {
          "output_type": "execute_result",
          "data": {
            "text/plain": [
              "array([[2374,   45],\n",
              "       [ 421,  160]])"
            ]
          },
          "metadata": {},
          "execution_count": 85
        }
      ]
    },
    {
      "cell_type": "code",
      "source": [
        "print(classification_report(y_test, y_pred))"
      ],
      "metadata": {
        "colab": {
          "base_uri": "https://localhost:8080/"
        },
        "id": "PdvR6WWuKwue",
        "outputId": "5e242a47-59db-4a0c-d6de-de41c0461011"
      },
      "execution_count": 86,
      "outputs": [
        {
          "output_type": "stream",
          "name": "stdout",
          "text": [
            "              precision    recall  f1-score   support\n",
            "\n",
            "           0       0.85      0.98      0.91      2419\n",
            "           1       0.78      0.28      0.41       581\n",
            "\n",
            "    accuracy                           0.84      3000\n",
            "   macro avg       0.81      0.63      0.66      3000\n",
            "weighted avg       0.84      0.84      0.81      3000\n",
            "\n"
          ]
        }
      ]
    },
    {
      "cell_type": "markdown",
      "source": [
        "#Hyperparameter tunning"
      ],
      "metadata": {
        "id": "eVz_BmDBNXBh"
      }
    },
    {
      "cell_type": "code",
      "source": [
        "from sklearn.model_selection import GridSearchCV"
      ],
      "metadata": {
        "id": "_Xf7Kz1iNKyr"
      },
      "execution_count": 88,
      "outputs": []
    },
    {
      "cell_type": "code",
      "source": [
        "param_grid = {'C': [0.1,1, 10],\n",
        "              'gamma': [1,0.1,0.01],\n",
        "              'kernel': ['rbf'],\n",
        "              'class_weight' : ['balanced']\n",
        "\n",
        "              }"
      ],
      "metadata": {
        "id": "lZm7p406Nxhe"
      },
      "execution_count": 127,
      "outputs": []
    },
    {
      "cell_type": "code",
      "source": [
        "grid = GridSearchCV(SVC(),param_grid,refit=True,verbose=2, cv = 2)\n",
        "grid.fit(X_train,y_train)"
      ],
      "metadata": {
        "colab": {
          "base_uri": "https://localhost:8080/",
          "height": 446
        },
        "id": "oFY7ndNoOvBa",
        "outputId": "db10a776-5569-4028-bd1c-59b4afc4d41d"
      },
      "execution_count": 128,
      "outputs": [
        {
          "output_type": "stream",
          "name": "stdout",
          "text": [
            "Fitting 2 folds for each of 9 candidates, totalling 18 fits\n",
            "[CV] END ..C=0.1, class_weight=balanced, gamma=1, kernel=rbf; total time=   2.0s\n",
            "[CV] END ..C=0.1, class_weight=balanced, gamma=1, kernel=rbf; total time=   1.6s\n",
            "[CV] END C=0.1, class_weight=balanced, gamma=0.1, kernel=rbf; total time=   1.2s\n",
            "[CV] END C=0.1, class_weight=balanced, gamma=0.1, kernel=rbf; total time=   1.2s\n",
            "[CV] END C=0.1, class_weight=balanced, gamma=0.01, kernel=rbf; total time=   1.3s\n",
            "[CV] END C=0.1, class_weight=balanced, gamma=0.01, kernel=rbf; total time=   1.3s\n",
            "[CV] END ....C=1, class_weight=balanced, gamma=1, kernel=rbf; total time=   1.4s\n",
            "[CV] END ....C=1, class_weight=balanced, gamma=1, kernel=rbf; total time=   1.8s\n",
            "[CV] END ..C=1, class_weight=balanced, gamma=0.1, kernel=rbf; total time=   1.9s\n",
            "[CV] END ..C=1, class_weight=balanced, gamma=0.1, kernel=rbf; total time=   1.2s\n",
            "[CV] END .C=1, class_weight=balanced, gamma=0.01, kernel=rbf; total time=   1.1s\n",
            "[CV] END .C=1, class_weight=balanced, gamma=0.01, kernel=rbf; total time=   1.1s\n",
            "[CV] END ...C=10, class_weight=balanced, gamma=1, kernel=rbf; total time=   1.4s\n",
            "[CV] END ...C=10, class_weight=balanced, gamma=1, kernel=rbf; total time=   1.4s\n",
            "[CV] END .C=10, class_weight=balanced, gamma=0.1, kernel=rbf; total time=   1.1s\n",
            "[CV] END .C=10, class_weight=balanced, gamma=0.1, kernel=rbf; total time=   1.1s\n",
            "[CV] END C=10, class_weight=balanced, gamma=0.01, kernel=rbf; total time=   1.1s\n",
            "[CV] END C=10, class_weight=balanced, gamma=0.01, kernel=rbf; total time=   1.1s\n"
          ]
        },
        {
          "output_type": "execute_result",
          "data": {
            "text/plain": [
              "GridSearchCV(cv=2, estimator=SVC(),\n",
              "             param_grid={'C': [0.1, 1, 10], 'class_weight': ['balanced'],\n",
              "                         'gamma': [1, 0.1, 0.01], 'kernel': ['rbf']},\n",
              "             verbose=2)"
            ],
            "text/html": [
              "<style>#sk-container-id-9 {color: black;background-color: white;}#sk-container-id-9 pre{padding: 0;}#sk-container-id-9 div.sk-toggleable {background-color: white;}#sk-container-id-9 label.sk-toggleable__label {cursor: pointer;display: block;width: 100%;margin-bottom: 0;padding: 0.3em;box-sizing: border-box;text-align: center;}#sk-container-id-9 label.sk-toggleable__label-arrow:before {content: \"▸\";float: left;margin-right: 0.25em;color: #696969;}#sk-container-id-9 label.sk-toggleable__label-arrow:hover:before {color: black;}#sk-container-id-9 div.sk-estimator:hover label.sk-toggleable__label-arrow:before {color: black;}#sk-container-id-9 div.sk-toggleable__content {max-height: 0;max-width: 0;overflow: hidden;text-align: left;background-color: #f0f8ff;}#sk-container-id-9 div.sk-toggleable__content pre {margin: 0.2em;color: black;border-radius: 0.25em;background-color: #f0f8ff;}#sk-container-id-9 input.sk-toggleable__control:checked~div.sk-toggleable__content {max-height: 200px;max-width: 100%;overflow: auto;}#sk-container-id-9 input.sk-toggleable__control:checked~label.sk-toggleable__label-arrow:before {content: \"▾\";}#sk-container-id-9 div.sk-estimator input.sk-toggleable__control:checked~label.sk-toggleable__label {background-color: #d4ebff;}#sk-container-id-9 div.sk-label input.sk-toggleable__control:checked~label.sk-toggleable__label {background-color: #d4ebff;}#sk-container-id-9 input.sk-hidden--visually {border: 0;clip: rect(1px 1px 1px 1px);clip: rect(1px, 1px, 1px, 1px);height: 1px;margin: -1px;overflow: hidden;padding: 0;position: absolute;width: 1px;}#sk-container-id-9 div.sk-estimator {font-family: monospace;background-color: #f0f8ff;border: 1px dotted black;border-radius: 0.25em;box-sizing: border-box;margin-bottom: 0.5em;}#sk-container-id-9 div.sk-estimator:hover {background-color: #d4ebff;}#sk-container-id-9 div.sk-parallel-item::after {content: \"\";width: 100%;border-bottom: 1px solid gray;flex-grow: 1;}#sk-container-id-9 div.sk-label:hover label.sk-toggleable__label {background-color: #d4ebff;}#sk-container-id-9 div.sk-serial::before {content: \"\";position: absolute;border-left: 1px solid gray;box-sizing: border-box;top: 0;bottom: 0;left: 50%;z-index: 0;}#sk-container-id-9 div.sk-serial {display: flex;flex-direction: column;align-items: center;background-color: white;padding-right: 0.2em;padding-left: 0.2em;position: relative;}#sk-container-id-9 div.sk-item {position: relative;z-index: 1;}#sk-container-id-9 div.sk-parallel {display: flex;align-items: stretch;justify-content: center;background-color: white;position: relative;}#sk-container-id-9 div.sk-item::before, #sk-container-id-9 div.sk-parallel-item::before {content: \"\";position: absolute;border-left: 1px solid gray;box-sizing: border-box;top: 0;bottom: 0;left: 50%;z-index: -1;}#sk-container-id-9 div.sk-parallel-item {display: flex;flex-direction: column;z-index: 1;position: relative;background-color: white;}#sk-container-id-9 div.sk-parallel-item:first-child::after {align-self: flex-end;width: 50%;}#sk-container-id-9 div.sk-parallel-item:last-child::after {align-self: flex-start;width: 50%;}#sk-container-id-9 div.sk-parallel-item:only-child::after {width: 0;}#sk-container-id-9 div.sk-dashed-wrapped {border: 1px dashed gray;margin: 0 0.4em 0.5em 0.4em;box-sizing: border-box;padding-bottom: 0.4em;background-color: white;}#sk-container-id-9 div.sk-label label {font-family: monospace;font-weight: bold;display: inline-block;line-height: 1.2em;}#sk-container-id-9 div.sk-label-container {text-align: center;}#sk-container-id-9 div.sk-container {/* jupyter's `normalize.less` sets `[hidden] { display: none; }` but bootstrap.min.css set `[hidden] { display: none !important; }` so we also need the `!important` here to be able to override the default hidden behavior on the sphinx rendered scikit-learn.org. See: https://github.com/scikit-learn/scikit-learn/issues/21755 */display: inline-block !important;position: relative;}#sk-container-id-9 div.sk-text-repr-fallback {display: none;}</style><div id=\"sk-container-id-9\" class=\"sk-top-container\"><div class=\"sk-text-repr-fallback\"><pre>GridSearchCV(cv=2, estimator=SVC(),\n",
              "             param_grid={&#x27;C&#x27;: [0.1, 1, 10], &#x27;class_weight&#x27;: [&#x27;balanced&#x27;],\n",
              "                         &#x27;gamma&#x27;: [1, 0.1, 0.01], &#x27;kernel&#x27;: [&#x27;rbf&#x27;]},\n",
              "             verbose=2)</pre><b>In a Jupyter environment, please rerun this cell to show the HTML representation or trust the notebook. <br />On GitHub, the HTML representation is unable to render, please try loading this page with nbviewer.org.</b></div><div class=\"sk-container\" hidden><div class=\"sk-item sk-dashed-wrapped\"><div class=\"sk-label-container\"><div class=\"sk-label sk-toggleable\"><input class=\"sk-toggleable__control sk-hidden--visually\" id=\"sk-estimator-id-19\" type=\"checkbox\" ><label for=\"sk-estimator-id-19\" class=\"sk-toggleable__label sk-toggleable__label-arrow\">GridSearchCV</label><div class=\"sk-toggleable__content\"><pre>GridSearchCV(cv=2, estimator=SVC(),\n",
              "             param_grid={&#x27;C&#x27;: [0.1, 1, 10], &#x27;class_weight&#x27;: [&#x27;balanced&#x27;],\n",
              "                         &#x27;gamma&#x27;: [1, 0.1, 0.01], &#x27;kernel&#x27;: [&#x27;rbf&#x27;]},\n",
              "             verbose=2)</pre></div></div></div><div class=\"sk-parallel\"><div class=\"sk-parallel-item\"><div class=\"sk-item\"><div class=\"sk-label-container\"><div class=\"sk-label sk-toggleable\"><input class=\"sk-toggleable__control sk-hidden--visually\" id=\"sk-estimator-id-20\" type=\"checkbox\" ><label for=\"sk-estimator-id-20\" class=\"sk-toggleable__label sk-toggleable__label-arrow\">estimator: SVC</label><div class=\"sk-toggleable__content\"><pre>SVC()</pre></div></div></div><div class=\"sk-serial\"><div class=\"sk-item\"><div class=\"sk-estimator sk-toggleable\"><input class=\"sk-toggleable__control sk-hidden--visually\" id=\"sk-estimator-id-21\" type=\"checkbox\" ><label for=\"sk-estimator-id-21\" class=\"sk-toggleable__label sk-toggleable__label-arrow\">SVC</label><div class=\"sk-toggleable__content\"><pre>SVC()</pre></div></div></div></div></div></div></div></div></div></div>"
            ]
          },
          "metadata": {},
          "execution_count": 128
        }
      ]
    },
    {
      "cell_type": "code",
      "source": [
        "print(grid.best_estimator_)"
      ],
      "metadata": {
        "colab": {
          "base_uri": "https://localhost:8080/"
        },
        "id": "o6FOvFp6PMyU",
        "outputId": "0e1fe013-c44e-401f-9fbe-7cacbf4bac77"
      },
      "execution_count": 129,
      "outputs": [
        {
          "output_type": "stream",
          "name": "stdout",
          "text": [
            "SVC(C=10, class_weight='balanced', gamma=1)\n"
          ]
        }
      ]
    },
    {
      "cell_type": "code",
      "source": [
        "grid_predictions = grid.predict(X_test)"
      ],
      "metadata": {
        "id": "lqqvHFI-QBtJ"
      },
      "execution_count": 130,
      "outputs": []
    },
    {
      "cell_type": "code",
      "source": [
        "confusion_matrix(y_test,grid_predictions)"
      ],
      "metadata": {
        "colab": {
          "base_uri": "https://localhost:8080/"
        },
        "id": "-Df5vqdaQOLQ",
        "outputId": "b17f6d48-754f-4d96-e093-a7dfa6846ce9"
      },
      "execution_count": 131,
      "outputs": [
        {
          "output_type": "execute_result",
          "data": {
            "text/plain": [
              "array([[2166,  253],\n",
              "       [ 365,  216]])"
            ]
          },
          "metadata": {},
          "execution_count": 131
        }
      ]
    },
    {
      "cell_type": "code",
      "source": [
        "print(classification_report(y_test,grid_predictions))"
      ],
      "metadata": {
        "colab": {
          "base_uri": "https://localhost:8080/"
        },
        "id": "uoY2qOKuQaEz",
        "outputId": "eab8bdf7-8666-4853-90ba-986701984245"
      },
      "execution_count": 132,
      "outputs": [
        {
          "output_type": "stream",
          "name": "stdout",
          "text": [
            "              precision    recall  f1-score   support\n",
            "\n",
            "           0       0.86      0.90      0.88      2419\n",
            "           1       0.46      0.37      0.41       581\n",
            "\n",
            "    accuracy                           0.79      3000\n",
            "   macro avg       0.66      0.63      0.64      3000\n",
            "weighted avg       0.78      0.79      0.79      3000\n",
            "\n"
          ]
        }
      ]
    },
    {
      "cell_type": "markdown",
      "source": [
        "#Model with Random Under Sampling"
      ],
      "metadata": {
        "id": "v5ARhz45Q6kz"
      }
    },
    {
      "cell_type": "code",
      "source": [
        "svc_rus = SVC()"
      ],
      "metadata": {
        "id": "piLpIUDKQn0T"
      },
      "execution_count": 96,
      "outputs": []
    },
    {
      "cell_type": "code",
      "source": [
        "svc_rus.fit(X_train_rus, y_train_rus)"
      ],
      "metadata": {
        "colab": {
          "base_uri": "https://localhost:8080/",
          "height": 74
        },
        "id": "zuUa8ry8RI00",
        "outputId": "7107a52a-7bc3-4917-db06-180bc93dbb13"
      },
      "execution_count": 97,
      "outputs": [
        {
          "output_type": "execute_result",
          "data": {
            "text/plain": [
              "SVC()"
            ],
            "text/html": [
              "<style>#sk-container-id-3 {color: black;background-color: white;}#sk-container-id-3 pre{padding: 0;}#sk-container-id-3 div.sk-toggleable {background-color: white;}#sk-container-id-3 label.sk-toggleable__label {cursor: pointer;display: block;width: 100%;margin-bottom: 0;padding: 0.3em;box-sizing: border-box;text-align: center;}#sk-container-id-3 label.sk-toggleable__label-arrow:before {content: \"▸\";float: left;margin-right: 0.25em;color: #696969;}#sk-container-id-3 label.sk-toggleable__label-arrow:hover:before {color: black;}#sk-container-id-3 div.sk-estimator:hover label.sk-toggleable__label-arrow:before {color: black;}#sk-container-id-3 div.sk-toggleable__content {max-height: 0;max-width: 0;overflow: hidden;text-align: left;background-color: #f0f8ff;}#sk-container-id-3 div.sk-toggleable__content pre {margin: 0.2em;color: black;border-radius: 0.25em;background-color: #f0f8ff;}#sk-container-id-3 input.sk-toggleable__control:checked~div.sk-toggleable__content {max-height: 200px;max-width: 100%;overflow: auto;}#sk-container-id-3 input.sk-toggleable__control:checked~label.sk-toggleable__label-arrow:before {content: \"▾\";}#sk-container-id-3 div.sk-estimator input.sk-toggleable__control:checked~label.sk-toggleable__label {background-color: #d4ebff;}#sk-container-id-3 div.sk-label input.sk-toggleable__control:checked~label.sk-toggleable__label {background-color: #d4ebff;}#sk-container-id-3 input.sk-hidden--visually {border: 0;clip: rect(1px 1px 1px 1px);clip: rect(1px, 1px, 1px, 1px);height: 1px;margin: -1px;overflow: hidden;padding: 0;position: absolute;width: 1px;}#sk-container-id-3 div.sk-estimator {font-family: monospace;background-color: #f0f8ff;border: 1px dotted black;border-radius: 0.25em;box-sizing: border-box;margin-bottom: 0.5em;}#sk-container-id-3 div.sk-estimator:hover {background-color: #d4ebff;}#sk-container-id-3 div.sk-parallel-item::after {content: \"\";width: 100%;border-bottom: 1px solid gray;flex-grow: 1;}#sk-container-id-3 div.sk-label:hover label.sk-toggleable__label {background-color: #d4ebff;}#sk-container-id-3 div.sk-serial::before {content: \"\";position: absolute;border-left: 1px solid gray;box-sizing: border-box;top: 0;bottom: 0;left: 50%;z-index: 0;}#sk-container-id-3 div.sk-serial {display: flex;flex-direction: column;align-items: center;background-color: white;padding-right: 0.2em;padding-left: 0.2em;position: relative;}#sk-container-id-3 div.sk-item {position: relative;z-index: 1;}#sk-container-id-3 div.sk-parallel {display: flex;align-items: stretch;justify-content: center;background-color: white;position: relative;}#sk-container-id-3 div.sk-item::before, #sk-container-id-3 div.sk-parallel-item::before {content: \"\";position: absolute;border-left: 1px solid gray;box-sizing: border-box;top: 0;bottom: 0;left: 50%;z-index: -1;}#sk-container-id-3 div.sk-parallel-item {display: flex;flex-direction: column;z-index: 1;position: relative;background-color: white;}#sk-container-id-3 div.sk-parallel-item:first-child::after {align-self: flex-end;width: 50%;}#sk-container-id-3 div.sk-parallel-item:last-child::after {align-self: flex-start;width: 50%;}#sk-container-id-3 div.sk-parallel-item:only-child::after {width: 0;}#sk-container-id-3 div.sk-dashed-wrapped {border: 1px dashed gray;margin: 0 0.4em 0.5em 0.4em;box-sizing: border-box;padding-bottom: 0.4em;background-color: white;}#sk-container-id-3 div.sk-label label {font-family: monospace;font-weight: bold;display: inline-block;line-height: 1.2em;}#sk-container-id-3 div.sk-label-container {text-align: center;}#sk-container-id-3 div.sk-container {/* jupyter's `normalize.less` sets `[hidden] { display: none; }` but bootstrap.min.css set `[hidden] { display: none !important; }` so we also need the `!important` here to be able to override the default hidden behavior on the sphinx rendered scikit-learn.org. See: https://github.com/scikit-learn/scikit-learn/issues/21755 */display: inline-block !important;position: relative;}#sk-container-id-3 div.sk-text-repr-fallback {display: none;}</style><div id=\"sk-container-id-3\" class=\"sk-top-container\"><div class=\"sk-text-repr-fallback\"><pre>SVC()</pre><b>In a Jupyter environment, please rerun this cell to show the HTML representation or trust the notebook. <br />On GitHub, the HTML representation is unable to render, please try loading this page with nbviewer.org.</b></div><div class=\"sk-container\" hidden><div class=\"sk-item\"><div class=\"sk-estimator sk-toggleable\"><input class=\"sk-toggleable__control sk-hidden--visually\" id=\"sk-estimator-id-5\" type=\"checkbox\" checked><label for=\"sk-estimator-id-5\" class=\"sk-toggleable__label sk-toggleable__label-arrow\">SVC</label><div class=\"sk-toggleable__content\"><pre>SVC()</pre></div></div></div></div></div>"
            ]
          },
          "metadata": {},
          "execution_count": 97
        }
      ]
    },
    {
      "cell_type": "code",
      "source": [
        "y_pred_rus = svc_rus.predict(X_test_rus)"
      ],
      "metadata": {
        "id": "WsmI0ffsRWkb"
      },
      "execution_count": 98,
      "outputs": []
    },
    {
      "cell_type": "markdown",
      "source": [
        "#Model Accuracy"
      ],
      "metadata": {
        "id": "AYhZMgf4Ru0U"
      }
    },
    {
      "cell_type": "code",
      "source": [
        "confusion_matrix(y_test_rus, y_pred_rus)"
      ],
      "metadata": {
        "colab": {
          "base_uri": "https://localhost:8080/"
        },
        "id": "D370GPrlRtET",
        "outputId": "a9ba604e-ea6a-422b-febd-1b0041894546"
      },
      "execution_count": 99,
      "outputs": [
        {
          "output_type": "execute_result",
          "data": {
            "text/plain": [
              "array([[603,   0],\n",
              "       [620,   0]])"
            ]
          },
          "metadata": {},
          "execution_count": 99
        }
      ]
    },
    {
      "cell_type": "code",
      "source": [
        "print(classification_report(y_test_rus, y_pred_rus))"
      ],
      "metadata": {
        "colab": {
          "base_uri": "https://localhost:8080/"
        },
        "id": "S3UTHcRdR_hZ",
        "outputId": "da1611d6-2219-420c-ce31-688f5a006004"
      },
      "execution_count": 133,
      "outputs": [
        {
          "output_type": "stream",
          "name": "stdout",
          "text": [
            "              precision    recall  f1-score   support\n",
            "\n",
            "           0       0.49      1.00      0.66       603\n",
            "           1       0.00      0.00      0.00       620\n",
            "\n",
            "    accuracy                           0.49      1223\n",
            "   macro avg       0.25      0.50      0.33      1223\n",
            "weighted avg       0.24      0.49      0.33      1223\n",
            "\n"
          ]
        },
        {
          "output_type": "stream",
          "name": "stderr",
          "text": [
            "/usr/local/lib/python3.10/dist-packages/sklearn/metrics/_classification.py:1344: UndefinedMetricWarning: Precision and F-score are ill-defined and being set to 0.0 in labels with no predicted samples. Use `zero_division` parameter to control this behavior.\n",
            "  _warn_prf(average, modifier, msg_start, len(result))\n",
            "/usr/local/lib/python3.10/dist-packages/sklearn/metrics/_classification.py:1344: UndefinedMetricWarning: Precision and F-score are ill-defined and being set to 0.0 in labels with no predicted samples. Use `zero_division` parameter to control this behavior.\n",
            "  _warn_prf(average, modifier, msg_start, len(result))\n",
            "/usr/local/lib/python3.10/dist-packages/sklearn/metrics/_classification.py:1344: UndefinedMetricWarning: Precision and F-score are ill-defined and being set to 0.0 in labels with no predicted samples. Use `zero_division` parameter to control this behavior.\n",
            "  _warn_prf(average, modifier, msg_start, len(result))\n"
          ]
        }
      ]
    },
    {
      "cell_type": "markdown",
      "source": [
        "#Hyperparameter Tunning"
      ],
      "metadata": {
        "id": "-Tv9wwvESkpm"
      }
    },
    {
      "cell_type": "code",
      "source": [
        "param_grid = {'C': [0.1,1, 10],\n",
        "              'gamma': [1,0.1,0.01],\n",
        "              'kernel': ['rbf'],\n",
        "              'class_weight' : ['balanced']\n",
        "\n",
        "              }"
      ],
      "metadata": {
        "id": "D51JjOAvSW13"
      },
      "execution_count": 119,
      "outputs": []
    },
    {
      "cell_type": "code",
      "source": [
        "grid_rus = GridSearchCV(SVC(),param_grid,refit=True,verbose=2, cv = 2)\n",
        "grid_rus.fit(X_train_rus,y_train_rus)"
      ],
      "metadata": {
        "colab": {
          "base_uri": "https://localhost:8080/",
          "height": 446
        },
        "id": "hCTBEXmAS-h5",
        "outputId": "8d94cc2a-f60b-4bcc-b2bb-279371e9cb01"
      },
      "execution_count": 120,
      "outputs": [
        {
          "output_type": "stream",
          "name": "stdout",
          "text": [
            "Fitting 2 folds for each of 9 candidates, totalling 18 fits\n",
            "[CV] END ..C=0.1, class_weight=balanced, gamma=1, kernel=rbf; total time=   0.3s\n",
            "[CV] END ..C=0.1, class_weight=balanced, gamma=1, kernel=rbf; total time=   0.3s\n",
            "[CV] END C=0.1, class_weight=balanced, gamma=0.1, kernel=rbf; total time=   0.3s\n",
            "[CV] END C=0.1, class_weight=balanced, gamma=0.1, kernel=rbf; total time=   0.3s\n",
            "[CV] END C=0.1, class_weight=balanced, gamma=0.01, kernel=rbf; total time=   0.3s\n",
            "[CV] END C=0.1, class_weight=balanced, gamma=0.01, kernel=rbf; total time=   0.3s\n",
            "[CV] END ....C=1, class_weight=balanced, gamma=1, kernel=rbf; total time=   0.3s\n",
            "[CV] END ....C=1, class_weight=balanced, gamma=1, kernel=rbf; total time=   0.3s\n",
            "[CV] END ..C=1, class_weight=balanced, gamma=0.1, kernel=rbf; total time=   0.3s\n",
            "[CV] END ..C=1, class_weight=balanced, gamma=0.1, kernel=rbf; total time=   0.3s\n",
            "[CV] END .C=1, class_weight=balanced, gamma=0.01, kernel=rbf; total time=   0.3s\n",
            "[CV] END .C=1, class_weight=balanced, gamma=0.01, kernel=rbf; total time=   0.3s\n",
            "[CV] END ...C=10, class_weight=balanced, gamma=1, kernel=rbf; total time=   0.3s\n",
            "[CV] END ...C=10, class_weight=balanced, gamma=1, kernel=rbf; total time=   0.3s\n",
            "[CV] END .C=10, class_weight=balanced, gamma=0.1, kernel=rbf; total time=   0.3s\n",
            "[CV] END .C=10, class_weight=balanced, gamma=0.1, kernel=rbf; total time=   0.3s\n",
            "[CV] END C=10, class_weight=balanced, gamma=0.01, kernel=rbf; total time=   0.3s\n",
            "[CV] END C=10, class_weight=balanced, gamma=0.01, kernel=rbf; total time=   0.3s\n"
          ]
        },
        {
          "output_type": "execute_result",
          "data": {
            "text/plain": [
              "GridSearchCV(cv=2, estimator=SVC(),\n",
              "             param_grid={'C': [0.1, 1, 10], 'class_weight': ['balanced'],\n",
              "                         'gamma': [1, 0.1, 0.01], 'kernel': ['rbf']},\n",
              "             verbose=2)"
            ],
            "text/html": [
              "<style>#sk-container-id-7 {color: black;background-color: white;}#sk-container-id-7 pre{padding: 0;}#sk-container-id-7 div.sk-toggleable {background-color: white;}#sk-container-id-7 label.sk-toggleable__label {cursor: pointer;display: block;width: 100%;margin-bottom: 0;padding: 0.3em;box-sizing: border-box;text-align: center;}#sk-container-id-7 label.sk-toggleable__label-arrow:before {content: \"▸\";float: left;margin-right: 0.25em;color: #696969;}#sk-container-id-7 label.sk-toggleable__label-arrow:hover:before {color: black;}#sk-container-id-7 div.sk-estimator:hover label.sk-toggleable__label-arrow:before {color: black;}#sk-container-id-7 div.sk-toggleable__content {max-height: 0;max-width: 0;overflow: hidden;text-align: left;background-color: #f0f8ff;}#sk-container-id-7 div.sk-toggleable__content pre {margin: 0.2em;color: black;border-radius: 0.25em;background-color: #f0f8ff;}#sk-container-id-7 input.sk-toggleable__control:checked~div.sk-toggleable__content {max-height: 200px;max-width: 100%;overflow: auto;}#sk-container-id-7 input.sk-toggleable__control:checked~label.sk-toggleable__label-arrow:before {content: \"▾\";}#sk-container-id-7 div.sk-estimator input.sk-toggleable__control:checked~label.sk-toggleable__label {background-color: #d4ebff;}#sk-container-id-7 div.sk-label input.sk-toggleable__control:checked~label.sk-toggleable__label {background-color: #d4ebff;}#sk-container-id-7 input.sk-hidden--visually {border: 0;clip: rect(1px 1px 1px 1px);clip: rect(1px, 1px, 1px, 1px);height: 1px;margin: -1px;overflow: hidden;padding: 0;position: absolute;width: 1px;}#sk-container-id-7 div.sk-estimator {font-family: monospace;background-color: #f0f8ff;border: 1px dotted black;border-radius: 0.25em;box-sizing: border-box;margin-bottom: 0.5em;}#sk-container-id-7 div.sk-estimator:hover {background-color: #d4ebff;}#sk-container-id-7 div.sk-parallel-item::after {content: \"\";width: 100%;border-bottom: 1px solid gray;flex-grow: 1;}#sk-container-id-7 div.sk-label:hover label.sk-toggleable__label {background-color: #d4ebff;}#sk-container-id-7 div.sk-serial::before {content: \"\";position: absolute;border-left: 1px solid gray;box-sizing: border-box;top: 0;bottom: 0;left: 50%;z-index: 0;}#sk-container-id-7 div.sk-serial {display: flex;flex-direction: column;align-items: center;background-color: white;padding-right: 0.2em;padding-left: 0.2em;position: relative;}#sk-container-id-7 div.sk-item {position: relative;z-index: 1;}#sk-container-id-7 div.sk-parallel {display: flex;align-items: stretch;justify-content: center;background-color: white;position: relative;}#sk-container-id-7 div.sk-item::before, #sk-container-id-7 div.sk-parallel-item::before {content: \"\";position: absolute;border-left: 1px solid gray;box-sizing: border-box;top: 0;bottom: 0;left: 50%;z-index: -1;}#sk-container-id-7 div.sk-parallel-item {display: flex;flex-direction: column;z-index: 1;position: relative;background-color: white;}#sk-container-id-7 div.sk-parallel-item:first-child::after {align-self: flex-end;width: 50%;}#sk-container-id-7 div.sk-parallel-item:last-child::after {align-self: flex-start;width: 50%;}#sk-container-id-7 div.sk-parallel-item:only-child::after {width: 0;}#sk-container-id-7 div.sk-dashed-wrapped {border: 1px dashed gray;margin: 0 0.4em 0.5em 0.4em;box-sizing: border-box;padding-bottom: 0.4em;background-color: white;}#sk-container-id-7 div.sk-label label {font-family: monospace;font-weight: bold;display: inline-block;line-height: 1.2em;}#sk-container-id-7 div.sk-label-container {text-align: center;}#sk-container-id-7 div.sk-container {/* jupyter's `normalize.less` sets `[hidden] { display: none; }` but bootstrap.min.css set `[hidden] { display: none !important; }` so we also need the `!important` here to be able to override the default hidden behavior on the sphinx rendered scikit-learn.org. See: https://github.com/scikit-learn/scikit-learn/issues/21755 */display: inline-block !important;position: relative;}#sk-container-id-7 div.sk-text-repr-fallback {display: none;}</style><div id=\"sk-container-id-7\" class=\"sk-top-container\"><div class=\"sk-text-repr-fallback\"><pre>GridSearchCV(cv=2, estimator=SVC(),\n",
              "             param_grid={&#x27;C&#x27;: [0.1, 1, 10], &#x27;class_weight&#x27;: [&#x27;balanced&#x27;],\n",
              "                         &#x27;gamma&#x27;: [1, 0.1, 0.01], &#x27;kernel&#x27;: [&#x27;rbf&#x27;]},\n",
              "             verbose=2)</pre><b>In a Jupyter environment, please rerun this cell to show the HTML representation or trust the notebook. <br />On GitHub, the HTML representation is unable to render, please try loading this page with nbviewer.org.</b></div><div class=\"sk-container\" hidden><div class=\"sk-item sk-dashed-wrapped\"><div class=\"sk-label-container\"><div class=\"sk-label sk-toggleable\"><input class=\"sk-toggleable__control sk-hidden--visually\" id=\"sk-estimator-id-13\" type=\"checkbox\" ><label for=\"sk-estimator-id-13\" class=\"sk-toggleable__label sk-toggleable__label-arrow\">GridSearchCV</label><div class=\"sk-toggleable__content\"><pre>GridSearchCV(cv=2, estimator=SVC(),\n",
              "             param_grid={&#x27;C&#x27;: [0.1, 1, 10], &#x27;class_weight&#x27;: [&#x27;balanced&#x27;],\n",
              "                         &#x27;gamma&#x27;: [1, 0.1, 0.01], &#x27;kernel&#x27;: [&#x27;rbf&#x27;]},\n",
              "             verbose=2)</pre></div></div></div><div class=\"sk-parallel\"><div class=\"sk-parallel-item\"><div class=\"sk-item\"><div class=\"sk-label-container\"><div class=\"sk-label sk-toggleable\"><input class=\"sk-toggleable__control sk-hidden--visually\" id=\"sk-estimator-id-14\" type=\"checkbox\" ><label for=\"sk-estimator-id-14\" class=\"sk-toggleable__label sk-toggleable__label-arrow\">estimator: SVC</label><div class=\"sk-toggleable__content\"><pre>SVC()</pre></div></div></div><div class=\"sk-serial\"><div class=\"sk-item\"><div class=\"sk-estimator sk-toggleable\"><input class=\"sk-toggleable__control sk-hidden--visually\" id=\"sk-estimator-id-15\" type=\"checkbox\" ><label for=\"sk-estimator-id-15\" class=\"sk-toggleable__label sk-toggleable__label-arrow\">SVC</label><div class=\"sk-toggleable__content\"><pre>SVC()</pre></div></div></div></div></div></div></div></div></div></div>"
            ]
          },
          "metadata": {},
          "execution_count": 120
        }
      ]
    },
    {
      "cell_type": "code",
      "source": [
        "print(grid_rus.best_estimator_)"
      ],
      "metadata": {
        "colab": {
          "base_uri": "https://localhost:8080/"
        },
        "id": "bV2cbg_qTPHj",
        "outputId": "7a1f7c24-2e32-45fa-931f-3ac0fafe13ce"
      },
      "execution_count": 122,
      "outputs": [
        {
          "output_type": "stream",
          "name": "stdout",
          "text": [
            "SVC(C=1, class_weight='balanced', gamma=1)\n"
          ]
        }
      ]
    },
    {
      "cell_type": "code",
      "source": [
        "grid_predictions_rus = grid_rus.predict(X_test_rus)"
      ],
      "metadata": {
        "id": "VOiE0ixgTrxw"
      },
      "execution_count": 123,
      "outputs": []
    },
    {
      "cell_type": "code",
      "source": [
        "confusion_matrix(y_test_rus,grid_predictions_rus)"
      ],
      "metadata": {
        "colab": {
          "base_uri": "https://localhost:8080/"
        },
        "id": "jzg79itZT7rB",
        "outputId": "96bd7720-5bfc-4285-e357-e1bdc6cc2bad"
      },
      "execution_count": 124,
      "outputs": [
        {
          "output_type": "execute_result",
          "data": {
            "text/plain": [
              "array([[603,   0],\n",
              "       [620,   0]])"
            ]
          },
          "metadata": {},
          "execution_count": 124
        }
      ]
    },
    {
      "cell_type": "code",
      "source": [
        "print(classification_report(y_test_rus,grid_predictions_rus))"
      ],
      "metadata": {
        "colab": {
          "base_uri": "https://localhost:8080/"
        },
        "id": "4adm2T0bUQQs",
        "outputId": "0e217c42-acf2-4c5a-e029-03100c363f65"
      },
      "execution_count": 121,
      "outputs": [
        {
          "output_type": "stream",
          "name": "stdout",
          "text": [
            "              precision    recall  f1-score   support\n",
            "\n",
            "           0       0.49      1.00      0.66       603\n",
            "           1       0.00      0.00      0.00       620\n",
            "\n",
            "    accuracy                           0.49      1223\n",
            "   macro avg       0.25      0.50      0.33      1223\n",
            "weighted avg       0.24      0.49      0.33      1223\n",
            "\n"
          ]
        },
        {
          "output_type": "stream",
          "name": "stderr",
          "text": [
            "/usr/local/lib/python3.10/dist-packages/sklearn/metrics/_classification.py:1344: UndefinedMetricWarning: Precision and F-score are ill-defined and being set to 0.0 in labels with no predicted samples. Use `zero_division` parameter to control this behavior.\n",
            "  _warn_prf(average, modifier, msg_start, len(result))\n",
            "/usr/local/lib/python3.10/dist-packages/sklearn/metrics/_classification.py:1344: UndefinedMetricWarning: Precision and F-score are ill-defined and being set to 0.0 in labels with no predicted samples. Use `zero_division` parameter to control this behavior.\n",
            "  _warn_prf(average, modifier, msg_start, len(result))\n",
            "/usr/local/lib/python3.10/dist-packages/sklearn/metrics/_classification.py:1344: UndefinedMetricWarning: Precision and F-score are ill-defined and being set to 0.0 in labels with no predicted samples. Use `zero_division` parameter to control this behavior.\n",
            "  _warn_prf(average, modifier, msg_start, len(result))\n"
          ]
        }
      ]
    },
    {
      "cell_type": "markdown",
      "source": [
        "#model with Random Over Sampling"
      ],
      "metadata": {
        "id": "vuC236HkVABv"
      }
    },
    {
      "cell_type": "code",
      "source": [
        "svc_ros = SVC()"
      ],
      "metadata": {
        "id": "20cMiGxXUugQ"
      },
      "execution_count": 108,
      "outputs": []
    },
    {
      "cell_type": "code",
      "source": [
        "svc_ros.fit(X_train_ros, y_train_ros)"
      ],
      "metadata": {
        "colab": {
          "base_uri": "https://localhost:8080/",
          "height": 74
        },
        "id": "R281tqA1VTZN",
        "outputId": "d9861962-731e-4c82-8ba1-39bcefb3bafd"
      },
      "execution_count": 109,
      "outputs": [
        {
          "output_type": "execute_result",
          "data": {
            "text/plain": [
              "SVC()"
            ],
            "text/html": [
              "<style>#sk-container-id-5 {color: black;background-color: white;}#sk-container-id-5 pre{padding: 0;}#sk-container-id-5 div.sk-toggleable {background-color: white;}#sk-container-id-5 label.sk-toggleable__label {cursor: pointer;display: block;width: 100%;margin-bottom: 0;padding: 0.3em;box-sizing: border-box;text-align: center;}#sk-container-id-5 label.sk-toggleable__label-arrow:before {content: \"▸\";float: left;margin-right: 0.25em;color: #696969;}#sk-container-id-5 label.sk-toggleable__label-arrow:hover:before {color: black;}#sk-container-id-5 div.sk-estimator:hover label.sk-toggleable__label-arrow:before {color: black;}#sk-container-id-5 div.sk-toggleable__content {max-height: 0;max-width: 0;overflow: hidden;text-align: left;background-color: #f0f8ff;}#sk-container-id-5 div.sk-toggleable__content pre {margin: 0.2em;color: black;border-radius: 0.25em;background-color: #f0f8ff;}#sk-container-id-5 input.sk-toggleable__control:checked~div.sk-toggleable__content {max-height: 200px;max-width: 100%;overflow: auto;}#sk-container-id-5 input.sk-toggleable__control:checked~label.sk-toggleable__label-arrow:before {content: \"▾\";}#sk-container-id-5 div.sk-estimator input.sk-toggleable__control:checked~label.sk-toggleable__label {background-color: #d4ebff;}#sk-container-id-5 div.sk-label input.sk-toggleable__control:checked~label.sk-toggleable__label {background-color: #d4ebff;}#sk-container-id-5 input.sk-hidden--visually {border: 0;clip: rect(1px 1px 1px 1px);clip: rect(1px, 1px, 1px, 1px);height: 1px;margin: -1px;overflow: hidden;padding: 0;position: absolute;width: 1px;}#sk-container-id-5 div.sk-estimator {font-family: monospace;background-color: #f0f8ff;border: 1px dotted black;border-radius: 0.25em;box-sizing: border-box;margin-bottom: 0.5em;}#sk-container-id-5 div.sk-estimator:hover {background-color: #d4ebff;}#sk-container-id-5 div.sk-parallel-item::after {content: \"\";width: 100%;border-bottom: 1px solid gray;flex-grow: 1;}#sk-container-id-5 div.sk-label:hover label.sk-toggleable__label {background-color: #d4ebff;}#sk-container-id-5 div.sk-serial::before {content: \"\";position: absolute;border-left: 1px solid gray;box-sizing: border-box;top: 0;bottom: 0;left: 50%;z-index: 0;}#sk-container-id-5 div.sk-serial {display: flex;flex-direction: column;align-items: center;background-color: white;padding-right: 0.2em;padding-left: 0.2em;position: relative;}#sk-container-id-5 div.sk-item {position: relative;z-index: 1;}#sk-container-id-5 div.sk-parallel {display: flex;align-items: stretch;justify-content: center;background-color: white;position: relative;}#sk-container-id-5 div.sk-item::before, #sk-container-id-5 div.sk-parallel-item::before {content: \"\";position: absolute;border-left: 1px solid gray;box-sizing: border-box;top: 0;bottom: 0;left: 50%;z-index: -1;}#sk-container-id-5 div.sk-parallel-item {display: flex;flex-direction: column;z-index: 1;position: relative;background-color: white;}#sk-container-id-5 div.sk-parallel-item:first-child::after {align-self: flex-end;width: 50%;}#sk-container-id-5 div.sk-parallel-item:last-child::after {align-self: flex-start;width: 50%;}#sk-container-id-5 div.sk-parallel-item:only-child::after {width: 0;}#sk-container-id-5 div.sk-dashed-wrapped {border: 1px dashed gray;margin: 0 0.4em 0.5em 0.4em;box-sizing: border-box;padding-bottom: 0.4em;background-color: white;}#sk-container-id-5 div.sk-label label {font-family: monospace;font-weight: bold;display: inline-block;line-height: 1.2em;}#sk-container-id-5 div.sk-label-container {text-align: center;}#sk-container-id-5 div.sk-container {/* jupyter's `normalize.less` sets `[hidden] { display: none; }` but bootstrap.min.css set `[hidden] { display: none !important; }` so we also need the `!important` here to be able to override the default hidden behavior on the sphinx rendered scikit-learn.org. See: https://github.com/scikit-learn/scikit-learn/issues/21755 */display: inline-block !important;position: relative;}#sk-container-id-5 div.sk-text-repr-fallback {display: none;}</style><div id=\"sk-container-id-5\" class=\"sk-top-container\"><div class=\"sk-text-repr-fallback\"><pre>SVC()</pre><b>In a Jupyter environment, please rerun this cell to show the HTML representation or trust the notebook. <br />On GitHub, the HTML representation is unable to render, please try loading this page with nbviewer.org.</b></div><div class=\"sk-container\" hidden><div class=\"sk-item\"><div class=\"sk-estimator sk-toggleable\"><input class=\"sk-toggleable__control sk-hidden--visually\" id=\"sk-estimator-id-9\" type=\"checkbox\" checked><label for=\"sk-estimator-id-9\" class=\"sk-toggleable__label sk-toggleable__label-arrow\">SVC</label><div class=\"sk-toggleable__content\"><pre>SVC()</pre></div></div></div></div></div>"
            ]
          },
          "metadata": {},
          "execution_count": 109
        }
      ]
    },
    {
      "cell_type": "code",
      "source": [
        "y_pred_ros = svc_ros.predict(X_test_ros)"
      ],
      "metadata": {
        "id": "KpmUPLs5VhuA"
      },
      "execution_count": 110,
      "outputs": []
    },
    {
      "cell_type": "markdown",
      "source": [
        "#Model Accuracy"
      ],
      "metadata": {
        "id": "9Ej93OWiV4F6"
      }
    },
    {
      "cell_type": "code",
      "source": [
        "confusion_matrix(y_test_ros, y_pred_ros)"
      ],
      "metadata": {
        "colab": {
          "base_uri": "https://localhost:8080/"
        },
        "id": "zAsuqky_V0OG",
        "outputId": "94b10e43-fcc5-4d71-e17a-89b13340ea8b"
      },
      "execution_count": 111,
      "outputs": [
        {
          "output_type": "execute_result",
          "data": {
            "text/plain": [
              "array([[2426,    0],\n",
              "       [2352,    0]])"
            ]
          },
          "metadata": {},
          "execution_count": 111
        }
      ]
    },
    {
      "cell_type": "code",
      "source": [
        "print(classification_report(y_test_ros, y_pred_ros))"
      ],
      "metadata": {
        "colab": {
          "base_uri": "https://localhost:8080/"
        },
        "id": "9xxpvw6JWINu",
        "outputId": "6ef2742d-9109-454f-b4ac-98c48dc4746a"
      },
      "execution_count": 112,
      "outputs": [
        {
          "output_type": "stream",
          "name": "stdout",
          "text": [
            "              precision    recall  f1-score   support\n",
            "\n",
            "           0       0.51      1.00      0.67      2426\n",
            "           1       0.00      0.00      0.00      2352\n",
            "\n",
            "    accuracy                           0.51      4778\n",
            "   macro avg       0.25      0.50      0.34      4778\n",
            "weighted avg       0.26      0.51      0.34      4778\n",
            "\n"
          ]
        },
        {
          "output_type": "stream",
          "name": "stderr",
          "text": [
            "/usr/local/lib/python3.10/dist-packages/sklearn/metrics/_classification.py:1344: UndefinedMetricWarning: Precision and F-score are ill-defined and being set to 0.0 in labels with no predicted samples. Use `zero_division` parameter to control this behavior.\n",
            "  _warn_prf(average, modifier, msg_start, len(result))\n",
            "/usr/local/lib/python3.10/dist-packages/sklearn/metrics/_classification.py:1344: UndefinedMetricWarning: Precision and F-score are ill-defined and being set to 0.0 in labels with no predicted samples. Use `zero_division` parameter to control this behavior.\n",
            "  _warn_prf(average, modifier, msg_start, len(result))\n",
            "/usr/local/lib/python3.10/dist-packages/sklearn/metrics/_classification.py:1344: UndefinedMetricWarning: Precision and F-score are ill-defined and being set to 0.0 in labels with no predicted samples. Use `zero_division` parameter to control this behavior.\n",
            "  _warn_prf(average, modifier, msg_start, len(result))\n"
          ]
        }
      ]
    },
    {
      "cell_type": "markdown",
      "source": [
        "#Hyperparameter Tunning"
      ],
      "metadata": {
        "id": "Z9KcvN42WaSI"
      }
    },
    {
      "cell_type": "code",
      "source": [
        "param_grid = {'C': [0.1,1, 10],\n",
        "              'gamma': [1,0.1,0.01],\n",
        "              'kernel': ['rbf'],\n",
        "              'class_weight' : ['balanced']\n",
        "\n",
        "              }"
      ],
      "metadata": {
        "id": "5Si8WcZvWXGn"
      },
      "execution_count": 125,
      "outputs": []
    },
    {
      "cell_type": "code",
      "source": [
        "grid_ros = GridSearchCV(SVC(),param_grid,refit=True,verbose=2, cv = 2)\n",
        "grid_ros.fit(X_train_ros,y_train_ros)"
      ],
      "metadata": {
        "colab": {
          "base_uri": "https://localhost:8080/",
          "height": 446
        },
        "id": "rvdlRxdpWuw5",
        "outputId": "659a70f4-acb0-46fa-cc84-cb3032580257"
      },
      "execution_count": 126,
      "outputs": [
        {
          "output_type": "stream",
          "name": "stdout",
          "text": [
            "Fitting 2 folds for each of 9 candidates, totalling 18 fits\n",
            "[CV] END ..C=0.1, class_weight=balanced, gamma=1, kernel=rbf; total time=   4.1s\n",
            "[CV] END ..C=0.1, class_weight=balanced, gamma=1, kernel=rbf; total time=   5.3s\n",
            "[CV] END C=0.1, class_weight=balanced, gamma=0.1, kernel=rbf; total time=   4.2s\n",
            "[CV] END C=0.1, class_weight=balanced, gamma=0.1, kernel=rbf; total time=   4.1s\n",
            "[CV] END C=0.1, class_weight=balanced, gamma=0.01, kernel=rbf; total time=   5.6s\n",
            "[CV] END C=0.1, class_weight=balanced, gamma=0.01, kernel=rbf; total time=   4.2s\n",
            "[CV] END ....C=1, class_weight=balanced, gamma=1, kernel=rbf; total time=   4.3s\n",
            "[CV] END ....C=1, class_weight=balanced, gamma=1, kernel=rbf; total time=   5.5s\n",
            "[CV] END ..C=1, class_weight=balanced, gamma=0.1, kernel=rbf; total time=   4.1s\n",
            "[CV] END ..C=1, class_weight=balanced, gamma=0.1, kernel=rbf; total time=   4.1s\n",
            "[CV] END .C=1, class_weight=balanced, gamma=0.01, kernel=rbf; total time=   5.5s\n",
            "[CV] END .C=1, class_weight=balanced, gamma=0.01, kernel=rbf; total time=   4.1s\n",
            "[CV] END ...C=10, class_weight=balanced, gamma=1, kernel=rbf; total time=   3.5s\n",
            "[CV] END ...C=10, class_weight=balanced, gamma=1, kernel=rbf; total time=   4.9s\n",
            "[CV] END .C=10, class_weight=balanced, gamma=0.1, kernel=rbf; total time=   3.6s\n",
            "[CV] END .C=10, class_weight=balanced, gamma=0.1, kernel=rbf; total time=   3.5s\n",
            "[CV] END C=10, class_weight=balanced, gamma=0.01, kernel=rbf; total time=   5.2s\n",
            "[CV] END C=10, class_weight=balanced, gamma=0.01, kernel=rbf; total time=   4.8s\n"
          ]
        },
        {
          "output_type": "execute_result",
          "data": {
            "text/plain": [
              "GridSearchCV(cv=2, estimator=SVC(),\n",
              "             param_grid={'C': [0.1, 1, 10], 'class_weight': ['balanced'],\n",
              "                         'gamma': [1, 0.1, 0.01], 'kernel': ['rbf']},\n",
              "             verbose=2)"
            ],
            "text/html": [
              "<style>#sk-container-id-8 {color: black;background-color: white;}#sk-container-id-8 pre{padding: 0;}#sk-container-id-8 div.sk-toggleable {background-color: white;}#sk-container-id-8 label.sk-toggleable__label {cursor: pointer;display: block;width: 100%;margin-bottom: 0;padding: 0.3em;box-sizing: border-box;text-align: center;}#sk-container-id-8 label.sk-toggleable__label-arrow:before {content: \"▸\";float: left;margin-right: 0.25em;color: #696969;}#sk-container-id-8 label.sk-toggleable__label-arrow:hover:before {color: black;}#sk-container-id-8 div.sk-estimator:hover label.sk-toggleable__label-arrow:before {color: black;}#sk-container-id-8 div.sk-toggleable__content {max-height: 0;max-width: 0;overflow: hidden;text-align: left;background-color: #f0f8ff;}#sk-container-id-8 div.sk-toggleable__content pre {margin: 0.2em;color: black;border-radius: 0.25em;background-color: #f0f8ff;}#sk-container-id-8 input.sk-toggleable__control:checked~div.sk-toggleable__content {max-height: 200px;max-width: 100%;overflow: auto;}#sk-container-id-8 input.sk-toggleable__control:checked~label.sk-toggleable__label-arrow:before {content: \"▾\";}#sk-container-id-8 div.sk-estimator input.sk-toggleable__control:checked~label.sk-toggleable__label {background-color: #d4ebff;}#sk-container-id-8 div.sk-label input.sk-toggleable__control:checked~label.sk-toggleable__label {background-color: #d4ebff;}#sk-container-id-8 input.sk-hidden--visually {border: 0;clip: rect(1px 1px 1px 1px);clip: rect(1px, 1px, 1px, 1px);height: 1px;margin: -1px;overflow: hidden;padding: 0;position: absolute;width: 1px;}#sk-container-id-8 div.sk-estimator {font-family: monospace;background-color: #f0f8ff;border: 1px dotted black;border-radius: 0.25em;box-sizing: border-box;margin-bottom: 0.5em;}#sk-container-id-8 div.sk-estimator:hover {background-color: #d4ebff;}#sk-container-id-8 div.sk-parallel-item::after {content: \"\";width: 100%;border-bottom: 1px solid gray;flex-grow: 1;}#sk-container-id-8 div.sk-label:hover label.sk-toggleable__label {background-color: #d4ebff;}#sk-container-id-8 div.sk-serial::before {content: \"\";position: absolute;border-left: 1px solid gray;box-sizing: border-box;top: 0;bottom: 0;left: 50%;z-index: 0;}#sk-container-id-8 div.sk-serial {display: flex;flex-direction: column;align-items: center;background-color: white;padding-right: 0.2em;padding-left: 0.2em;position: relative;}#sk-container-id-8 div.sk-item {position: relative;z-index: 1;}#sk-container-id-8 div.sk-parallel {display: flex;align-items: stretch;justify-content: center;background-color: white;position: relative;}#sk-container-id-8 div.sk-item::before, #sk-container-id-8 div.sk-parallel-item::before {content: \"\";position: absolute;border-left: 1px solid gray;box-sizing: border-box;top: 0;bottom: 0;left: 50%;z-index: -1;}#sk-container-id-8 div.sk-parallel-item {display: flex;flex-direction: column;z-index: 1;position: relative;background-color: white;}#sk-container-id-8 div.sk-parallel-item:first-child::after {align-self: flex-end;width: 50%;}#sk-container-id-8 div.sk-parallel-item:last-child::after {align-self: flex-start;width: 50%;}#sk-container-id-8 div.sk-parallel-item:only-child::after {width: 0;}#sk-container-id-8 div.sk-dashed-wrapped {border: 1px dashed gray;margin: 0 0.4em 0.5em 0.4em;box-sizing: border-box;padding-bottom: 0.4em;background-color: white;}#sk-container-id-8 div.sk-label label {font-family: monospace;font-weight: bold;display: inline-block;line-height: 1.2em;}#sk-container-id-8 div.sk-label-container {text-align: center;}#sk-container-id-8 div.sk-container {/* jupyter's `normalize.less` sets `[hidden] { display: none; }` but bootstrap.min.css set `[hidden] { display: none !important; }` so we also need the `!important` here to be able to override the default hidden behavior on the sphinx rendered scikit-learn.org. See: https://github.com/scikit-learn/scikit-learn/issues/21755 */display: inline-block !important;position: relative;}#sk-container-id-8 div.sk-text-repr-fallback {display: none;}</style><div id=\"sk-container-id-8\" class=\"sk-top-container\"><div class=\"sk-text-repr-fallback\"><pre>GridSearchCV(cv=2, estimator=SVC(),\n",
              "             param_grid={&#x27;C&#x27;: [0.1, 1, 10], &#x27;class_weight&#x27;: [&#x27;balanced&#x27;],\n",
              "                         &#x27;gamma&#x27;: [1, 0.1, 0.01], &#x27;kernel&#x27;: [&#x27;rbf&#x27;]},\n",
              "             verbose=2)</pre><b>In a Jupyter environment, please rerun this cell to show the HTML representation or trust the notebook. <br />On GitHub, the HTML representation is unable to render, please try loading this page with nbviewer.org.</b></div><div class=\"sk-container\" hidden><div class=\"sk-item sk-dashed-wrapped\"><div class=\"sk-label-container\"><div class=\"sk-label sk-toggleable\"><input class=\"sk-toggleable__control sk-hidden--visually\" id=\"sk-estimator-id-16\" type=\"checkbox\" ><label for=\"sk-estimator-id-16\" class=\"sk-toggleable__label sk-toggleable__label-arrow\">GridSearchCV</label><div class=\"sk-toggleable__content\"><pre>GridSearchCV(cv=2, estimator=SVC(),\n",
              "             param_grid={&#x27;C&#x27;: [0.1, 1, 10], &#x27;class_weight&#x27;: [&#x27;balanced&#x27;],\n",
              "                         &#x27;gamma&#x27;: [1, 0.1, 0.01], &#x27;kernel&#x27;: [&#x27;rbf&#x27;]},\n",
              "             verbose=2)</pre></div></div></div><div class=\"sk-parallel\"><div class=\"sk-parallel-item\"><div class=\"sk-item\"><div class=\"sk-label-container\"><div class=\"sk-label sk-toggleable\"><input class=\"sk-toggleable__control sk-hidden--visually\" id=\"sk-estimator-id-17\" type=\"checkbox\" ><label for=\"sk-estimator-id-17\" class=\"sk-toggleable__label sk-toggleable__label-arrow\">estimator: SVC</label><div class=\"sk-toggleable__content\"><pre>SVC()</pre></div></div></div><div class=\"sk-serial\"><div class=\"sk-item\"><div class=\"sk-estimator sk-toggleable\"><input class=\"sk-toggleable__control sk-hidden--visually\" id=\"sk-estimator-id-18\" type=\"checkbox\" ><label for=\"sk-estimator-id-18\" class=\"sk-toggleable__label sk-toggleable__label-arrow\">SVC</label><div class=\"sk-toggleable__content\"><pre>SVC()</pre></div></div></div></div></div></div></div></div></div></div>"
            ]
          },
          "metadata": {},
          "execution_count": 126
        }
      ]
    },
    {
      "cell_type": "code",
      "source": [
        "print(grid_ros.best_estimator_)"
      ],
      "metadata": {
        "colab": {
          "base_uri": "https://localhost:8080/"
        },
        "id": "zC9QaK22W6TZ",
        "outputId": "eefe95a3-0275-4579-db35-18b8dea58bad"
      },
      "execution_count": 115,
      "outputs": [
        {
          "output_type": "stream",
          "name": "stdout",
          "text": [
            "SVC(C=1, class_weight='balanced', gamma=1)\n"
          ]
        }
      ]
    },
    {
      "cell_type": "code",
      "source": [
        "grid_predictions_ros = grid_ros.predict(X_test_ros)"
      ],
      "metadata": {
        "id": "hIvHXrEqXCGr"
      },
      "execution_count": 116,
      "outputs": []
    },
    {
      "cell_type": "code",
      "source": [
        "confusion_matrix(y_test_ros,grid_predictions_ros)"
      ],
      "metadata": {
        "colab": {
          "base_uri": "https://localhost:8080/"
        },
        "id": "0KzyfZyPXLv-",
        "outputId": "98cdadeb-0940-4f6e-d88a-7667dd0e2cbf"
      },
      "execution_count": 117,
      "outputs": [
        {
          "output_type": "execute_result",
          "data": {
            "text/plain": [
              "array([[2426,    0],\n",
              "       [2352,    0]])"
            ]
          },
          "metadata": {},
          "execution_count": 117
        }
      ]
    },
    {
      "cell_type": "code",
      "source": [
        "print(classification_report(y_test_ros,grid_predictions_ros))"
      ],
      "metadata": {
        "colab": {
          "base_uri": "https://localhost:8080/"
        },
        "id": "gm96KFq1XS5T",
        "outputId": "12b04201-9941-4976-959e-91caf14ad5d9"
      },
      "execution_count": 118,
      "outputs": [
        {
          "output_type": "stream",
          "name": "stdout",
          "text": [
            "              precision    recall  f1-score   support\n",
            "\n",
            "           0       0.51      1.00      0.67      2426\n",
            "           1       0.00      0.00      0.00      2352\n",
            "\n",
            "    accuracy                           0.51      4778\n",
            "   macro avg       0.25      0.50      0.34      4778\n",
            "weighted avg       0.26      0.51      0.34      4778\n",
            "\n"
          ]
        },
        {
          "output_type": "stream",
          "name": "stderr",
          "text": [
            "/usr/local/lib/python3.10/dist-packages/sklearn/metrics/_classification.py:1344: UndefinedMetricWarning: Precision and F-score are ill-defined and being set to 0.0 in labels with no predicted samples. Use `zero_division` parameter to control this behavior.\n",
            "  _warn_prf(average, modifier, msg_start, len(result))\n",
            "/usr/local/lib/python3.10/dist-packages/sklearn/metrics/_classification.py:1344: UndefinedMetricWarning: Precision and F-score are ill-defined and being set to 0.0 in labels with no predicted samples. Use `zero_division` parameter to control this behavior.\n",
            "  _warn_prf(average, modifier, msg_start, len(result))\n",
            "/usr/local/lib/python3.10/dist-packages/sklearn/metrics/_classification.py:1344: UndefinedMetricWarning: Precision and F-score are ill-defined and being set to 0.0 in labels with no predicted samples. Use `zero_division` parameter to control this behavior.\n",
            "  _warn_prf(average, modifier, msg_start, len(result))\n"
          ]
        }
      ]
    },
    {
      "cell_type": "code",
      "source": [],
      "metadata": {
        "id": "j0ZUkE5gXa00"
      },
      "execution_count": null,
      "outputs": []
    }
  ]
}